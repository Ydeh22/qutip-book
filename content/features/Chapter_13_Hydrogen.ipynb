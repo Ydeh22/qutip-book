{
  "cells": [
    {
      "cell_type": "markdown",
      "source": [
        "# Hydrogen functions\n",
        "Start with some imports fro Symbolic Python library:"
      ],
      "metadata": {}
    },
    {
      "cell_type": "code",
      "source": [
        "from sympy.physics.hydrogen import R_nl\n",
        "from sympy.functions.special.spherical_harmonics import Ynm\n",
        "from sympy import *"
      ],
      "outputs": [],
      "execution_count": 1,
      "metadata": {}
    },
    {
      "cell_type": "markdown",
      "source": [
        "Define some variables, radial, polar, azimuthal, time, and two frequencies:"
      ],
      "metadata": {}
    },
    {
      "cell_type": "code",
      "source": [
        "var(\"r theta phi t w1 w2\")"
      ],
      "outputs": [
        {
          "output_type": "execute_result",
          "execution_count": 2,
          "data": {
            "text/plain": [
              "(r, theta, phi, t, w1, w2)"
            ]
          },
          "metadata": {}
        }
      ],
      "execution_count": 2,
      "metadata": {}
    },
    {
      "cell_type": "markdown",
      "source": [
        "## Look at a few of the radial equations and the spherical harmonics\n",
        "Notice that instead of Ylm the name is Ynm... the arguments to the function are still the quantum numbers `l` and `m`"
      ],
      "metadata": {}
    },
    {
      "cell_type": "code",
      "source": [
        "R_nl(1, 0, r, 1)  # the n = 1, l = 0 radial function"
      ],
      "outputs": [
        {
          "output_type": "execute_result",
          "execution_count": 3,
          "data": {
            "text/plain": [
              "2*exp(-r)"
            ],
            "text/latex": [
              "$\\displaystyle 2 e^{- r}$"
            ]
          },
          "metadata": {}
        }
      ],
      "execution_count": 3,
      "metadata": {}
    },
    {
      "cell_type": "code",
      "source": [
        "Ynm(0,0,theta,phi).expand(func=True)  # the l = 0, m = 0 spherical harmonic"
      ],
      "outputs": [
        {
          "output_type": "execute_result",
          "execution_count": 4,
          "data": {
            "text/plain": [
              "1/(2*sqrt(pi))"
            ],
            "text/latex": [
              "$\\displaystyle \\frac{1}{2 \\sqrt{\\pi}}$"
            ]
          },
          "metadata": {}
        }
      ],
      "execution_count": 4,
      "metadata": {}
    },
    {
      "cell_type": "markdown",
      "source": [
        "Write the equation for the $|nlm\\rangle = |100\\rangle$ state. Use the sympy method `.expand(func=True)` to convert to the actual expression. To create this state, we combine the Radial function and the Ylm function. Make sure to set n, l, and m to the correct values. The fourth argument to `R_nl` is `Z` which we set to 1 since we are talking about a 1-proton nucleus.\n",
        "\n",
        "The combination of R_nl and Ynm should look like the following (replace N, L, and M with the appropriate values):\n",
        "\n",
        "`R_nl(N, L, r, 1)*Ynm(L, M, theta, phi).expand(func=True)`"
      ],
      "metadata": {}
    },
    {
      "cell_type": "code",
      "source": [
        "# this is the |100> state:\n",
        "psi100 = R_nl(1, 0, r, 1)*Ynm(0,0,theta,phi).expand(func=True)"
      ],
      "outputs": [],
      "execution_count": 5,
      "metadata": {}
    },
    {
      "cell_type": "code",
      "source": [
        "psi100  # check to see how it looks as an expression"
      ],
      "outputs": [
        {
          "output_type": "execute_result",
          "execution_count": 6,
          "data": {
            "text/plain": [
              "exp(-r)/sqrt(pi)"
            ],
            "text/latex": [
              "$\\displaystyle \\frac{e^{- r}}{\\sqrt{\\pi}}$"
            ]
          },
          "metadata": {}
        }
      ],
      "execution_count": 6,
      "metadata": {}
    },
    {
      "cell_type": "markdown",
      "source": [
        "## Integrating over all space\n",
        "Remember spherical coordinate integrals of function $f(r,\\theta,\\phi)$ over all space look like: $$\\int_0^\\infty\\int_0^\\pi\\int_0^{2\\pi}r^2\\sin(\\theta)drd\\theta d\\phi \\,\\,f(r,\\theta,\\phi)$$ so you alwasy need to add a factor of `r**2*sin(theta)` and then integrate `r` from 0 to infinity, `theta` from $0-\\pi$ and `phi` from $0-2\\pi$. As a check, you should integrate the square of the `psi100` wavefunction over all space to see that it equals 1 (i.e. it is normalized)"
      ],
      "metadata": {}
    },
    {
      "cell_type": "code",
      "source": [
        "integrate(r**2*sin(theta) * (psi100)**2 ,(r,0,oo),(theta,0,pi),(phi,0,2*pi))"
      ],
      "outputs": [
        {
          "output_type": "execute_result",
          "execution_count": 7,
          "data": {
            "text/plain": [
              "1"
            ],
            "text/latex": [
              "$\\displaystyle 1$"
            ]
          },
          "metadata": {}
        }
      ],
      "execution_count": 7,
      "metadata": {}
    },
    {
      "cell_type": "markdown",
      "source": [
        "## Now do the $|210\\rangle$ state:"
      ],
      "metadata": {}
    },
    {
      "cell_type": "code",
      "source": [
        "psi210 = R_nl(2, 1, r, 1)*Ynm(1,0,theta,phi).expand(func=True)"
      ],
      "outputs": [],
      "execution_count": 8,
      "metadata": {}
    },
    {
      "cell_type": "code",
      "source": [
        "psi210  # check how it looks"
      ],
      "outputs": [
        {
          "output_type": "execute_result",
          "execution_count": 9,
          "data": {
            "text/plain": [
              "sqrt(2)*r*exp(-r/2)*cos(theta)/(8*sqrt(pi))"
            ],
            "text/latex": [
              "$\\displaystyle \\frac{\\sqrt{2} r e^{- \\frac{r}{2}} \\cos{\\left(\\theta \\right)}}{8 \\sqrt{\\pi}}$"
            ]
          },
          "metadata": {}
        }
      ],
      "execution_count": 9,
      "metadata": {}
    },
    {
      "cell_type": "markdown",
      "source": [
        "Note, if you compare these to listed solutions (for example at http://hyperphysics.phy-astr.gsu.edu/hbase/quantum/hydwf.html#c3) you see that there are not any factors of $a_0$. This is because the `R_nl` function is defined in units of $a_0$. $a_0$ is the Bohr Radius: http://en.wikipedia.org/wiki/Bohr_radius"
      ],
      "metadata": {}
    },
    {
      "cell_type": "code",
      "source": [
        "psi211 = R_nl(2, 1, r, 1)*Ynm(1,1,theta,phi).expand(func=True)\n",
        "psi211"
      ],
      "outputs": [
        {
          "output_type": "execute_result",
          "execution_count": 10,
          "data": {
            "text/plain": [
              "-r*exp(-r/2)*exp(I*phi)*sin(theta)/(8*sqrt(pi))"
            ],
            "text/latex": [
              "$\\displaystyle - \\frac{r e^{- \\frac{r}{2}} e^{i \\phi} \\sin{\\left(\\theta \\right)}}{8 \\sqrt{\\pi}}$"
            ]
          },
          "metadata": {}
        }
      ],
      "execution_count": 10,
      "metadata": {}
    },
    {
      "cell_type": "markdown",
      "source": [
        "## Now calculate $\\langle z \\rangle$:\n",
        "To calculate $\\langle z \\rangle$ we need to convert to spherical coordinates: $z = r\\cos\\theta$. The terms in the following integral are the $r^2\\sin\\theta$ then $z$ (in spherical coords) then the wave function squared."
      ],
      "metadata": {}
    },
    {
      "cell_type": "code",
      "source": [
        "expect = integrate(r**2*sin(theta)* (r*cos(theta)) * (psi100*psi100),(r,0,oo),(theta,0,pi),(phi,0,2*pi))"
      ],
      "outputs": [],
      "execution_count": 11,
      "metadata": {}
    },
    {
      "cell_type": "code",
      "source": [
        "expect"
      ],
      "outputs": [
        {
          "output_type": "execute_result",
          "execution_count": 12,
          "data": {
            "text/plain": [
              "0"
            ],
            "text/latex": [
              "$\\displaystyle 0$"
            ]
          },
          "metadata": {}
        }
      ],
      "execution_count": 12,
      "metadata": {}
    },
    {
      "cell_type": "markdown",
      "source": [
        "No surprise, the average z position of the electron in the hydrogen atom is 0."
      ],
      "metadata": {}
    },
    {
      "cell_type": "markdown",
      "source": [
        "## Now for problem 13.21\n",
        "find $\\langle z \\rangle(t)$. Use the same integral, but add a time-dependent piece to each term in the wavefunction, add them together and multiply by the complex conjugate."
      ],
      "metadata": {}
    },
    {
      "cell_type": "code",
      "source": [
        "psi = 1/sqrt(2)*(psi100*exp(1j*w1*t) + psi210*exp(1j*w2*t))\n",
        "psi_conj = 1/sqrt(2)*(psi100*exp(-1j*w1*t) + psi210*exp(-1j*w2*t))"
      ],
      "outputs": [],
      "execution_count": 13,
      "metadata": {}
    },
    {
      "cell_type": "code",
      "source": [
        "expect2 = integrate(r**2*sin(theta)* (r*cos(theta)) * psi*psi_conj,(r,0,oo),(theta,0,pi),(phi,0,2*pi))"
      ],
      "outputs": [],
      "execution_count": 14,
      "metadata": {}
    },
    {
      "cell_type": "code",
      "source": [
        "expect2"
      ],
      "outputs": [],
      "execution_count": null,
      "metadata": {}
    },
    {
      "cell_type": "markdown",
      "source": [
        "We need to interpret this result. First you should show that this expression is simply a constant amplitude factor times $\\cos((w2-w1)t)$, in other words $\\langle z \\rangle$ oscillates at frequency `w2-w1`."
      ],
      "metadata": {}
    },
    {
      "cell_type": "markdown",
      "source": [
        "## Your assignment:"
      ],
      "metadata": {}
    },
    {
      "cell_type": "markdown",
      "source": [
        "Explore other combinations of states and draw conclusions about the z behavior from the results. You may not be able to get these expressions to simplify, but the important thing is to look for the time dependence and simplify that part."
      ],
      "metadata": {}
    },
    {
      "cell_type": "markdown",
      "source": [
        "- Does $\\langle z \\rangle$ oscillate for any combination of two Hydrogen states $|nlm\\rangle$?\n",
        "- Are there restrictions on what n values give oscillating $\\langle z \\rangle$ expressions? (hint, to keep it simple, always let one state be the n=1 state)\n",
        "- How does $\\langle z \\rangle$ change with different l and m values are used in the state?\n",
        "\n",
        "Hints for interpreting your results:\n",
        "- What are the relavant frequencies in your expression for $\\langle z \\rangle$ and why?\n",
        "- Simplify one of your $\\langle z \\rangle$ expressions and write the time dependence in terms of the frequencies w2 and w1."
      ],
      "metadata": {}
    },
    {
      "cell_type": "code",
      "source": [],
      "outputs": [],
      "execution_count": null,
      "metadata": {}
    }
  ],
  "metadata": {
    "name": "",
    "signature": "sha256:8c5dde116b4c25b75ea6d7c49ea203ac39114b110965f363587072650a95bad5",
    "kernelspec": {
      "name": "python3",
      "language": "python",
      "display_name": "Python 3"
    },
    "kernel_info": {
      "name": "python3"
    },
    "language_info": {
      "name": "python",
      "version": "3.7.4",
      "mimetype": "text/x-python",
      "codemirror_mode": {
        "name": "ipython",
        "version": 3
      },
      "pygments_lexer": "ipython3",
      "nbconvert_exporter": "python",
      "file_extension": ".py"
    },
    "nteract": {
      "version": "0.15.0"
    }
  },
  "nbformat": 4,
  "nbformat_minor": 0
}