{
 "cells": [
  {
   "cell_type": "markdown",
   "metadata": {},
   "source": [
    "# Lab 1 - Vectors and Matrices\n",
    "This notebook demonstrates the use of vectors and matrices in IPython. Note that the basis is not explicit in any of these operations. You must keep track of the basis yourself (using variable names, or notes etc)."
   ]
  },
  {
   "cell_type": "code",
   "execution_count": 1,
   "metadata": {
    "execution": {
     "iopub.execute_input": "2021-02-12T00:28:23.024Z",
     "iopub.status.busy": "2021-02-12T00:28:23.013Z",
     "iopub.status.idle": "2021-02-12T00:28:23.035Z",
     "shell.execute_reply": "2021-02-12T00:28:22.672Z"
    }
   },
   "outputs": [],
   "source": [
    "from numpy import array, dot, outer, sqrt, matrix\n",
    "from numpy.linalg import eig, eigvals\n",
    "from matplotlib.pyplot import hist"
   ]
  },
  {
   "cell_type": "code",
   "execution_count": 2,
   "metadata": {
    "collapsed": true,
    "execution": {
     "iopub.execute_input": "2021-02-12T00:28:23.060Z",
     "iopub.status.busy": "2021-02-12T00:28:23.050Z",
     "iopub.status.idle": "2021-02-12T00:28:23.069Z",
     "shell.execute_reply": "2021-02-12T00:28:22.682Z"
    },
    "jupyter": {
     "outputs_hidden": true
    }
   },
   "outputs": [],
   "source": [
    "%matplotlib inline"
   ]
  },
  {
   "cell_type": "code",
   "execution_count": 3,
   "metadata": {
    "execution": {
     "iopub.execute_input": "2021-02-12T00:28:23.094Z",
     "iopub.status.busy": "2021-02-12T00:28:23.084Z",
     "iopub.status.idle": "2021-02-12T00:28:23.109Z",
     "shell.execute_reply": "2021-02-12T00:28:22.692Z"
    }
   },
   "outputs": [
    {
     "data": {
      "text/plain": [
       "array([1, 2])"
      ]
     },
     "execution_count": 3,
     "metadata": {},
     "output_type": "execute_result"
    }
   ],
   "source": [
    "rv = array([1,2])  # a row vector\n",
    "rv"
   ]
  },
  {
   "cell_type": "code",
   "execution_count": 4,
   "metadata": {
    "execution": {
     "iopub.execute_input": "2021-02-12T00:28:23.134Z",
     "iopub.status.busy": "2021-02-12T00:28:23.124Z",
     "iopub.status.idle": "2021-02-12T00:28:23.151Z",
     "shell.execute_reply": "2021-02-12T00:28:22.704Z"
    }
   },
   "outputs": [
    {
     "data": {
      "text/plain": [
       "array([[3],\n",
       "       [4]])"
      ]
     },
     "execution_count": 4,
     "metadata": {},
     "output_type": "execute_result"
    }
   ],
   "source": [
    "cv = array([[3],[4]])  # a column vector\n",
    "cv"
   ]
  },
  {
   "cell_type": "markdown",
   "metadata": {},
   "source": [
    "Two kinds of vector products we'll see: inner product (dot product) and outer product\n",
    "\n",
    "### 1) Use the function _dot(vector1, vector2)_ to find the dot product of rv and cv. Does the order of the arguments matter?"
   ]
  },
  {
   "cell_type": "code",
   "execution_count": 5,
   "metadata": {
    "execution": {
     "iopub.execute_input": "2021-02-12T00:28:23.175Z",
     "iopub.status.busy": "2021-02-12T00:28:23.166Z",
     "iopub.status.idle": "2021-02-12T00:28:23.191Z",
     "shell.execute_reply": "2021-02-12T00:28:22.715Z"
    }
   },
   "outputs": [
    {
     "data": {
      "text/plain": [
       "array([11])"
      ]
     },
     "execution_count": 5,
     "metadata": {},
     "output_type": "execute_result"
    }
   ],
   "source": [
    "dot(rv,cv)"
   ]
  },
  {
   "cell_type": "code",
   "execution_count": 6,
   "metadata": {
    "execution": {
     "iopub.execute_input": "2021-02-12T00:28:23.216Z",
     "iopub.status.busy": "2021-02-12T00:28:23.206Z",
     "iopub.status.idle": "2021-02-12T00:28:23.232Z",
     "shell.execute_reply": "2021-02-12T00:28:22.727Z"
    }
   },
   "outputs": [
    {
     "name": "stdout",
     "output_type": "stream",
     "text": [
      "shapes (2,1) and (2,) not aligned: 1 (dim 1) != 2 (dim 0)\n"
     ]
    }
   ],
   "source": [
    "try:\n",
    "  dot(cv,rv)\n",
    "except ValueError as err:\n",
    "  print(err)"
   ]
  },
  {
   "cell_type": "markdown",
   "metadata": {},
   "source": [
    "### 2) Use the function _outer(vector1, vector2)_ to find the outer product of rv and cv. Does the order of the arguments matter?"
   ]
  },
  {
   "cell_type": "code",
   "execution_count": 7,
   "metadata": {
    "execution": {
     "iopub.execute_input": "2021-02-12T00:28:23.258Z",
     "iopub.status.busy": "2021-02-12T00:28:23.248Z",
     "iopub.status.idle": "2021-02-12T00:28:23.273Z",
     "shell.execute_reply": "2021-02-12T00:28:22.738Z"
    }
   },
   "outputs": [
    {
     "data": {
      "text/plain": [
       "array([[3, 4],\n",
       "       [6, 8]])"
      ]
     },
     "execution_count": 7,
     "metadata": {},
     "output_type": "execute_result"
    }
   ],
   "source": [
    "outer(rv,cv)"
   ]
  },
  {
   "cell_type": "code",
   "execution_count": 8,
   "metadata": {
    "execution": {
     "iopub.execute_input": "2021-02-12T00:28:23.300Z",
     "iopub.status.busy": "2021-02-12T00:28:23.290Z",
     "iopub.status.idle": "2021-02-12T00:28:23.319Z",
     "shell.execute_reply": "2021-02-12T00:28:22.749Z"
    }
   },
   "outputs": [
    {
     "data": {
      "text/plain": [
       "array([[3, 6],\n",
       "       [4, 8]])"
      ]
     },
     "execution_count": 8,
     "metadata": {},
     "output_type": "execute_result"
    }
   ],
   "source": [
    "outer(cv,rv)"
   ]
  },
  {
   "cell_type": "markdown",
   "metadata": {},
   "source": [
    "## II. Complex vectors"
   ]
  },
  {
   "cell_type": "code",
   "execution_count": 9,
   "metadata": {
    "execution": {
     "iopub.execute_input": "2021-02-12T00:28:23.349Z",
     "iopub.status.busy": "2021-02-12T00:28:23.337Z",
     "iopub.status.idle": "2021-02-12T00:28:23.360Z",
     "shell.execute_reply": "2021-02-12T00:28:22.760Z"
    }
   },
   "outputs": [],
   "source": [
    "# Complex numbers in python have a j term:\n",
    "a = 1+2j"
   ]
  },
  {
   "cell_type": "code",
   "execution_count": 10,
   "metadata": {
    "execution": {
     "iopub.execute_input": "2021-02-12T00:28:23.385Z",
     "iopub.status.busy": "2021-02-12T00:28:23.375Z",
     "iopub.status.idle": "2021-02-12T00:28:23.395Z",
     "shell.execute_reply": "2021-02-12T00:28:22.770Z"
    }
   },
   "outputs": [],
   "source": [
    "v1 = array([1+2j, 3+2j, 5+1j, 4+0j])"
   ]
  },
  {
   "cell_type": "markdown",
   "metadata": {},
   "source": [
    "The complex conjugate changes the sign of the imaginary part:"
   ]
  },
  {
   "cell_type": "code",
   "execution_count": 11,
   "metadata": {
    "execution": {
     "iopub.execute_input": "2021-02-12T00:28:23.419Z",
     "iopub.status.busy": "2021-02-12T00:28:23.410Z",
     "iopub.status.idle": "2021-02-12T00:28:23.437Z",
     "shell.execute_reply": "2021-02-12T00:28:22.780Z"
    }
   },
   "outputs": [
    {
     "data": {
      "text/plain": [
       "array([1.-2.j, 3.-2.j, 5.-1.j, 4.-0.j])"
      ]
     },
     "execution_count": 11,
     "metadata": {},
     "output_type": "execute_result"
    }
   ],
   "source": [
    "v1.conjugate()"
   ]
  },
  {
   "cell_type": "markdown",
   "metadata": {},
   "source": [
    "### 3) Use _dot()_ and _.conjugate()_ to find the dot product of v1 and it's own conjugate:"
   ]
  },
  {
   "cell_type": "code",
   "execution_count": 12,
   "metadata": {
    "execution": {
     "iopub.execute_input": "2021-02-12T00:28:23.463Z",
     "iopub.status.busy": "2021-02-12T00:28:23.453Z",
     "iopub.status.idle": "2021-02-12T00:28:23.480Z",
     "shell.execute_reply": "2021-02-12T00:28:22.790Z"
    }
   },
   "outputs": [
    {
     "data": {
      "text/plain": [
       "(60+0j)"
      ]
     },
     "execution_count": 12,
     "metadata": {},
     "output_type": "execute_result"
    }
   ],
   "source": [
    "dot(v1.conjugate(),v1)"
   ]
  },
  {
   "cell_type": "markdown",
   "metadata": {},
   "source": [
    "## III. Matrices"
   ]
  },
  {
   "cell_type": "code",
   "execution_count": 13,
   "metadata": {
    "execution": {
     "iopub.execute_input": "2021-02-12T00:28:23.505Z",
     "iopub.status.busy": "2021-02-12T00:28:23.495Z",
     "iopub.status.idle": "2021-02-12T00:28:23.521Z",
     "shell.execute_reply": "2021-02-12T00:28:22.800Z"
    }
   },
   "outputs": [
    {
     "data": {
      "text/plain": [
       "array([[2, 1],\n",
       "       [2, 1]])"
      ]
     },
     "execution_count": 13,
     "metadata": {},
     "output_type": "execute_result"
    }
   ],
   "source": [
    "# a two-dimensional array\n",
    "m1 = array([[2,1],[2,1]])\n",
    "m1"
   ]
  },
  {
   "cell_type": "code",
   "execution_count": 14,
   "metadata": {
    "execution": {
     "iopub.execute_input": "2021-02-12T00:28:23.548Z",
     "iopub.status.busy": "2021-02-12T00:28:23.538Z",
     "iopub.status.idle": "2021-02-12T00:28:23.565Z",
     "shell.execute_reply": "2021-02-12T00:28:22.811Z"
    }
   },
   "outputs": [
    {
     "data": {
      "text/plain": [
       "array([[2, 2],\n",
       "       [1, 1]])"
      ]
     },
     "execution_count": 14,
     "metadata": {},
     "output_type": "execute_result"
    }
   ],
   "source": [
    "# can find transpose with the T method:\n",
    "m1.T"
   ]
  },
  {
   "cell_type": "code",
   "execution_count": 15,
   "metadata": {
    "execution": {
     "iopub.execute_input": "2021-02-12T00:28:23.592Z",
     "iopub.status.busy": "2021-02-12T00:28:23.581Z",
     "iopub.status.idle": "2021-02-12T00:28:23.608Z",
     "shell.execute_reply": "2021-02-12T00:28:22.821Z"
    }
   },
   "outputs": [
    {
     "data": {
      "text/plain": [
       "(array([3., 0.]),\n",
       " array([[ 0.70710678, -0.4472136 ],\n",
       "        [ 0.70710678,  0.89442719]]))"
      ]
     },
     "execution_count": 15,
     "metadata": {},
     "output_type": "execute_result"
    }
   ],
   "source": [
    "# find the eigenvalues and eigenvectors of a matrix:\n",
    "eig(m1)"
   ]
  },
  {
   "cell_type": "markdown",
   "metadata": {},
   "source": [
    "Can also use the `matrix` type which is like array but restricts to 2D. Also, `matrix` adds `.H` and `.I` methods for hermitian and inverse, respectively. For more information, see Stack Overflow question [#4151128](http://stackoverflow.com/questions/4151128/what-are-the-differences-between-numpy-arrays-and-matrices-which-one-should-i-u)"
   ]
  },
  {
   "cell_type": "code",
   "execution_count": 16,
   "metadata": {
    "execution": {
     "iopub.execute_input": "2021-02-12T00:28:23.633Z",
     "iopub.status.busy": "2021-02-12T00:28:23.623Z",
     "iopub.status.idle": "2021-02-12T00:28:23.645Z",
     "shell.execute_reply": "2021-02-12T00:28:22.831Z"
    }
   },
   "outputs": [],
   "source": [
    "m2 = matrix( [[2,1],[2,1]])"
   ]
  },
  {
   "cell_type": "code",
   "execution_count": 17,
   "metadata": {
    "execution": {
     "iopub.execute_input": "2021-02-12T00:28:23.670Z",
     "iopub.status.busy": "2021-02-12T00:28:23.660Z",
     "iopub.status.idle": "2021-02-12T00:28:23.690Z",
     "shell.execute_reply": "2021-02-12T00:28:22.841Z"
    }
   },
   "outputs": [
    {
     "data": {
      "text/plain": [
       "matrix([[2, 2],\n",
       "        [1, 1]])"
      ]
     },
     "execution_count": 17,
     "metadata": {},
     "output_type": "execute_result"
    }
   ],
   "source": [
    "m2.H"
   ]
  },
  {
   "cell_type": "code",
   "execution_count": 18,
   "metadata": {
    "execution": {
     "iopub.execute_input": "2021-02-12T00:28:23.718Z",
     "iopub.status.busy": "2021-02-12T00:28:23.706Z",
     "iopub.status.idle": "2021-02-12T00:28:23.734Z",
     "shell.execute_reply": "2021-02-12T00:28:22.851Z"
    }
   },
   "outputs": [
    {
     "data": {
      "text/plain": [
       "(array([3., 0.]),\n",
       " matrix([[ 0.70710678, -0.4472136 ],\n",
       "         [ 0.70710678,  0.89442719]]))"
      ]
     },
     "execution_count": 18,
     "metadata": {},
     "output_type": "execute_result"
    }
   ],
   "source": [
    "eig(m2)"
   ]
  },
  {
   "cell_type": "code",
   "execution_count": 19,
   "metadata": {
    "execution": {
     "iopub.execute_input": "2021-02-12T00:28:23.766Z",
     "iopub.status.busy": "2021-02-12T00:28:23.749Z",
     "iopub.status.idle": "2021-02-12T00:28:23.784Z",
     "shell.execute_reply": "2021-02-12T00:28:22.866Z"
    }
   },
   "outputs": [],
   "source": [
    "# use a question mark to get help on a command\n",
    "eig?"
   ]
  },
  {
   "cell_type": "markdown",
   "metadata": {},
   "source": [
    "# Examples:\n",
    "## Example 1.4\n",
    "Find the eigenvalues and eigenvectors of M = ([0,1],[-2,3]])"
   ]
  },
  {
   "cell_type": "code",
   "execution_count": 20,
   "metadata": {
    "execution": {
     "iopub.execute_input": "2021-02-12T00:28:23.825Z",
     "iopub.status.busy": "2021-02-12T00:28:23.806Z",
     "iopub.status.idle": "2021-02-12T00:28:23.849Z",
     "shell.execute_reply": "2021-02-12T00:28:22.877Z"
    }
   },
   "outputs": [],
   "source": [
    "M14 = array([[0,1],[-2,3]])"
   ]
  },
  {
   "cell_type": "code",
   "execution_count": 21,
   "metadata": {
    "execution": {
     "iopub.execute_input": "2021-02-12T00:28:23.877Z",
     "iopub.status.busy": "2021-02-12T00:28:23.865Z",
     "iopub.status.idle": "2021-02-12T00:28:23.896Z",
     "shell.execute_reply": "2021-02-12T00:28:22.886Z"
    }
   },
   "outputs": [
    {
     "data": {
      "text/plain": [
       "(array([1., 2.]),\n",
       " array([[-0.70710678, -0.4472136 ],\n",
       "        [-0.70710678, -0.89442719]]))"
      ]
     },
     "execution_count": 21,
     "metadata": {},
     "output_type": "execute_result"
    }
   ],
   "source": [
    "eig(M14)"
   ]
  },
  {
   "cell_type": "markdown",
   "metadata": {},
   "source": [
    "Interpret this result:\n",
    "the two eigenvalues are 1 and 2\n",
    "the eigenvectors are strange decimals, but we can check them against the stated solution:"
   ]
  },
  {
   "cell_type": "code",
   "execution_count": 22,
   "metadata": {
    "execution": {
     "iopub.execute_input": "2021-02-12T00:28:23.923Z",
     "iopub.status.busy": "2021-02-12T00:28:23.913Z",
     "iopub.status.idle": "2021-02-12T00:28:23.940Z",
     "shell.execute_reply": "2021-02-12T00:28:22.895Z"
    }
   },
   "outputs": [
    {
     "data": {
      "text/plain": [
       "0.7071067811865475"
      ]
     },
     "execution_count": 22,
     "metadata": {},
     "output_type": "execute_result"
    }
   ],
   "source": [
    "1/sqrt(2)  # this is the value for both entries in the first eigenvector"
   ]
  },
  {
   "cell_type": "code",
   "execution_count": 23,
   "metadata": {
    "execution": {
     "iopub.execute_input": "2021-02-12T00:28:23.969Z",
     "iopub.status.busy": "2021-02-12T00:28:23.958Z",
     "iopub.status.idle": "2021-02-12T00:28:23.986Z",
     "shell.execute_reply": "2021-02-12T00:28:22.904Z"
    }
   },
   "outputs": [
    {
     "data": {
      "text/plain": [
       "0.4472135954999579"
      ]
     },
     "execution_count": 23,
     "metadata": {},
     "output_type": "execute_result"
    }
   ],
   "source": [
    "1/sqrt(5)  # this is the first value in the second eigenvector"
   ]
  },
  {
   "cell_type": "code",
   "execution_count": 24,
   "metadata": {
    "execution": {
     "iopub.execute_input": "2021-02-12T00:28:24.013Z",
     "iopub.status.busy": "2021-02-12T00:28:24.001Z",
     "iopub.status.idle": "2021-02-12T00:28:24.030Z",
     "shell.execute_reply": "2021-02-12T00:28:22.915Z"
    }
   },
   "outputs": [
    {
     "data": {
      "text/plain": [
       "0.8944271909999159"
      ]
     },
     "execution_count": 24,
     "metadata": {},
     "output_type": "execute_result"
    }
   ],
   "source": [
    "2/sqrt(5)  # this is the second value in the second eigenvector"
   ]
  },
  {
   "cell_type": "code",
   "execution_count": 25,
   "metadata": {
    "execution": {
     "iopub.execute_input": "2021-02-12T00:28:24.056Z",
     "iopub.status.busy": "2021-02-12T00:28:24.046Z",
     "iopub.status.idle": "2021-02-12T00:28:24.074Z",
     "shell.execute_reply": "2021-02-12T00:28:22.925Z"
    }
   },
   "outputs": [
    {
     "data": {
      "text/plain": [
       "array([1., 2.])"
      ]
     },
     "execution_count": 25,
     "metadata": {},
     "output_type": "execute_result"
    }
   ],
   "source": [
    "eigvals(M14)"
   ]
  },
  {
   "cell_type": "markdown",
   "metadata": {},
   "source": [
    "Signs are opposite compared to the book, but it turns out that (-) doesn't matter in the interpretation of eigenvectors: only \"direction\" matters (the relative size of the entries)."
   ]
  },
  {
   "cell_type": "markdown",
   "metadata": {},
   "source": [
    "## Example: Problem 1.16 using Ipython functions"
   ]
  },
  {
   "cell_type": "code",
   "execution_count": 26,
   "metadata": {
    "execution": {
     "iopub.execute_input": "2021-02-12T00:28:24.098Z",
     "iopub.status.busy": "2021-02-12T00:28:24.088Z",
     "iopub.status.idle": "2021-02-12T00:28:24.110Z",
     "shell.execute_reply": "2021-02-12T00:28:22.935Z"
    }
   },
   "outputs": [],
   "source": [
    "M16 = array([[0,-1j],[1j,0]])"
   ]
  },
  {
   "cell_type": "code",
   "execution_count": 27,
   "metadata": {
    "execution": {
     "iopub.execute_input": "2021-02-12T00:28:24.137Z",
     "iopub.status.busy": "2021-02-12T00:28:24.127Z",
     "iopub.status.idle": "2021-02-12T00:28:24.148Z",
     "shell.execute_reply": "2021-02-12T00:28:22.946Z"
    }
   },
   "outputs": [],
   "source": [
    "evals, evecs = eig(M16)"
   ]
  },
  {
   "cell_type": "code",
   "execution_count": 28,
   "metadata": {
    "execution": {
     "iopub.execute_input": "2021-02-12T00:28:24.174Z",
     "iopub.status.busy": "2021-02-12T00:28:24.163Z",
     "iopub.status.idle": "2021-02-12T00:28:24.189Z",
     "shell.execute_reply": "2021-02-12T00:28:22.955Z"
    }
   },
   "outputs": [
    {
     "data": {
      "text/plain": [
       "array([[-0.        -0.70710678j,  0.70710678+0.j        ],\n",
       "       [ 0.70710678+0.j        ,  0.        -0.70710678j]])"
      ]
     },
     "execution_count": 28,
     "metadata": {},
     "output_type": "execute_result"
    }
   ],
   "source": [
    "evecs"
   ]
  },
  {
   "cell_type": "code",
   "execution_count": 29,
   "metadata": {
    "execution": {
     "iopub.execute_input": "2021-02-12T00:28:24.213Z",
     "iopub.status.busy": "2021-02-12T00:28:24.203Z",
     "iopub.status.idle": "2021-02-12T00:28:24.230Z",
     "shell.execute_reply": "2021-02-12T00:28:22.965Z"
    }
   },
   "outputs": [
    {
     "data": {
      "text/plain": [
       "array([-0.        -0.70710678j,  0.70710678+0.j        ])"
      ]
     },
     "execution_count": 29,
     "metadata": {},
     "output_type": "execute_result"
    }
   ],
   "source": [
    "evecs[:,0]"
   ]
  },
  {
   "cell_type": "code",
   "execution_count": 30,
   "metadata": {
    "execution": {
     "iopub.execute_input": "2021-02-12T00:28:24.256Z",
     "iopub.status.busy": "2021-02-12T00:28:24.246Z",
     "iopub.status.idle": "2021-02-12T00:28:24.274Z",
     "shell.execute_reply": "2021-02-12T00:28:22.974Z"
    }
   },
   "outputs": [
    {
     "data": {
      "text/plain": [
       "array([0.70710678+0.j        , 0.        -0.70710678j])"
      ]
     },
     "execution_count": 30,
     "metadata": {},
     "output_type": "execute_result"
    }
   ],
   "source": [
    "evecs[:,1]"
   ]
  },
  {
   "cell_type": "code",
   "execution_count": 31,
   "metadata": {
    "execution": {
     "iopub.execute_input": "2021-02-12T00:28:24.301Z",
     "iopub.status.busy": "2021-02-12T00:28:24.290Z",
     "iopub.status.idle": "2021-02-12T00:28:24.319Z",
     "shell.execute_reply": "2021-02-12T00:28:22.983Z"
    }
   },
   "outputs": [
    {
     "data": {
      "text/plain": [
       "-1.6653345369377348e-16j"
      ]
     },
     "execution_count": 31,
     "metadata": {},
     "output_type": "execute_result"
    }
   ],
   "source": [
    "dot(evecs[:,0].conjugate(),evecs[:,1])"
   ]
  },
  {
   "cell_type": "markdown",
   "metadata": {},
   "source": [
    "# Part 2: Using QuTiP\n",
    "Keeping track of row and column vectors in Ipython is somewhat artificial and tedious. The QuTiP library is designed to take care of many of these headaches"
   ]
  },
  {
   "cell_type": "code",
   "execution_count": 32,
   "metadata": {
    "execution": {
     "iopub.execute_input": "2021-02-12T00:28:24.346Z",
     "iopub.status.busy": "2021-02-12T00:28:24.335Z",
     "iopub.status.idle": "2021-02-12T00:28:24.362Z",
     "shell.execute_reply": "2021-02-12T00:28:25.174Z"
    }
   },
   "outputs": [],
   "source": [
    "from qutip import *"
   ]
  },
  {
   "cell_type": "code",
   "execution_count": 33,
   "metadata": {
    "execution": {
     "iopub.execute_input": "2021-02-12T00:28:24.390Z",
     "iopub.status.busy": "2021-02-12T00:28:24.378Z",
     "iopub.status.idle": "2021-02-12T00:28:24.424Z",
     "shell.execute_reply": "2021-02-12T00:28:25.194Z"
    }
   },
   "outputs": [
    {
     "data": {
      "text/latex": [
       "Quantum object: dims = [[1], [2]], shape = (1, 2), type = bra\\begin{equation*}\\left(\\begin{array}{*{11}c}1.0 & 2.0\\\\\\end{array}\\right)\\end{equation*}"
      ],
      "text/plain": [
       "Quantum object: dims = [[1], [2]], shape = (1, 2), type = bra\n",
       "Qobj data =\n",
       "[[1. 2.]]"
      ]
     },
     "execution_count": 33,
     "metadata": {},
     "output_type": "execute_result"
    }
   ],
   "source": [
    "# Create a row vector:\n",
    "qv = Qobj([[1,2]])\n",
    "qv"
   ]
  },
  {
   "cell_type": "code",
   "execution_count": 34,
   "metadata": {
    "execution": {
     "iopub.execute_input": "2021-02-12T00:28:24.450Z",
     "iopub.status.busy": "2021-02-12T00:28:24.440Z",
     "iopub.status.idle": "2021-02-12T00:28:24.474Z",
     "shell.execute_reply": "2021-02-12T00:28:25.210Z"
    }
   },
   "outputs": [
    {
     "data": {
      "text/latex": [
       "Quantum object: dims = [[2], [1]], shape = (2, 1), type = ket\\begin{equation*}\\left(\\begin{array}{*{11}c}1.0\\\\2.0\\\\\\end{array}\\right)\\end{equation*}"
      ],
      "text/plain": [
       "Quantum object: dims = [[2], [1]], shape = (2, 1), type = ket\n",
       "Qobj data =\n",
       "[[1.]\n",
       " [2.]]"
      ]
     },
     "execution_count": 34,
     "metadata": {},
     "output_type": "execute_result"
    }
   ],
   "source": [
    "# Find the corresponding column vector\n",
    "qv.dag()"
   ]
  },
  {
   "cell_type": "code",
   "execution_count": 35,
   "metadata": {
    "execution": {
     "iopub.execute_input": "2021-02-12T00:28:24.499Z",
     "iopub.status.busy": "2021-02-12T00:28:24.489Z",
     "iopub.status.idle": "2021-02-12T00:28:24.526Z",
     "shell.execute_reply": "2021-02-12T00:28:25.220Z"
    }
   },
   "outputs": [
    {
     "data": {
      "text/latex": [
       "Quantum object: dims = [[1], [2]], shape = (1, 2), type = bra\\begin{equation*}\\left(\\begin{array}{*{11}c}(1.0+2.0j) & (4.0-1.0j)\\\\\\end{array}\\right)\\end{equation*}"
      ],
      "text/plain": [
       "Quantum object: dims = [[1], [2]], shape = (1, 2), type = bra\n",
       "Qobj data =\n",
       "[[1.+2.j 4.-1.j]]"
      ]
     },
     "execution_count": 35,
     "metadata": {},
     "output_type": "execute_result"
    }
   ],
   "source": [
    "qv2 = Qobj([[1+2j,4-1j]])\n",
    "qv2"
   ]
  },
  {
   "cell_type": "code",
   "execution_count": 36,
   "metadata": {
    "execution": {
     "iopub.execute_input": "2021-02-12T00:28:24.553Z",
     "iopub.status.busy": "2021-02-12T00:28:24.542Z",
     "iopub.status.idle": "2021-02-12T00:28:24.579Z",
     "shell.execute_reply": "2021-02-12T00:28:25.229Z"
    }
   },
   "outputs": [
    {
     "data": {
      "text/latex": [
       "Quantum object: dims = [[2], [1]], shape = (2, 1), type = ket\\begin{equation*}\\left(\\begin{array}{*{11}c}(1.0-2.0j)\\\\(4.0+1.0j)\\\\\\end{array}\\right)\\end{equation*}"
      ],
      "text/plain": [
       "Quantum object: dims = [[2], [1]], shape = (2, 1), type = ket\n",
       "Qobj data =\n",
       "[[1.-2.j]\n",
       " [4.+1.j]]"
      ]
     },
     "execution_count": 36,
     "metadata": {},
     "output_type": "execute_result"
    }
   ],
   "source": [
    "qv2.dag()"
   ]
  },
  {
   "cell_type": "markdown",
   "metadata": {},
   "source": [
    "## Vector products in QuTiP\n",
    "Only need to know one operator: \"\\*\"\n",
    "The product will depend on the order, either inner or outer"
   ]
  },
  {
   "cell_type": "code",
   "execution_count": 37,
   "metadata": {
    "execution": {
     "iopub.execute_input": "2021-02-12T00:28:24.605Z",
     "iopub.status.busy": "2021-02-12T00:28:24.595Z",
     "iopub.status.idle": "2021-02-12T00:28:24.630Z",
     "shell.execute_reply": "2021-02-12T00:28:25.238Z"
    }
   },
   "outputs": [
    {
     "data": {
      "text/latex": [
       "Quantum object: dims = [[1], [1]], shape = (1, 1), type = bra\\begin{equation*}\\left(\\begin{array}{*{11}c}22.0\\\\\\end{array}\\right)\\end{equation*}"
      ],
      "text/plain": [
       "Quantum object: dims = [[1], [1]], shape = (1, 1), type = bra\n",
       "Qobj data =\n",
       "[[22.]]"
      ]
     },
     "execution_count": 37,
     "metadata": {},
     "output_type": "execute_result"
    }
   ],
   "source": [
    "qv2*qv2.dag()  # inner product (dot product)"
   ]
  },
  {
   "cell_type": "code",
   "execution_count": 38,
   "metadata": {
    "execution": {
     "iopub.execute_input": "2021-02-12T00:28:24.658Z",
     "iopub.status.busy": "2021-02-12T00:28:24.646Z",
     "iopub.status.idle": "2021-02-12T00:28:24.686Z",
     "shell.execute_reply": "2021-02-12T00:28:25.247Z"
    }
   },
   "outputs": [
    {
     "data": {
      "text/latex": [
       "Quantum object: dims = [[2], [2]], shape = (2, 2), type = oper, isherm = True\\begin{equation*}\\left(\\begin{array}{*{11}c}5.0 & (2.0-9.0j)\\\\(2.0+9.0j) & 17.0\\\\\\end{array}\\right)\\end{equation*}"
      ],
      "text/plain": [
       "Quantum object: dims = [[2], [2]], shape = (2, 2), type = oper, isherm = True\n",
       "Qobj data =\n",
       "[[ 5.+0.j  2.-9.j]\n",
       " [ 2.+9.j 17.+0.j]]"
      ]
     },
     "execution_count": 38,
     "metadata": {},
     "output_type": "execute_result"
    }
   ],
   "source": [
    "qv2.dag()*qv2  # outer product"
   ]
  },
  {
   "cell_type": "markdown",
   "metadata": {},
   "source": [
    "## Matrix in QuTiP"
   ]
  },
  {
   "cell_type": "code",
   "execution_count": 39,
   "metadata": {
    "execution": {
     "iopub.execute_input": "2021-02-12T00:28:24.713Z",
     "iopub.status.busy": "2021-02-12T00:28:24.703Z",
     "iopub.status.idle": "2021-02-12T00:28:24.740Z",
     "shell.execute_reply": "2021-02-12T00:28:25.257Z"
    }
   },
   "outputs": [
    {
     "data": {
      "text/latex": [
       "Quantum object: dims = [[2], [2]], shape = (2, 2), type = oper, isherm = True\\begin{equation*}\\left(\\begin{array}{*{11}c}1.0 & 2.0\\\\2.0 & 1.0\\\\\\end{array}\\right)\\end{equation*}"
      ],
      "text/plain": [
       "Quantum object: dims = [[2], [2]], shape = (2, 2), type = oper, isherm = True\n",
       "Qobj data =\n",
       "[[1. 2.]\n",
       " [2. 1.]]"
      ]
     },
     "execution_count": 39,
     "metadata": {},
     "output_type": "execute_result"
    }
   ],
   "source": [
    "qm = Qobj([[1,2],[2,1]])\n",
    "qm"
   ]
  },
  {
   "cell_type": "code",
   "execution_count": 40,
   "metadata": {
    "execution": {
     "iopub.execute_input": "2021-02-12T00:28:24.767Z",
     "iopub.status.busy": "2021-02-12T00:28:24.756Z",
     "iopub.status.idle": "2021-02-12T00:28:24.788Z",
     "shell.execute_reply": "2021-02-12T00:28:25.273Z"
    }
   },
   "outputs": [
    {
     "data": {
      "text/plain": [
       "array([-1.,  3.])"
      ]
     },
     "execution_count": 40,
     "metadata": {},
     "output_type": "execute_result"
    }
   ],
   "source": [
    "qm.eigenenergies()  # in quantum (as we will learn) eigenvalues often correspond to energy levels"
   ]
  },
  {
   "cell_type": "code",
   "execution_count": 41,
   "metadata": {
    "execution": {
     "iopub.execute_input": "2021-02-12T00:28:24.816Z",
     "iopub.status.busy": "2021-02-12T00:28:24.805Z",
     "iopub.status.idle": "2021-02-12T00:28:24.834Z",
     "shell.execute_reply": "2021-02-12T00:28:25.278Z"
    }
   },
   "outputs": [],
   "source": [
    "evals, evecs = qm.eigenstates()"
   ]
  },
  {
   "cell_type": "code",
   "execution_count": 42,
   "metadata": {
    "execution": {
     "iopub.execute_input": "2021-02-12T00:28:24.863Z",
     "iopub.status.busy": "2021-02-12T00:28:24.852Z",
     "iopub.status.idle": "2021-02-12T00:28:24.883Z",
     "shell.execute_reply": "2021-02-12T00:28:25.283Z"
    }
   },
   "outputs": [
    {
     "data": {
      "text/plain": [
       "array([Quantum object: dims = [[2], [1]], shape = (2, 1), type = ket\n",
       "Qobj data =\n",
       "[[-0.70710678]\n",
       " [ 0.70710678]],\n",
       "       Quantum object: dims = [[2], [1]], shape = (2, 1), type = ket\n",
       "Qobj data =\n",
       "[[0.70710678]\n",
       " [0.70710678]]], dtype=object)"
      ]
     },
     "execution_count": 42,
     "metadata": {},
     "output_type": "execute_result"
    }
   ],
   "source": [
    "evecs"
   ]
  },
  {
   "cell_type": "code",
   "execution_count": 43,
   "metadata": {
    "execution": {
     "iopub.execute_input": "2021-02-12T00:28:24.912Z",
     "iopub.status.busy": "2021-02-12T00:28:24.899Z",
     "iopub.status.idle": "2021-02-12T00:28:24.944Z",
     "shell.execute_reply": "2021-02-12T00:28:25.288Z"
    }
   },
   "outputs": [
    {
     "data": {
      "text/latex": [
       "Quantum object: dims = [[2], [1]], shape = (2, 1), type = ket\\begin{equation*}\\left(\\begin{array}{*{11}c}-0.707\\\\0.707\\\\\\end{array}\\right)\\end{equation*}"
      ],
      "text/plain": [
       "Quantum object: dims = [[2], [1]], shape = (2, 1), type = ket\n",
       "Qobj data =\n",
       "[[-0.70710678]\n",
       " [ 0.70710678]]"
      ]
     },
     "execution_count": 43,
     "metadata": {},
     "output_type": "execute_result"
    }
   ],
   "source": [
    "evecs[0]"
   ]
  },
  {
   "cell_type": "markdown",
   "metadata": {},
   "source": [
    "# Practice:"
   ]
  },
  {
   "cell_type": "markdown",
   "metadata": {},
   "source": [
    "## Problem 1.2 using the _hist()_ function."
   ]
  },
  {
   "cell_type": "code",
   "execution_count": 44,
   "metadata": {
    "execution": {
     "iopub.execute_input": "2021-02-12T00:28:24.973Z",
     "iopub.status.busy": "2021-02-12T00:28:24.961Z",
     "iopub.status.idle": "2021-02-12T00:28:25.001Z",
     "shell.execute_reply": "2021-02-12T00:28:25.293Z"
    }
   },
   "outputs": [
    {
     "data": {
      "image/png": "[encoded data removed]",
      "text/plain": [
       "<Figure size 432x288 with 1 Axes>"
      ]
     },
     "metadata": {
      "filenames": {
       "image/png": "/Users/dawe7269/github/qutip-book/_build/jupyter_execute/features/Lab_1_Vectors_and_Matrices_Solutions_60_0.png"
      },
      "needs_background": "light"
     },
     "output_type": "display_data"
    }
   ],
   "source": [
    "# Solution\n",
    "n, bins, patches = hist([10,13,14,14,6,8,7,9,12,14,13,11,10,7,7],bins=5,range=(5,14))"
   ]
  },
  {
   "cell_type": "code",
   "execution_count": 45,
   "metadata": {
    "execution": {
     "iopub.execute_input": "2021-02-12T00:28:25.029Z",
     "iopub.status.busy": "2021-02-12T00:28:25.019Z",
     "iopub.status.idle": "2021-02-12T00:28:25.050Z",
     "shell.execute_reply": "2021-02-12T00:28:25.298Z"
    }
   },
   "outputs": [
    {
     "data": {
      "text/plain": [
       "array([1., 4., 3., 2., 5.])"
      ]
     },
     "execution_count": 45,
     "metadata": {},
     "output_type": "execute_result"
    }
   ],
   "source": [
    "# Solution\n",
    "n"
   ]
  },
  {
   "cell_type": "code",
   "execution_count": 46,
   "metadata": {
    "execution": {
     "iopub.execute_input": "2021-02-12T00:28:25.078Z",
     "iopub.status.busy": "2021-02-12T00:28:25.067Z",
     "iopub.status.idle": "2021-02-12T00:28:25.096Z",
     "shell.execute_reply": "2021-02-12T00:28:25.305Z"
    }
   },
   "outputs": [],
   "source": [
    "# Solution\n",
    "pvals = n/n.sum()"
   ]
  },
  {
   "cell_type": "markdown",
   "metadata": {},
   "source": [
    "## Problem 1.8\n",
    "**Hint:** using sympy, we can calculate the relevant integral. The conds='none' asks the solver to ignore any strange conditions on the variables in the integral. This is fine for most of our integrals. Usually the variables are real and well-behaved numbers."
   ]
  },
  {
   "cell_type": "code",
   "execution_count": 47,
   "metadata": {
    "execution": {
     "iopub.execute_input": "2021-02-12T00:28:25.120Z",
     "iopub.status.busy": "2021-02-12T00:28:25.111Z",
     "iopub.status.idle": "2021-02-12T00:28:25.359Z",
     "shell.execute_reply": "2021-02-12T00:28:25.310Z"
    }
   },
   "outputs": [
    {
     "name": "stdout",
     "output_type": "stream",
     "text": [
      "first =  c/a\n",
      "second =  1\n"
     ]
    }
   ],
   "source": [
    "# Solution\n",
    "from sympy import *\n",
    "c,a,x = symbols(\"c a x\")\n",
    "Q.positive((c,a))\n",
    "first = integrate(c*exp(-a*x),(x,0,oo),conds='none')\n",
    "print(\"first = \",first)\n",
    "second = integrate(a*exp(-a*x),(x,0,oo),conds='none')\n",
    "print(\"second = \",second)"
   ]
  }
 ],
 "metadata": {
  "kernelspec": {
   "display_name": "Python 3",
   "language": "python",
   "name": "python3"
  },
  "language_info": {
   "codemirror_mode": {
    "name": "ipython",
    "version": 3
   },
   "file_extension": ".py",
   "mimetype": "text/x-python",
   "name": "python",
   "nbconvert_exporter": "python",
   "pygments_lexer": "ipython3",
   "version": "3.7.9"
  },
  "nteract": {
   "version": "0.23.3"
  }
 },
 "nbformat": 4,
 "nbformat_minor": 4
}