{
 "cells": [
  {
   "cell_type": "markdown",
   "metadata": {},
   "source": [
    "# HW 9.14:\n",
    "A redo opportunity, to get the full problem right and study this specific Hamiltonian."
   ]
  },
  {
   "cell_type": "code",
   "execution_count": 1,
   "metadata": {
    "collapsed": true,
    "execution": {
     "iopub.execute_input": "2021-02-12T00:14:16.747Z",
     "iopub.status.busy": "2021-02-12T00:14:16.733Z",
     "iopub.status.idle": "2021-02-12T00:14:17.559Z",
     "shell.execute_reply": "2021-02-12T00:14:17.627Z"
    },
    "jupyter": {
     "outputs_hidden": true
    }
   },
   "outputs": [],
   "source": [
    "from qutip import *\n",
    "import numpy as np\n",
    "import matplotlib.pyplot as plt\n",
    "%matplotlib inline"
   ]
  },
  {
   "cell_type": "code",
   "execution_count": 2,
   "metadata": {
    "collapsed": false,
    "execution": {
     "iopub.execute_input": "2021-02-12T00:14:17.583Z",
     "iopub.status.busy": "2021-02-12T00:14:17.572Z",
     "iopub.status.idle": "2021-02-12T00:14:17.608Z",
     "shell.execute_reply": "2021-02-12T00:14:17.633Z"
    },
    "jupyter": {
     "outputs_hidden": false
    }
   },
   "outputs": [
    {
     "data": {
      "text/latex": [
       "Quantum object: dims = [[3], [3]], shape = (3, 3), type = oper, isherm = True\\begin{equation*}\\left(\\begin{array}{*{11}c}0.500 & (0.100+0.200j) & 0.0\\\\(0.100-0.200j) & 0.500 & 0.0\\\\0.0 & 0.0 & 0.250\\\\\\end{array}\\right)\\end{equation*}"
      ],
      "text/plain": [
       "Quantum object: dims = [[3], [3]], shape = (3, 3), type = oper, isherm = True\n",
       "Qobj data =\n",
       "[[0.5 +0.j  0.1 +0.2j 0.  +0.j ]\n",
       " [0.1 -0.2j 0.5 +0.j  0.  +0.j ]\n",
       " [0.  +0.j  0.  +0.j  0.25+0.j ]]"
      ]
     },
     "execution_count": 2,
     "metadata": {},
     "output_type": "execute_result"
    }
   ],
   "source": [
    "Γ1 = 0.5\n",
    "Γ2 = 0.25\n",
    "α = 0.1 + 0.2j\n",
    "H = Qobj([[Γ1, α, 0], [np.conj(α), Γ1, 0], [0, 0, Γ2]])\n",
    "H"
   ]
  },
  {
   "cell_type": "code",
   "execution_count": 3,
   "metadata": {
    "collapsed": false,
    "execution": {
     "iopub.execute_input": "2021-02-12T00:14:18.235Z",
     "iopub.status.busy": "2021-02-12T00:14:18.227Z",
     "iopub.status.idle": "2021-02-12T00:14:18.251Z",
     "shell.execute_reply": "2021-02-12T00:14:18.259Z"
    },
    "jupyter": {
     "outputs_hidden": false
    }
   },
   "outputs": [
    {
     "data": {
      "text/plain": [
       "True"
      ]
     },
     "execution_count": 3,
     "metadata": {},
     "output_type": "execute_result"
    }
   ],
   "source": [
    "# Make sure this is Hermitian:\n",
    "H.isherm"
   ]
  },
  {
   "cell_type": "code",
   "execution_count": 4,
   "metadata": {
    "collapsed": false,
    "execution": {
     "iopub.execute_input": "2021-02-12T00:14:19.256Z",
     "iopub.status.busy": "2021-02-12T00:14:19.248Z",
     "iopub.status.idle": "2021-02-12T00:14:19.269Z",
     "shell.execute_reply": "2021-02-12T00:14:19.277Z"
    },
    "jupyter": {
     "outputs_hidden": false
    }
   },
   "outputs": [],
   "source": [
    "energies, [E1, E2, E3] = H.eigenstates()"
   ]
  },
  {
   "cell_type": "code",
   "execution_count": 5,
   "metadata": {
    "collapsed": false,
    "execution": {
     "iopub.execute_input": "2021-02-12T00:14:19.799Z",
     "iopub.status.busy": "2021-02-12T00:14:19.792Z",
     "iopub.status.idle": "2021-02-12T00:14:19.816Z",
     "shell.execute_reply": "2021-02-12T00:14:19.823Z"
    },
    "jupyter": {
     "outputs_hidden": false
    }
   },
   "outputs": [
    {
     "data": {
      "text/plain": [
       "array([0.25     , 0.2763932, 0.7236068])"
      ]
     },
     "execution_count": 5,
     "metadata": {},
     "output_type": "execute_result"
    }
   ],
   "source": [
    "energies"
   ]
  },
  {
   "cell_type": "code",
   "execution_count": 6,
   "metadata": {
    "collapsed": false,
    "execution": {
     "iopub.execute_input": "2021-02-12T00:14:20.360Z",
     "iopub.status.busy": "2021-02-12T00:14:20.350Z",
     "iopub.status.idle": "2021-02-12T00:14:20.375Z",
     "shell.execute_reply": "2021-02-12T00:14:20.381Z"
    },
    "jupyter": {
     "outputs_hidden": false
    }
   },
   "outputs": [
    {
     "name": "stdout",
     "output_type": "stream",
     "text": [
      "0.25\n",
      "0.7236067977499789\n",
      "0.276393202250021\n"
     ]
    }
   ],
   "source": [
    "print(Γ2)\n",
    "print(Γ1 + np.abs(α))\n",
    "print(Γ1 - np.abs(α))"
   ]
  },
  {
   "cell_type": "markdown",
   "metadata": {},
   "source": [
    "### These agree with\n",
    "$\\Gamma_2$ and $\\Gamma_1 \\pm |\\alpha|$"
   ]
  },
  {
   "cell_type": "code",
   "execution_count": 7,
   "metadata": {
    "collapsed": false,
    "execution": {
     "iopub.execute_input": "2021-02-12T00:14:21.682Z",
     "iopub.status.busy": "2021-02-12T00:14:21.675Z",
     "iopub.status.idle": "2021-02-12T00:14:21.702Z",
     "shell.execute_reply": "2021-02-12T00:14:21.709Z"
    },
    "jupyter": {
     "outputs_hidden": false
    }
   },
   "outputs": [
    {
     "data": {
      "text/latex": [
       "Quantum object: dims = [[3], [1]], shape = (3, 1), type = ket\\begin{equation*}\\left(\\begin{array}{*{11}c}0.0\\\\0.0\\\\1.0\\\\\\end{array}\\right)\\end{equation*}"
      ],
      "text/plain": [
       "Quantum object: dims = [[3], [1]], shape = (3, 1), type = ket\n",
       "Qobj data =\n",
       "[[0.]\n",
       " [0.]\n",
       " [1.]]"
      ]
     },
     "execution_count": 7,
     "metadata": {},
     "output_type": "execute_result"
    }
   ],
   "source": [
    "E1"
   ]
  },
  {
   "cell_type": "code",
   "execution_count": 8,
   "metadata": {
    "collapsed": false,
    "execution": {
     "iopub.execute_input": "2021-02-12T00:14:22.570Z",
     "iopub.status.busy": "2021-02-12T00:14:22.563Z",
     "iopub.status.idle": "2021-02-12T00:14:22.591Z",
     "shell.execute_reply": "2021-02-12T00:14:22.597Z"
    },
    "jupyter": {
     "outputs_hidden": false
    }
   },
   "outputs": [
    {
     "data": {
      "text/latex": [
       "Quantum object: dims = [[3], [1]], shape = (3, 1), type = ket\\begin{equation*}\\left(\\begin{array}{*{11}c}0.707\\\\(-0.316+0.632j)\\\\0.0\\\\\\end{array}\\right)\\end{equation*}"
      ],
      "text/plain": [
       "Quantum object: dims = [[3], [1]], shape = (3, 1), type = ket\n",
       "Qobj data =\n",
       "[[ 0.70710678+0.j        ]\n",
       " [-0.31622777+0.63245553j]\n",
       " [ 0.        +0.j        ]]"
      ]
     },
     "execution_count": 8,
     "metadata": {},
     "output_type": "execute_result"
    }
   ],
   "source": [
    "E2"
   ]
  },
  {
   "cell_type": "code",
   "execution_count": 9,
   "metadata": {
    "collapsed": false,
    "execution": {
     "iopub.execute_input": "2021-02-12T00:14:23.541Z",
     "iopub.status.busy": "2021-02-12T00:14:23.531Z",
     "iopub.status.idle": "2021-02-12T00:14:23.561Z",
     "shell.execute_reply": "2021-02-12T00:14:23.567Z"
    },
    "jupyter": {
     "outputs_hidden": false
    }
   },
   "outputs": [
    {
     "data": {
      "text/latex": [
       "Quantum object: dims = [[3], [1]], shape = (3, 1), type = ket\\begin{equation*}\\left(\\begin{array}{*{11}c}-0.707\\\\(-0.316+0.632j)\\\\0.0\\\\\\end{array}\\right)\\end{equation*}"
      ],
      "text/plain": [
       "Quantum object: dims = [[3], [1]], shape = (3, 1), type = ket\n",
       "Qobj data =\n",
       "[[-0.70710678+0.j        ]\n",
       " [-0.31622777+0.63245553j]\n",
       " [ 0.        +0.j        ]]"
      ]
     },
     "execution_count": 9,
     "metadata": {},
     "output_type": "execute_result"
    }
   ],
   "source": [
    "E3"
   ]
  },
  {
   "cell_type": "markdown",
   "metadata": {},
   "source": [
    "### Now write the state $\\big|a\\big\\rangle$ in terms of the energy eigenstates"
   ]
  },
  {
   "cell_type": "code",
   "execution_count": 10,
   "metadata": {
    "collapsed": false,
    "execution": {
     "iopub.execute_input": "2021-02-12T00:14:25.224Z",
     "iopub.status.busy": "2021-02-12T00:14:25.217Z",
     "iopub.status.idle": "2021-02-12T00:14:25.246Z",
     "shell.execute_reply": "2021-02-12T00:14:25.255Z"
    },
    "jupyter": {
     "outputs_hidden": false
    }
   },
   "outputs": [
    {
     "data": {
      "text/latex": [
       "Quantum object: dims = [[3], [1]], shape = (3, 1), type = ket\\begin{equation*}\\left(\\begin{array}{*{11}c}1.0\\\\0.0\\\\0.0\\\\\\end{array}\\right)\\end{equation*}"
      ],
      "text/plain": [
       "Quantum object: dims = [[3], [1]], shape = (3, 1), type = ket\n",
       "Qobj data =\n",
       "[[1.]\n",
       " [0.]\n",
       " [0.]]"
      ]
     },
     "execution_count": 10,
     "metadata": {},
     "output_type": "execute_result"
    }
   ],
   "source": [
    "a = Qobj([[1],[0],[0]])\n",
    "a"
   ]
  },
  {
   "cell_type": "code",
   "execution_count": 11,
   "metadata": {
    "collapsed": false,
    "execution": {
     "iopub.execute_input": "2021-02-12T00:14:27.743Z",
     "iopub.status.busy": "2021-02-12T00:14:27.733Z",
     "iopub.status.idle": "2021-02-12T00:14:27.760Z",
     "shell.execute_reply": "2021-02-12T00:14:27.766Z"
    },
    "jupyter": {
     "outputs_hidden": false
    }
   },
   "outputs": [
    {
     "data": {
      "text/latex": [
       "Quantum object: dims = [[1], [1]], shape = (1, 1), type = bra\\begin{equation*}\\left(\\begin{array}{*{11}c}0.0\\\\\\end{array}\\right)\\end{equation*}"
      ],
      "text/plain": [
       "Quantum object: dims = [[1], [1]], shape = (1, 1), type = bra\n",
       "Qobj data =\n",
       "[[0.]]"
      ]
     },
     "execution_count": 11,
     "metadata": {},
     "output_type": "execute_result"
    }
   ],
   "source": [
    "a.dag()*E1"
   ]
  },
  {
   "cell_type": "code",
   "execution_count": 12,
   "metadata": {
    "collapsed": false,
    "execution": {
     "iopub.execute_input": "2021-02-12T00:14:28.838Z",
     "iopub.status.busy": "2021-02-12T00:14:28.829Z",
     "iopub.status.idle": "2021-02-12T00:14:28.856Z",
     "shell.execute_reply": "2021-02-12T00:14:28.864Z"
    },
    "jupyter": {
     "outputs_hidden": false
    }
   },
   "outputs": [
    {
     "data": {
      "text/latex": [
       "Quantum object: dims = [[1], [1]], shape = (1, 1), type = bra\\begin{equation*}\\left(\\begin{array}{*{11}c}0.707\\\\\\end{array}\\right)\\end{equation*}"
      ],
      "text/plain": [
       "Quantum object: dims = [[1], [1]], shape = (1, 1), type = bra\n",
       "Qobj data =\n",
       "[[0.70710678]]"
      ]
     },
     "execution_count": 12,
     "metadata": {},
     "output_type": "execute_result"
    }
   ],
   "source": [
    "a.dag()*E2"
   ]
  },
  {
   "cell_type": "code",
   "execution_count": 13,
   "metadata": {
    "collapsed": false,
    "execution": {
     "iopub.execute_input": "2021-02-12T00:14:35.488Z",
     "iopub.status.busy": "2021-02-12T00:14:35.479Z",
     "iopub.status.idle": "2021-02-12T00:14:35.507Z",
     "shell.execute_reply": "2021-02-12T00:14:35.514Z"
    },
    "jupyter": {
     "outputs_hidden": false
    }
   },
   "outputs": [
    {
     "data": {
      "text/latex": [
       "Quantum object: dims = [[1], [1]], shape = (1, 1), type = bra\\begin{equation*}\\left(\\begin{array}{*{11}c}-0.707\\\\\\end{array}\\right)\\end{equation*}"
      ],
      "text/plain": [
       "Quantum object: dims = [[1], [1]], shape = (1, 1), type = bra\n",
       "Qobj data =\n",
       "[[-0.70710678]]"
      ]
     },
     "execution_count": 13,
     "metadata": {},
     "output_type": "execute_result"
    }
   ],
   "source": [
    "a.dag()*E3"
   ]
  },
  {
   "cell_type": "markdown",
   "metadata": {},
   "source": [
    "### And write  $\\big|b\\big\\rangle$ in terms of the energy eigenstates "
   ]
  },
  {
   "cell_type": "code",
   "execution_count": 14,
   "metadata": {
    "collapsed": false,
    "execution": {
     "iopub.execute_input": "2021-02-12T00:14:37.394Z",
     "iopub.status.busy": "2021-02-12T00:14:37.387Z",
     "iopub.status.idle": "2021-02-12T00:14:37.406Z",
     "shell.execute_reply": "2021-02-12T00:14:37.412Z"
    },
    "jupyter": {
     "outputs_hidden": false
    }
   },
   "outputs": [],
   "source": [
    "b = Qobj([[0],[1],[0]])"
   ]
  },
  {
   "cell_type": "code",
   "execution_count": 15,
   "metadata": {
    "collapsed": false,
    "execution": {
     "iopub.execute_input": "2021-02-12T00:14:38.041Z",
     "iopub.status.busy": "2021-02-12T00:14:38.033Z",
     "iopub.status.idle": "2021-02-12T00:14:38.059Z",
     "shell.execute_reply": "2021-02-12T00:14:38.065Z"
    },
    "jupyter": {
     "outputs_hidden": false
    }
   },
   "outputs": [
    {
     "data": {
      "text/latex": [
       "Quantum object: dims = [[1], [1]], shape = (1, 1), type = bra\\begin{equation*}\\left(\\begin{array}{*{11}c}0.0\\\\\\end{array}\\right)\\end{equation*}"
      ],
      "text/plain": [
       "Quantum object: dims = [[1], [1]], shape = (1, 1), type = bra\n",
       "Qobj data =\n",
       "[[0.]]"
      ]
     },
     "execution_count": 15,
     "metadata": {},
     "output_type": "execute_result"
    }
   ],
   "source": [
    "b.dag()*E1"
   ]
  },
  {
   "cell_type": "code",
   "execution_count": 16,
   "metadata": {
    "collapsed": false,
    "execution": {
     "iopub.execute_input": "2021-02-12T00:14:40.808Z",
     "iopub.status.busy": "2021-02-12T00:14:40.801Z",
     "iopub.status.idle": "2021-02-12T00:14:40.828Z",
     "shell.execute_reply": "2021-02-12T00:14:40.835Z"
    },
    "jupyter": {
     "outputs_hidden": false
    }
   },
   "outputs": [
    {
     "data": {
      "text/latex": [
       "Quantum object: dims = [[1], [1]], shape = (1, 1), type = bra\\begin{equation*}\\left(\\begin{array}{*{11}c}(-0.316+0.632j)\\\\\\end{array}\\right)\\end{equation*}"
      ],
      "text/plain": [
       "Quantum object: dims = [[1], [1]], shape = (1, 1), type = bra\n",
       "Qobj data =\n",
       "[[-0.31622777+0.63245553j]]"
      ]
     },
     "execution_count": 16,
     "metadata": {},
     "output_type": "execute_result"
    }
   ],
   "source": [
    "b.dag()*E2"
   ]
  },
  {
   "cell_type": "code",
   "execution_count": 17,
   "metadata": {
    "collapsed": false,
    "execution": {
     "iopub.execute_input": "2021-02-12T00:14:41.640Z",
     "iopub.status.busy": "2021-02-12T00:14:41.632Z",
     "iopub.status.idle": "2021-02-12T00:14:41.659Z",
     "shell.execute_reply": "2021-02-12T00:14:41.667Z"
    },
    "jupyter": {
     "outputs_hidden": false
    }
   },
   "outputs": [
    {
     "data": {
      "text/latex": [
       "Quantum object: dims = [[1], [1]], shape = (1, 1), type = bra\\begin{equation*}\\left(\\begin{array}{*{11}c}(-0.316+0.632j)\\\\\\end{array}\\right)\\end{equation*}"
      ],
      "text/plain": [
       "Quantum object: dims = [[1], [1]], shape = (1, 1), type = bra\n",
       "Qobj data =\n",
       "[[-0.31622777+0.63245553j]]"
      ]
     },
     "execution_count": 17,
     "metadata": {},
     "output_type": "execute_result"
    }
   ],
   "source": [
    "b.dag()*E3"
   ]
  },
  {
   "cell_type": "markdown",
   "metadata": {},
   "source": [
    "### Solve for the time dynamics"
   ]
  },
  {
   "cell_type": "code",
   "execution_count": 18,
   "metadata": {
    "collapsed": false,
    "execution": {
     "iopub.execute_input": "2021-02-12T00:14:55.725Z",
     "iopub.status.busy": "2021-02-12T00:14:55.715Z",
     "iopub.status.idle": "2021-02-12T00:14:55.737Z",
     "shell.execute_reply": "2021-02-12T00:14:55.743Z"
    },
    "jupyter": {
     "outputs_hidden": false
    }
   },
   "outputs": [],
   "source": [
    "N = 100\n",
    "T = 2*np.pi/np.abs(α)   # period of oscillation\n",
    "tlist = np.linspace(0,T,N)\n",
    "proj_b = b.dag()*b\n",
    "solution = sesolve(H, a, tlist, [proj_b])"
   ]
  },
  {
   "cell_type": "code",
   "execution_count": 19,
   "metadata": {
    "collapsed": false,
    "execution": {
     "iopub.execute_input": "2021-02-12T00:14:57.127Z",
     "iopub.status.busy": "2021-02-12T00:14:57.116Z",
     "iopub.status.idle": "2021-02-12T00:14:57.230Z",
     "shell.execute_reply": "2021-02-12T00:14:57.244Z"
    },
    "jupyter": {
     "outputs_hidden": false
    }
   },
   "outputs": [
    {
     "data": {
      "text/plain": [
       "[<matplotlib.lines.Line2D at 0x7f80b83712d0>]"
      ]
     },
     "execution_count": 19,
     "metadata": {},
     "output_type": "execute_result"
    },
    {
     "data": {
      "image/png": "[encoded data removed]",
      "text/plain": [
       "<Figure size 432x288 with 1 Axes>"
      ]
     },
     "metadata": {
      "filenames": {
       "image/png": "/Users/dawe7269/github/qutip-book/_build/jupyter_execute/features/HW_9_Redo_23_1.png"
      },
      "needs_background": "light"
     },
     "output_type": "display_data"
    }
   ],
   "source": [
    "plt.plot(tlist/T,solution.expect[0],\".\")"
   ]
  },
  {
   "cell_type": "markdown",
   "metadata": {},
   "source": [
    "### Consistent with $P(b,t) = \\sin^2(|\\alpha|t/\\hbar)$"
   ]
  },
  {
   "cell_type": "code",
   "execution_count": null,
   "metadata": {
    "collapsed": true,
    "jupyter": {
     "outputs_hidden": true
    }
   },
   "outputs": [],
   "source": []
  }
 ],
 "metadata": {
  "kernelspec": {
   "display_name": "Python 3",
   "language": "python",
   "name": "python3"
  },
  "language_info": {
   "codemirror_mode": {
    "name": "ipython",
    "version": 3
   },
   "file_extension": ".py",
   "mimetype": "text/x-python",
   "name": "python",
   "nbconvert_exporter": "python",
   "pygments_lexer": "ipython3",
   "version": "3.7.9"
  },
  "nteract": {
   "version": "0.23.3"
  }
 },
 "nbformat": 4,
 "nbformat_minor": 4
}