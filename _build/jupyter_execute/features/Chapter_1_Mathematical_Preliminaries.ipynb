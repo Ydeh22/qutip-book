{
 "cells": [
  {
   "cell_type": "markdown",
   "metadata": {},
   "source": [
    "# Chapter 1: Mathematical Preliminaries\n",
    "## 1.1 Probability\n",
    "### 1.1.1 Moments of Measured Data"
   ]
  },
  {
   "cell_type": "markdown",
   "metadata": {},
   "source": [
    "Arrays of data, and their average and sum in python"
   ]
  },
  {
   "cell_type": "code",
   "execution_count": 1,
   "metadata": {
    "execution": {
     "iopub.execute_input": "2021-02-12T00:15:17.910Z",
     "iopub.status.busy": "2021-02-12T00:15:17.889Z",
     "iopub.status.idle": "2021-02-12T00:15:18.215Z",
     "shell.execute_reply": "2021-02-12T00:15:18.231Z"
    }
   },
   "outputs": [],
   "source": [
    "import matplotlib.pyplot as plt\n",
    "from numpy import array, sin, sqrt, dot, outer\n",
    "%matplotlib inline"
   ]
  },
  {
   "cell_type": "code",
   "execution_count": 2,
   "metadata": {
    "execution": {
     "iopub.execute_input": "2021-02-12T00:15:18.700Z",
     "iopub.status.busy": "2021-02-12T00:15:18.689Z",
     "iopub.status.idle": "2021-02-12T00:15:18.720Z",
     "shell.execute_reply": "2021-02-12T00:15:18.736Z"
    }
   },
   "outputs": [],
   "source": [
    "x = array([1,2,3])"
   ]
  },
  {
   "cell_type": "code",
   "execution_count": 3,
   "metadata": {
    "execution": {
     "iopub.execute_input": "2021-02-12T00:15:19.117Z",
     "iopub.status.busy": "2021-02-12T00:15:19.104Z",
     "iopub.status.idle": "2021-02-12T00:15:19.148Z",
     "shell.execute_reply": "2021-02-12T00:15:19.169Z"
    }
   },
   "outputs": [
    {
     "data": {
      "text/plain": [
       "6"
      ]
     },
     "execution_count": 3,
     "metadata": {},
     "output_type": "execute_result"
    }
   ],
   "source": [
    "x.sum()"
   ]
  },
  {
   "cell_type": "code",
   "execution_count": 4,
   "metadata": {
    "execution": {
     "iopub.execute_input": "2021-02-12T00:15:19.567Z",
     "iopub.status.busy": "2021-02-12T00:15:19.553Z",
     "iopub.status.idle": "2021-02-12T00:15:19.594Z",
     "shell.execute_reply": "2021-02-12T00:15:19.609Z"
    }
   },
   "outputs": [
    {
     "data": {
      "text/plain": [
       "2.0"
      ]
     },
     "execution_count": 4,
     "metadata": {},
     "output_type": "execute_result"
    }
   ],
   "source": [
    "x.mean()"
   ]
  },
  {
   "cell_type": "markdown",
   "metadata": {},
   "source": [
    "The formal definition (and to make sure we match with the book) is to take the sum and divide by the number of items in the sample:"
   ]
  },
  {
   "cell_type": "code",
   "execution_count": 5,
   "metadata": {
    "execution": {
     "iopub.execute_input": "2021-02-12T00:15:20.524Z",
     "iopub.status.busy": "2021-02-12T00:15:20.515Z",
     "iopub.status.idle": "2021-02-12T00:15:20.549Z",
     "shell.execute_reply": "2021-02-12T00:15:20.561Z"
    }
   },
   "outputs": [
    {
     "data": {
      "text/plain": [
       "2.0"
      ]
     },
     "execution_count": 5,
     "metadata": {},
     "output_type": "execute_result"
    }
   ],
   "source": [
    "x.sum()/len(x)"
   ]
  },
  {
   "cell_type": "markdown",
   "metadata": {},
   "source": [
    "#### Higher order moments\n",
    "Operate on the sample, python does this element-by-element, then do the same thing as above:"
   ]
  },
  {
   "cell_type": "code",
   "execution_count": 6,
   "metadata": {
    "execution": {
     "iopub.execute_input": "2021-02-12T00:15:21.396Z",
     "iopub.status.busy": "2021-02-12T00:15:21.385Z",
     "iopub.status.idle": "2021-02-12T00:15:21.417Z",
     "shell.execute_reply": "2021-02-12T00:15:21.426Z"
    }
   },
   "outputs": [
    {
     "data": {
      "text/plain": [
       "array([1, 4, 9])"
      ]
     },
     "execution_count": 6,
     "metadata": {},
     "output_type": "execute_result"
    }
   ],
   "source": [
    "x**2"
   ]
  },
  {
   "cell_type": "code",
   "execution_count": 7,
   "metadata": {
    "execution": {
     "iopub.execute_input": "2021-02-12T00:15:21.832Z",
     "iopub.status.busy": "2021-02-12T00:15:21.822Z",
     "iopub.status.idle": "2021-02-12T00:15:21.853Z",
     "shell.execute_reply": "2021-02-12T00:15:21.863Z"
    }
   },
   "outputs": [
    {
     "data": {
      "text/plain": [
       "14"
      ]
     },
     "execution_count": 7,
     "metadata": {},
     "output_type": "execute_result"
    }
   ],
   "source": [
    "(x**2).sum() # Note the parenthesis!"
   ]
  },
  {
   "cell_type": "code",
   "execution_count": 8,
   "metadata": {
    "execution": {
     "iopub.execute_input": "2021-02-12T00:15:22.346Z",
     "iopub.status.busy": "2021-02-12T00:15:22.335Z",
     "iopub.status.idle": "2021-02-12T00:15:22.368Z",
     "shell.execute_reply": "2021-02-12T00:15:22.380Z"
    }
   },
   "outputs": [
    {
     "data": {
      "text/plain": [
       "4.666666666666667"
      ]
     },
     "execution_count": 8,
     "metadata": {},
     "output_type": "execute_result"
    }
   ],
   "source": [
    "(x**2).sum()/len(x)"
   ]
  },
  {
   "cell_type": "markdown",
   "metadata": {},
   "source": [
    "#### It works for functions too:"
   ]
  },
  {
   "cell_type": "code",
   "execution_count": 9,
   "metadata": {
    "execution": {
     "iopub.execute_input": "2021-02-12T00:15:23.349Z",
     "iopub.status.busy": "2021-02-12T00:15:23.338Z",
     "iopub.status.idle": "2021-02-12T00:15:23.369Z",
     "shell.execute_reply": "2021-02-12T00:15:23.381Z"
    }
   },
   "outputs": [
    {
     "data": {
      "text/plain": [
       "array([0.84147098, 0.90929743, 0.14112001])"
      ]
     },
     "execution_count": 9,
     "metadata": {},
     "output_type": "execute_result"
    }
   ],
   "source": [
    "sin(x)"
   ]
  },
  {
   "cell_type": "code",
   "execution_count": 10,
   "metadata": {
    "execution": {
     "iopub.execute_input": "2021-02-12T00:15:23.862Z",
     "iopub.status.busy": "2021-02-12T00:15:23.852Z",
     "iopub.status.idle": "2021-02-12T00:15:23.885Z",
     "shell.execute_reply": "2021-02-12T00:15:23.895Z"
    }
   },
   "outputs": [
    {
     "data": {
      "text/plain": [
       "0.6306294732311485"
      ]
     },
     "execution_count": 10,
     "metadata": {},
     "output_type": "execute_result"
    }
   ],
   "source": [
    "sin(x).sum()/len(x)"
   ]
  },
  {
   "cell_type": "markdown",
   "metadata": {},
   "source": [
    "#### Variance"
   ]
  },
  {
   "cell_type": "code",
   "execution_count": 11,
   "metadata": {
    "execution": {
     "iopub.execute_input": "2021-02-12T00:15:24.874Z",
     "iopub.status.busy": "2021-02-12T00:15:24.861Z",
     "iopub.status.idle": "2021-02-12T00:15:24.893Z",
     "shell.execute_reply": "2021-02-12T00:15:24.902Z"
    }
   },
   "outputs": [
    {
     "data": {
      "text/plain": [
       "0.6666666666666666"
      ]
     },
     "execution_count": 11,
     "metadata": {},
     "output_type": "execute_result"
    }
   ],
   "source": [
    "x.var()  # Variance"
   ]
  },
  {
   "cell_type": "code",
   "execution_count": 12,
   "metadata": {
    "execution": {
     "iopub.execute_input": "2021-02-12T00:15:25.330Z",
     "iopub.status.busy": "2021-02-12T00:15:25.321Z",
     "iopub.status.idle": "2021-02-12T00:15:25.350Z",
     "shell.execute_reply": "2021-02-12T00:15:25.359Z"
    }
   },
   "outputs": [
    {
     "data": {
      "text/plain": [
       "0.816496580927726"
      ]
     },
     "execution_count": 12,
     "metadata": {},
     "output_type": "execute_result"
    }
   ],
   "source": [
    "x.std()  # Standard Deviation"
   ]
  },
  {
   "cell_type": "code",
   "execution_count": 13,
   "metadata": {
    "execution": {
     "iopub.execute_input": "2021-02-12T00:15:25.777Z",
     "iopub.status.busy": "2021-02-12T00:15:25.766Z",
     "iopub.status.idle": "2021-02-12T00:15:25.798Z",
     "shell.execute_reply": "2021-02-12T00:15:25.807Z"
    }
   },
   "outputs": [
    {
     "data": {
      "text/plain": [
       "True"
      ]
     },
     "execution_count": 13,
     "metadata": {},
     "output_type": "execute_result"
    }
   ],
   "source": [
    "x.std()**2 == x.var()  # Related by a square root"
   ]
  },
  {
   "cell_type": "markdown",
   "metadata": {},
   "source": [
    "### Example 1.1"
   ]
  },
  {
   "cell_type": "code",
   "execution_count": 14,
   "metadata": {
    "execution": {
     "iopub.execute_input": "2021-02-12T00:15:26.955Z",
     "iopub.status.busy": "2021-02-12T00:15:26.945Z",
     "iopub.status.idle": "2021-02-12T00:15:26.970Z",
     "shell.execute_reply": "2021-02-12T00:15:26.981Z"
    }
   },
   "outputs": [],
   "source": [
    "x_m = array([9,5,25,23,10,22,8,8,21,20])"
   ]
  },
  {
   "cell_type": "code",
   "execution_count": 15,
   "metadata": {
    "execution": {
     "iopub.execute_input": "2021-02-12T00:15:27.388Z",
     "iopub.status.busy": "2021-02-12T00:15:27.379Z",
     "iopub.status.idle": "2021-02-12T00:15:27.407Z",
     "shell.execute_reply": "2021-02-12T00:15:27.417Z"
    }
   },
   "outputs": [
    {
     "data": {
      "text/plain": [
       "15.1"
      ]
     },
     "execution_count": 15,
     "metadata": {},
     "output_type": "execute_result"
    }
   ],
   "source": [
    "x_m.mean()"
   ]
  },
  {
   "cell_type": "code",
   "execution_count": 16,
   "metadata": {
    "execution": {
     "iopub.execute_input": "2021-02-12T00:15:27.797Z",
     "iopub.status.busy": "2021-02-12T00:15:27.786Z",
     "iopub.status.idle": "2021-02-12T00:15:27.820Z",
     "shell.execute_reply": "2021-02-12T00:15:27.830Z"
    }
   },
   "outputs": [
    {
     "data": {
      "text/plain": [
       "281.3"
      ]
     },
     "execution_count": 16,
     "metadata": {},
     "output_type": "execute_result"
    }
   ],
   "source": [
    "(x_m**2).sum()/len(x_m)"
   ]
  },
  {
   "cell_type": "code",
   "execution_count": 17,
   "metadata": {
    "execution": {
     "iopub.execute_input": "2021-02-12T00:15:28.274Z",
     "iopub.status.busy": "2021-02-12T00:15:28.265Z",
     "iopub.status.idle": "2021-02-12T00:15:28.295Z",
     "shell.execute_reply": "2021-02-12T00:15:28.304Z"
    }
   },
   "outputs": [
    {
     "data": {
      "text/plain": [
       "7.300000000000002"
      ]
     },
     "execution_count": 17,
     "metadata": {},
     "output_type": "execute_result"
    }
   ],
   "source": [
    "sqrt(281.3 - (15.1)**2)"
   ]
  },
  {
   "cell_type": "code",
   "execution_count": 18,
   "metadata": {
    "execution": {
     "iopub.execute_input": "2021-02-12T00:15:29.020Z",
     "iopub.status.busy": "2021-02-12T00:15:29.011Z",
     "iopub.status.idle": "2021-02-12T00:15:29.039Z",
     "shell.execute_reply": "2021-02-12T00:15:29.049Z"
    }
   },
   "outputs": [
    {
     "data": {
      "text/plain": [
       "7.3"
      ]
     },
     "execution_count": 18,
     "metadata": {},
     "output_type": "execute_result"
    }
   ],
   "source": [
    "x_m.std()"
   ]
  },
  {
   "cell_type": "markdown",
   "metadata": {},
   "source": [
    "Close enough!"
   ]
  },
  {
   "cell_type": "markdown",
   "metadata": {},
   "source": [
    "### 1.1.2 Probability"
   ]
  },
  {
   "cell_type": "markdown",
   "metadata": {},
   "source": [
    "#### Example 1.2"
   ]
  },
  {
   "cell_type": "code",
   "execution_count": 19,
   "metadata": {
    "execution": {
     "iopub.execute_input": "2021-02-12T00:15:31.784Z",
     "iopub.status.busy": "2021-02-12T00:15:31.775Z",
     "iopub.status.idle": "2021-02-12T00:15:31.931Z",
     "shell.execute_reply": "2021-02-12T00:15:31.948Z"
    }
   },
   "outputs": [
    {
     "data": {
      "image/png": "[encoded data removed]",
      "text/plain": [
       "<Figure size 432x288 with 1 Axes>"
      ]
     },
     "metadata": {
      "filenames": {
       "image/png": "/Users/dawe7269/github/qutip-book/_build/jupyter_execute/features/Chapter_1_Mathematical_Preliminaries_28_0.png"
      },
      "needs_background": "light"
     },
     "output_type": "display_data"
    }
   ],
   "source": [
    "n, bins, patches = plt.hist(x_m,bins=7)"
   ]
  },
  {
   "cell_type": "markdown",
   "metadata": {},
   "source": [
    "The hist function has several possible arguments, we use bins=7 to match the example."
   ]
  },
  {
   "cell_type": "code",
   "execution_count": 20,
   "metadata": {
    "execution": {
     "iopub.execute_input": "2021-02-12T00:15:33.669Z",
     "iopub.status.busy": "2021-02-12T00:15:33.659Z",
     "iopub.status.idle": "2021-02-12T00:15:33.691Z",
     "shell.execute_reply": "2021-02-12T00:15:33.701Z"
    }
   },
   "outputs": [
    {
     "data": {
      "text/plain": [
       "array([0.6, 3.6, 0. , 0. , 0. , 6.3, 4.8])"
      ]
     },
     "execution_count": 20,
     "metadata": {},
     "output_type": "execute_result"
    }
   ],
   "source": [
    "n/10.0*array([6,9,12,15,18,21,24])  # counts times each bin-center value"
   ]
  },
  {
   "cell_type": "code",
   "execution_count": 21,
   "metadata": {
    "execution": {
     "iopub.execute_input": "2021-02-12T00:15:34.630Z",
     "iopub.status.busy": "2021-02-12T00:15:34.621Z",
     "iopub.status.idle": "2021-02-12T00:15:34.650Z",
     "shell.execute_reply": "2021-02-12T00:15:34.661Z"
    }
   },
   "outputs": [
    {
     "data": {
      "text/plain": [
       "15.3"
      ]
     },
     "execution_count": 21,
     "metadata": {},
     "output_type": "execute_result"
    }
   ],
   "source": [
    "sum(_)"
   ]
  },
  {
   "cell_type": "code",
   "execution_count": 22,
   "metadata": {
    "execution": {
     "iopub.execute_input": "2021-02-12T00:15:35.420Z",
     "iopub.status.busy": "2021-02-12T00:15:35.411Z",
     "iopub.status.idle": "2021-02-12T00:15:35.441Z",
     "shell.execute_reply": "2021-02-12T00:15:35.450Z"
    }
   },
   "outputs": [
    {
     "data": {
      "text/plain": [
       "array([  3.6,  32.4,   0. ,   0. ,   0. , 132.3, 115.2])"
      ]
     },
     "execution_count": 22,
     "metadata": {},
     "output_type": "execute_result"
    }
   ],
   "source": [
    "n/10.0*array([6,9,12,15,18,21,24])**2  # counts times each bin-center value"
   ]
  },
  {
   "cell_type": "code",
   "execution_count": 23,
   "metadata": {
    "execution": {
     "iopub.execute_input": "2021-02-12T00:15:36.547Z",
     "iopub.status.busy": "2021-02-12T00:15:36.537Z",
     "iopub.status.idle": "2021-02-12T00:15:36.566Z",
     "shell.execute_reply": "2021-02-12T00:15:36.576Z"
    }
   },
   "outputs": [
    {
     "data": {
      "text/plain": [
       "283.5"
      ]
     },
     "execution_count": 23,
     "metadata": {},
     "output_type": "execute_result"
    }
   ],
   "source": [
    "sum(_)"
   ]
  },
  {
   "cell_type": "markdown",
   "metadata": {},
   "source": [
    "## 1.2 Linear Algebra\n",
    "### 1.2.1 Vectors and Basis sets\n",
    "We'll use the qutip library, even though this is all just linear algebra:"
   ]
  },
  {
   "cell_type": "code",
   "execution_count": 24,
   "metadata": {
    "execution": {
     "iopub.execute_input": "2021-02-12T00:15:38.111Z",
     "iopub.status.busy": "2021-02-12T00:15:38.100Z",
     "iopub.status.idle": "2021-02-12T00:15:38.127Z",
     "shell.execute_reply": "2021-02-12T00:15:38.137Z"
    }
   },
   "outputs": [],
   "source": [
    "rvec = array([1,2])  # A row vector"
   ]
  },
  {
   "cell_type": "code",
   "execution_count": 25,
   "metadata": {
    "execution": {
     "iopub.execute_input": "2021-02-12T00:15:38.614Z",
     "iopub.status.busy": "2021-02-12T00:15:38.604Z",
     "iopub.status.idle": "2021-02-12T00:15:38.635Z",
     "shell.execute_reply": "2021-02-12T00:15:38.644Z"
    }
   },
   "outputs": [
    {
     "data": {
      "text/plain": [
       "array([1, 2])"
      ]
     },
     "execution_count": 25,
     "metadata": {},
     "output_type": "execute_result"
    }
   ],
   "source": [
    "rvec"
   ]
  },
  {
   "cell_type": "code",
   "execution_count": 26,
   "metadata": {
    "execution": {
     "iopub.execute_input": "2021-02-12T00:15:39.084Z",
     "iopub.status.busy": "2021-02-12T00:15:39.075Z",
     "iopub.status.idle": "2021-02-12T00:15:39.098Z",
     "shell.execute_reply": "2021-02-12T00:15:39.108Z"
    }
   },
   "outputs": [],
   "source": [
    "cvec = array([[1],[2]])  # A column vector"
   ]
  },
  {
   "cell_type": "code",
   "execution_count": 27,
   "metadata": {
    "execution": {
     "iopub.execute_input": "2021-02-12T00:15:39.668Z",
     "iopub.status.busy": "2021-02-12T00:15:39.659Z",
     "iopub.status.idle": "2021-02-12T00:15:39.689Z",
     "shell.execute_reply": "2021-02-12T00:15:39.698Z"
    }
   },
   "outputs": [
    {
     "data": {
      "text/plain": [
       "array([[1],\n",
       "       [2]])"
      ]
     },
     "execution_count": 27,
     "metadata": {},
     "output_type": "execute_result"
    }
   ],
   "source": [
    "cvec"
   ]
  },
  {
   "cell_type": "code",
   "execution_count": 28,
   "metadata": {
    "execution": {
     "iopub.execute_input": "2021-02-12T00:15:40.182Z",
     "iopub.status.busy": "2021-02-12T00:15:40.173Z",
     "iopub.status.idle": "2021-02-12T00:15:40.201Z",
     "shell.execute_reply": "2021-02-12T00:15:40.211Z"
    }
   },
   "outputs": [
    {
     "data": {
      "text/plain": [
       "array([[1, 2],\n",
       "       [2, 4]])"
      ]
     },
     "execution_count": 28,
     "metadata": {},
     "output_type": "execute_result"
    }
   ],
   "source": [
    "cvec*rvec # Actually the outer product:"
   ]
  },
  {
   "cell_type": "code",
   "execution_count": 29,
   "metadata": {
    "execution": {
     "iopub.execute_input": "2021-02-12T00:15:40.706Z",
     "iopub.status.busy": "2021-02-12T00:15:40.697Z",
     "iopub.status.idle": "2021-02-12T00:15:40.725Z",
     "shell.execute_reply": "2021-02-12T00:15:40.738Z"
    }
   },
   "outputs": [
    {
     "data": {
      "text/plain": [
       "array([5])"
      ]
     },
     "execution_count": 29,
     "metadata": {},
     "output_type": "execute_result"
    }
   ],
   "source": [
    "dot(rvec,cvec)"
   ]
  },
  {
   "cell_type": "code",
   "execution_count": 30,
   "metadata": {
    "execution": {
     "iopub.execute_input": "2021-02-12T00:15:41.225Z",
     "iopub.status.busy": "2021-02-12T00:15:41.216Z",
     "iopub.status.idle": "2021-02-12T00:15:41.244Z",
     "shell.execute_reply": "2021-02-12T00:15:41.253Z"
    }
   },
   "outputs": [
    {
     "data": {
      "text/plain": [
       "array([[1, 2],\n",
       "       [2, 4]])"
      ]
     },
     "execution_count": 30,
     "metadata": {},
     "output_type": "execute_result"
    }
   ],
   "source": [
    "outer(cvec,rvec)"
   ]
  },
  {
   "cell_type": "markdown",
   "metadata": {
    "nteract": {
     "transient": {
      "deleting": false
     }
    }
   },
   "source": [
    "However, try running\n",
    "```\n",
    "dot(cvec,rvec)\n",
    "```\n",
    "it won't work (think about why not!)"
   ]
  },
  {
   "cell_type": "markdown",
   "metadata": {
    "nteract": {
     "transient": {
      "deleting": false
     }
    }
   },
   "source": []
  }
 ],
 "metadata": {
  "kernelspec": {
   "display_name": "Python 3",
   "language": "python",
   "name": "python3"
  },
  "language_info": {
   "codemirror_mode": {
    "name": "ipython",
    "version": 3
   },
   "file_extension": ".py",
   "mimetype": "text/x-python",
   "name": "python",
   "nbconvert_exporter": "python",
   "pygments_lexer": "ipython3",
   "version": "3.7.9"
  },
  "nteract": {
   "version": "0.23.3"
  }
 },
 "nbformat": 4,
 "nbformat_minor": 4
}