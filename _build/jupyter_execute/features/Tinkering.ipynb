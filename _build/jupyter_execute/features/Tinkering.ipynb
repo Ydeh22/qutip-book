{
 "cells": [
  {
   "cell_type": "code",
   "execution_count": 1,
   "metadata": {
    "collapsed": true
   },
   "outputs": [],
   "source": [
    "import qutip"
   ]
  },
  {
   "cell_type": "code",
   "execution_count": 2,
   "metadata": {
    "collapsed": true
   },
   "outputs": [],
   "source": [
    "import matplotlib"
   ]
  },
  {
   "cell_type": "markdown",
   "metadata": {
    "collapsed": true
   },
   "source": [
    "## Title\n",
    "Body"
   ]
  },
  {
   "cell_type": "markdown",
   "metadata": {},
   "source": [
    "## Title\n",
    "Body"
   ]
  },
  {
   "cell_type": "code",
   "execution_count": 3,
   "metadata": {},
   "outputs": [
    {
     "data": {
      "text/latex": [
       "Quantum object: dims = [[2], [2]], shape = (2, 2), type = oper, isherm = True\\begin{equation*}\\left(\\begin{array}{*{11}c}1.0 & 0.0\\\\0.0 & -1.0\\\\\\end{array}\\right)\\end{equation*}"
      ],
      "text/plain": [
       "Quantum object: dims = [[2], [2]], shape = (2, 2), type = oper, isherm = True\n",
       "Qobj data =\n",
       "[[ 1.  0.]\n",
       " [ 0. -1.]]"
      ]
     },
     "execution_count": 3,
     "metadata": {},
     "output_type": "execute_result"
    }
   ],
   "source": [
    "qutip.sigmaz()"
   ]
  },
  {
   "cell_type": "code",
   "execution_count": 4,
   "metadata": {},
   "outputs": [
    {
     "data": {
      "text/latex": [
       "Quantum object: dims = [[2], [1]], shape = (2, 1), type = ket\\begin{equation*}\\left(\\begin{array}{*{11}c}1.0\\\\0.0\\\\\\end{array}\\right)\\end{equation*}"
      ],
      "text/plain": [
       "Quantum object: dims = [[2], [1]], shape = (2, 1), type = ket\n",
       "Qobj data =\n",
       "[[1.]\n",
       " [0.]]"
      ]
     },
     "execution_count": 4,
     "metadata": {},
     "output_type": "execute_result"
    }
   ],
   "source": [
    "qutip.basis(2,0)"
   ]
  },
  {
   "cell_type": "code",
   "execution_count": 5,
   "metadata": {},
   "outputs": [
    {
     "data": {
      "text/latex": [
       "Quantum object: dims = [[10], [10]], shape = (10, 10), type = oper, isherm = True\\begin{equation*}\\left(\\begin{array}{*{11}c}0.018 & 0.037 & 0.052 & 0.060 & 0.060 & 0.054 & 0.043 & 0.035 & 0.020 & 0.022\\\\0.037 & 0.073 & 0.104 & 0.120 & 0.119 & 0.108 & 0.086 & 0.069 & 0.040 & 0.043\\\\0.052 & 0.104 & 0.147 & 0.169 & 0.169 & 0.152 & 0.122 & 0.098 & 0.057 & 0.061\\\\0.060 & 0.120 & 0.169 & 0.196 & 0.195 & 0.176 & 0.141 & 0.113 & 0.066 & 0.070\\\\0.060 & 0.119 & 0.169 & 0.195 & 0.195 & 0.175 & 0.140 & 0.113 & 0.065 & 0.070\\\\0.054 & 0.108 & 0.152 & 0.176 & 0.175 & 0.158 & 0.126 & 0.102 & 0.059 & 0.063\\\\0.043 & 0.086 & 0.122 & 0.141 & 0.140 & 0.126 & 0.101 & 0.081 & 0.047 & 0.051\\\\0.035 & 0.069 & 0.098 & 0.113 & 0.113 & 0.102 & 0.081 & 0.065 & 0.038 & 0.041\\\\0.020 & 0.040 & 0.057 & 0.066 & 0.065 & 0.059 & 0.047 & 0.038 & 0.022 & 0.024\\\\0.022 & 0.043 & 0.061 & 0.070 & 0.070 & 0.063 & 0.051 & 0.041 & 0.024 & 0.025\\\\\\end{array}\\right)\\end{equation*}"
      ],
      "text/plain": [
       "Quantum object: dims = [[10], [10]], shape = (10, 10), type = oper, isherm = True\n",
       "Qobj data =\n",
       "[[0.01831548 0.03663185 0.0517998  0.05983893 0.05974045 0.05375093\n",
       "  0.04301123 0.03461188 0.02006737 0.02157499]\n",
       " [0.03663185 0.07326548 0.10360213 0.11968078 0.11948382 0.10750448\n",
       "  0.08602455 0.06922546 0.04013571 0.04315104]\n",
       " [0.0517998  0.10360213 0.1465001  0.16923635 0.16895784 0.15201828\n",
       "  0.12164428 0.09788927 0.05675449 0.06101836]\n",
       " [0.05983893 0.11968078 0.16923635 0.19550118 0.19517944 0.17561093\n",
       "  0.140523   0.1130813  0.06556257 0.07048817]\n",
       " [0.05974045 0.11948382 0.16895784 0.19517944 0.19485824 0.17532193\n",
       "  0.14029174 0.11289521 0.06545467 0.07037217]\n",
       " [0.05375093 0.10750448 0.15201828 0.17561093 0.17532193 0.15774431\n",
       "  0.12622622 0.10157644 0.05889225 0.06331672]\n",
       " [0.04301123 0.08602455 0.12164428 0.140523   0.14029174 0.12622622\n",
       "  0.1010056  0.08128096 0.04712529 0.05066573]\n",
       " [0.03461188 0.06922546 0.09788927 0.1130813  0.11289521 0.10157644\n",
       "  0.08128096 0.06540821 0.03792254 0.04077159]\n",
       " [0.02006737 0.04013571 0.05675449 0.06556257 0.06545467 0.05889225\n",
       "  0.04712529 0.03792254 0.02198683 0.02363866]\n",
       " [0.02157499 0.04315104 0.06101836 0.07048817 0.07037217 0.06331672\n",
       "  0.05066573 0.04077159 0.02363866 0.02541459]]"
      ]
     },
     "execution_count": 5,
     "metadata": {},
     "output_type": "execute_result"
    }
   ],
   "source": [
    "qutip.coherent_dm(10,2)"
   ]
  },
  {
   "cell_type": "code",
   "execution_count": 6,
   "metadata": {},
   "outputs": [
    {
     "data": {
      "text/latex": [
       "Quantum object: dims = [[2], [1]], shape = (2, 1), type = ket\\begin{equation*}\\left(\\begin{array}{*{11}c}1.0\\\\0.0\\\\\\end{array}\\right)\\end{equation*}"
      ],
      "text/plain": [
       "Quantum object: dims = [[2], [1]], shape = (2, 1), type = ket\n",
       "Qobj data =\n",
       "[[1.]\n",
       " [0.]]"
      ]
     },
     "execution_count": 6,
     "metadata": {},
     "output_type": "execute_result"
    }
   ],
   "source": [
    "a = qutip.basis(2,0)\n",
    "a"
   ]
  },
  {
   "cell_type": "code",
   "execution_count": 7,
   "metadata": {},
   "outputs": [
    {
     "data": {
      "text/latex": [
       "Quantum object: dims = [[1], [2]], shape = (1, 2), type = bra\\begin{equation*}\\left(\\begin{array}{*{11}c}1.0 & 0.0\\\\\\end{array}\\right)\\end{equation*}"
      ],
      "text/plain": [
       "Quantum object: dims = [[1], [2]], shape = (1, 2), type = bra\n",
       "Qobj data =\n",
       "[[1. 0.]]"
      ]
     },
     "execution_count": 7,
     "metadata": {},
     "output_type": "execute_result"
    }
   ],
   "source": [
    "a.dag()"
   ]
  },
  {
   "cell_type": "code",
   "execution_count": 8,
   "metadata": {
    "collapsed": true
   },
   "outputs": [],
   "source": [
    "b = qutip.basis(2,0).dag()"
   ]
  },
  {
   "cell_type": "code",
   "execution_count": 9,
   "metadata": {},
   "outputs": [
    {
     "data": {
      "text/latex": [
       "Quantum object: dims = [[1], [1]], shape = (1, 1), type = bra\\begin{equation*}\\left(\\begin{array}{*{11}c}1.0\\\\\\end{array}\\right)\\end{equation*}"
      ],
      "text/plain": [
       "Quantum object: dims = [[1], [1]], shape = (1, 1), type = bra\n",
       "Qobj data =\n",
       "[[1.]]"
      ]
     },
     "execution_count": 9,
     "metadata": {},
     "output_type": "execute_result"
    }
   ],
   "source": [
    "b*a"
   ]
  },
  {
   "cell_type": "code",
   "execution_count": 10,
   "metadata": {},
   "outputs": [
    {
     "data": {
      "text/latex": [
       "Quantum object: dims = [[2], [2]], shape = (2, 2), type = oper, isherm = True\\begin{equation*}\\left(\\begin{array}{*{11}c}1.0 & 0.0\\\\0.0 & 0.0\\\\\\end{array}\\right)\\end{equation*}"
      ],
      "text/plain": [
       "Quantum object: dims = [[2], [2]], shape = (2, 2), type = oper, isherm = True\n",
       "Qobj data =\n",
       "[[1. 0.]\n",
       " [0. 0.]]"
      ]
     },
     "execution_count": 10,
     "metadata": {},
     "output_type": "execute_result"
    }
   ],
   "source": [
    "a*b"
   ]
  },
  {
   "cell_type": "code",
   "execution_count": null,
   "metadata": {
    "collapsed": true
   },
   "outputs": [],
   "source": []
  }
 ],
 "metadata": {
  "kernelspec": {
   "display_name": "Python 3",
   "language": "python",
   "name": "python3"
  },
  "language_info": {
   "codemirror_mode": {
    "name": "ipython",
    "version": 3
   },
   "file_extension": ".py",
   "mimetype": "text/x-python",
   "name": "python",
   "nbconvert_exporter": "python",
   "pygments_lexer": "ipython3",
   "version": "3.7.9"
  }
 },
 "nbformat": 4,
 "nbformat_minor": 1
}