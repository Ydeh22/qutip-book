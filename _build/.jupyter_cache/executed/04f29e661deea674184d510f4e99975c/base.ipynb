{
 "cells": [
  {
   "cell_type": "code",
   "execution_count": 1,
   "metadata": {
    "execution": {
     "iopub.execute_input": "2021-02-12T00:20:15.741Z",
     "iopub.status.busy": "2021-02-12T00:20:15.731Z",
     "iopub.status.idle": "2021-02-12T00:20:15.752Z",
     "shell.execute_reply": "2021-02-12T00:20:15.192Z"
    }
   },
   "outputs": [],
   "source": [
    "from numpy import array, dot, outer, sqrt, matrix\n",
    "from numpy.linalg import eig, eigvals\n",
    "from matplotlib.pyplot import hist"
   ]
  },
  {
   "cell_type": "code",
   "execution_count": 2,
   "metadata": {
    "execution": {
     "iopub.execute_input": "2021-02-12T00:20:15.779Z",
     "iopub.status.busy": "2021-02-12T00:20:15.768Z",
     "iopub.status.idle": "2021-02-12T00:20:15.790Z",
     "shell.execute_reply": "2021-02-12T00:20:15.204Z"
    }
   },
   "outputs": [],
   "source": [
    "%matplotlib inline"
   ]
  },
  {
   "cell_type": "code",
   "execution_count": 3,
   "metadata": {
    "execution": {
     "iopub.execute_input": "2021-02-12T00:20:15.821Z",
     "iopub.status.busy": "2021-02-12T00:20:15.808Z",
     "iopub.status.idle": "2021-02-12T00:20:15.841Z",
     "shell.execute_reply": "2021-02-12T00:20:15.218Z"
    }
   },
   "outputs": [
    {
     "data": {
      "text/plain": [
       "array([1, 2])"
      ]
     },
     "execution_count": 3,
     "metadata": {},
     "output_type": "execute_result"
    }
   ],
   "source": [
    "rv = array([1,2])  # a row vector\n",
    "rv"
   ]
  },
  {
   "cell_type": "code",
   "execution_count": 4,
   "metadata": {
    "execution": {
     "iopub.execute_input": "2021-02-12T00:20:15.866Z",
     "iopub.status.busy": "2021-02-12T00:20:15.856Z",
     "iopub.status.idle": "2021-02-12T00:20:15.882Z",
     "shell.execute_reply": "2021-02-12T00:20:15.231Z"
    }
   },
   "outputs": [
    {
     "data": {
      "text/plain": [
       "array([[3],\n",
       "       [4]])"
      ]
     },
     "execution_count": 4,
     "metadata": {},
     "output_type": "execute_result"
    }
   ],
   "source": [
    "cv = array([[3],[4]])  # a column vector\n",
    "cv"
   ]
  },
  {
   "cell_type": "code",
   "execution_count": 5,
   "metadata": {
    "execution": {
     "iopub.execute_input": "2021-02-12T00:20:15.908Z",
     "iopub.status.busy": "2021-02-12T00:20:15.898Z",
     "iopub.status.idle": "2021-02-12T00:20:15.925Z",
     "shell.execute_reply": "2021-02-12T00:20:15.245Z"
    }
   },
   "outputs": [
    {
     "data": {
      "text/plain": [
       "array([11])"
      ]
     },
     "execution_count": 5,
     "metadata": {},
     "output_type": "execute_result"
    }
   ],
   "source": [
    "dot(rv,cv)"
   ]
  },
  {
   "cell_type": "code",
   "execution_count": 6,
   "metadata": {
    "execution": {
     "iopub.execute_input": "2021-02-12T00:20:15.992Z",
     "iopub.status.busy": "2021-02-12T00:20:15.983Z",
     "iopub.status.idle": "2021-02-12T00:20:16.009Z",
     "shell.execute_reply": "2021-02-12T00:20:15.272Z"
    }
   },
   "outputs": [
    {
     "data": {
      "text/plain": [
       "array([[3, 4],\n",
       "       [6, 8]])"
      ]
     },
     "execution_count": 6,
     "metadata": {},
     "output_type": "execute_result"
    }
   ],
   "source": [
    "outer(rv,cv)"
   ]
  },
  {
   "cell_type": "code",
   "execution_count": 7,
   "metadata": {
    "execution": {
     "iopub.execute_input": "2021-02-12T00:20:16.037Z",
     "iopub.status.busy": "2021-02-12T00:20:16.027Z",
     "iopub.status.idle": "2021-02-12T00:20:16.053Z",
     "shell.execute_reply": "2021-02-12T00:20:15.283Z"
    }
   },
   "outputs": [
    {
     "data": {
      "text/plain": [
       "array([[3, 6],\n",
       "       [4, 8]])"
      ]
     },
     "execution_count": 7,
     "metadata": {},
     "output_type": "execute_result"
    }
   ],
   "source": [
    "outer(cv,rv)"
   ]
  },
  {
   "cell_type": "code",
   "execution_count": 8,
   "metadata": {
    "execution": {
     "iopub.execute_input": "2021-02-12T00:20:16.080Z",
     "iopub.status.busy": "2021-02-12T00:20:16.070Z",
     "iopub.status.idle": "2021-02-12T00:20:16.092Z",
     "shell.execute_reply": "2021-02-12T00:20:15.294Z"
    }
   },
   "outputs": [],
   "source": [
    "# Complex numbers in python have a j term:\n",
    "a = 1+2j"
   ]
  },
  {
   "cell_type": "code",
   "execution_count": 9,
   "metadata": {
    "execution": {
     "iopub.execute_input": "2021-02-12T00:20:16.118Z",
     "iopub.status.busy": "2021-02-12T00:20:16.108Z",
     "iopub.status.idle": "2021-02-12T00:20:16.129Z",
     "shell.execute_reply": "2021-02-12T00:20:15.308Z"
    }
   },
   "outputs": [],
   "source": [
    "v1 = array([1+2j, 3+2j, 5+1j, 4+0j])"
   ]
  },
  {
   "cell_type": "code",
   "execution_count": 10,
   "metadata": {
    "execution": {
     "iopub.execute_input": "2021-02-12T00:20:16.156Z",
     "iopub.status.busy": "2021-02-12T00:20:16.145Z",
     "iopub.status.idle": "2021-02-12T00:20:16.173Z",
     "shell.execute_reply": "2021-02-12T00:20:15.318Z"
    }
   },
   "outputs": [
    {
     "data": {
      "text/plain": [
       "array([1.-2.j, 3.-2.j, 5.-1.j, 4.-0.j])"
      ]
     },
     "execution_count": 10,
     "metadata": {},
     "output_type": "execute_result"
    }
   ],
   "source": [
    "v1.conjugate()"
   ]
  },
  {
   "cell_type": "code",
   "execution_count": 11,
   "metadata": {
    "execution": {
     "iopub.execute_input": "2021-02-12T00:20:16.201Z",
     "iopub.status.busy": "2021-02-12T00:20:16.190Z",
     "iopub.status.idle": "2021-02-12T00:20:16.218Z",
     "shell.execute_reply": "2021-02-12T00:20:15.327Z"
    }
   },
   "outputs": [
    {
     "data": {
      "text/plain": [
       "(60+0j)"
      ]
     },
     "execution_count": 11,
     "metadata": {},
     "output_type": "execute_result"
    }
   ],
   "source": [
    "dot(v1.conjugate(),v1)"
   ]
  },
  {
   "cell_type": "code",
   "execution_count": 12,
   "metadata": {
    "execution": {
     "iopub.execute_input": "2021-02-12T00:20:16.244Z",
     "iopub.status.busy": "2021-02-12T00:20:16.234Z",
     "iopub.status.idle": "2021-02-12T00:20:16.261Z",
     "shell.execute_reply": "2021-02-12T00:20:15.344Z"
    }
   },
   "outputs": [
    {
     "data": {
      "text/plain": [
       "array([[2, 1],\n",
       "       [2, 1]])"
      ]
     },
     "execution_count": 12,
     "metadata": {},
     "output_type": "execute_result"
    }
   ],
   "source": [
    "# a two-dimensional array\n",
    "m1 = array([[2,1],[2,1]])\n",
    "m1"
   ]
  },
  {
   "cell_type": "code",
   "execution_count": 13,
   "metadata": {
    "execution": {
     "iopub.execute_input": "2021-02-12T00:20:16.287Z",
     "iopub.status.busy": "2021-02-12T00:20:16.277Z",
     "iopub.status.idle": "2021-02-12T00:20:16.305Z",
     "shell.execute_reply": "2021-02-12T00:20:15.354Z"
    }
   },
   "outputs": [
    {
     "data": {
      "text/plain": [
       "array([[2, 2],\n",
       "       [1, 1]])"
      ]
     },
     "execution_count": 13,
     "metadata": {},
     "output_type": "execute_result"
    }
   ],
   "source": [
    "# can find transpose with the T method:\n",
    "m1.T"
   ]
  },
  {
   "cell_type": "code",
   "execution_count": 14,
   "metadata": {
    "execution": {
     "iopub.execute_input": "2021-02-12T00:20:16.331Z",
     "iopub.status.busy": "2021-02-12T00:20:16.321Z",
     "iopub.status.idle": "2021-02-12T00:20:16.349Z",
     "shell.execute_reply": "2021-02-12T00:20:15.364Z"
    }
   },
   "outputs": [
    {
     "data": {
      "text/plain": [
       "(array([3., 0.]),\n",
       " array([[ 0.70710678, -0.4472136 ],\n",
       "        [ 0.70710678,  0.89442719]]))"
      ]
     },
     "execution_count": 14,
     "metadata": {},
     "output_type": "execute_result"
    }
   ],
   "source": [
    "# find the eigenvalues and eigenvectors of a matrix:\n",
    "eig(m1)"
   ]
  },
  {
   "cell_type": "code",
   "execution_count": 15,
   "metadata": {
    "execution": {
     "iopub.execute_input": "2021-02-12T00:20:16.377Z",
     "iopub.status.busy": "2021-02-12T00:20:16.365Z",
     "iopub.status.idle": "2021-02-12T00:20:16.389Z",
     "shell.execute_reply": "2021-02-12T00:20:15.375Z"
    }
   },
   "outputs": [],
   "source": [
    "m2 = matrix( [[2,1],[2,1]])"
   ]
  },
  {
   "cell_type": "code",
   "execution_count": 16,
   "metadata": {
    "execution": {
     "iopub.execute_input": "2021-02-12T00:20:16.415Z",
     "iopub.status.busy": "2021-02-12T00:20:16.405Z",
     "iopub.status.idle": "2021-02-12T00:20:16.432Z",
     "shell.execute_reply": "2021-02-12T00:20:15.386Z"
    }
   },
   "outputs": [
    {
     "data": {
      "text/plain": [
       "matrix([[2, 2],\n",
       "        [1, 1]])"
      ]
     },
     "execution_count": 16,
     "metadata": {},
     "output_type": "execute_result"
    }
   ],
   "source": [
    "m2.H"
   ]
  },
  {
   "cell_type": "code",
   "execution_count": 17,
   "metadata": {
    "execution": {
     "iopub.execute_input": "2021-02-12T00:20:16.459Z",
     "iopub.status.busy": "2021-02-12T00:20:16.448Z",
     "iopub.status.idle": "2021-02-12T00:20:16.476Z",
     "shell.execute_reply": "2021-02-12T00:20:15.397Z"
    }
   },
   "outputs": [
    {
     "data": {
      "text/plain": [
       "(array([3., 0.]),\n",
       " matrix([[ 0.70710678, -0.4472136 ],\n",
       "         [ 0.70710678,  0.89442719]]))"
      ]
     },
     "execution_count": 17,
     "metadata": {},
     "output_type": "execute_result"
    }
   ],
   "source": [
    "eig(m2)"
   ]
  },
  {
   "cell_type": "code",
   "execution_count": 18,
   "metadata": {
    "execution": {
     "iopub.execute_input": "2021-02-12T00:20:16.505Z",
     "iopub.status.busy": "2021-02-12T00:20:16.494Z",
     "iopub.status.idle": "2021-02-12T00:20:16.516Z",
     "shell.execute_reply": "2021-02-12T00:20:15.416Z"
    }
   },
   "outputs": [],
   "source": [
    "# use a question mark to get help on a command\n",
    "eig?"
   ]
  },
  {
   "cell_type": "code",
   "execution_count": 19,
   "metadata": {
    "execution": {
     "iopub.execute_input": "2021-02-12T00:20:16.543Z",
     "iopub.status.busy": "2021-02-12T00:20:16.532Z",
     "iopub.status.idle": "2021-02-12T00:20:16.554Z",
     "shell.execute_reply": "2021-02-12T00:20:15.427Z"
    }
   },
   "outputs": [],
   "source": [
    "M14 = array([[0,1],[-2,3]])"
   ]
  },
  {
   "cell_type": "code",
   "execution_count": 20,
   "metadata": {
    "execution": {
     "iopub.execute_input": "2021-02-12T00:20:16.580Z",
     "iopub.status.busy": "2021-02-12T00:20:16.570Z",
     "iopub.status.idle": "2021-02-12T00:20:16.598Z",
     "shell.execute_reply": "2021-02-12T00:20:15.437Z"
    }
   },
   "outputs": [
    {
     "data": {
      "text/plain": [
       "(array([1., 2.]),\n",
       " array([[-0.70710678, -0.4472136 ],\n",
       "        [-0.70710678, -0.89442719]]))"
      ]
     },
     "execution_count": 20,
     "metadata": {},
     "output_type": "execute_result"
    }
   ],
   "source": [
    "eig(M14)"
   ]
  },
  {
   "cell_type": "code",
   "execution_count": 21,
   "metadata": {
    "execution": {
     "iopub.execute_input": "2021-02-12T00:20:16.627Z",
     "iopub.status.busy": "2021-02-12T00:20:16.615Z",
     "iopub.status.idle": "2021-02-12T00:20:16.645Z",
     "shell.execute_reply": "2021-02-12T00:20:15.448Z"
    }
   },
   "outputs": [
    {
     "data": {
      "text/plain": [
       "0.7071067811865475"
      ]
     },
     "execution_count": 21,
     "metadata": {},
     "output_type": "execute_result"
    }
   ],
   "source": [
    "1/sqrt(2)  # this is the value for both entries in the first eigenvector"
   ]
  },
  {
   "cell_type": "code",
   "execution_count": 22,
   "metadata": {
    "execution": {
     "iopub.execute_input": "2021-02-12T00:20:16.671Z",
     "iopub.status.busy": "2021-02-12T00:20:16.660Z",
     "iopub.status.idle": "2021-02-12T00:20:16.688Z",
     "shell.execute_reply": "2021-02-12T00:20:15.459Z"
    }
   },
   "outputs": [
    {
     "data": {
      "text/plain": [
       "0.4472135954999579"
      ]
     },
     "execution_count": 22,
     "metadata": {},
     "output_type": "execute_result"
    }
   ],
   "source": [
    "1/sqrt(5)  # this is the first value in the second eigenvector"
   ]
  },
  {
   "cell_type": "code",
   "execution_count": 23,
   "metadata": {
    "execution": {
     "iopub.execute_input": "2021-02-12T00:20:16.714Z",
     "iopub.status.busy": "2021-02-12T00:20:16.704Z",
     "iopub.status.idle": "2021-02-12T00:20:16.731Z",
     "shell.execute_reply": "2021-02-12T00:20:15.470Z"
    }
   },
   "outputs": [
    {
     "data": {
      "text/plain": [
       "0.8944271909999159"
      ]
     },
     "execution_count": 23,
     "metadata": {},
     "output_type": "execute_result"
    }
   ],
   "source": [
    "2/sqrt(5)  # this is the second value in the second eigenvector"
   ]
  },
  {
   "cell_type": "code",
   "execution_count": 24,
   "metadata": {
    "execution": {
     "iopub.execute_input": "2021-02-12T00:20:16.758Z",
     "iopub.status.busy": "2021-02-12T00:20:16.747Z",
     "iopub.status.idle": "2021-02-12T00:20:16.776Z",
     "shell.execute_reply": "2021-02-12T00:20:15.481Z"
    }
   },
   "outputs": [
    {
     "data": {
      "text/plain": [
       "array([1., 2.])"
      ]
     },
     "execution_count": 24,
     "metadata": {},
     "output_type": "execute_result"
    }
   ],
   "source": [
    "eigvals(M14)"
   ]
  },
  {
   "cell_type": "code",
   "execution_count": 25,
   "metadata": {
    "execution": {
     "iopub.execute_input": "2021-02-12T00:20:16.804Z",
     "iopub.status.busy": "2021-02-12T00:20:16.792Z",
     "iopub.status.idle": "2021-02-12T00:20:16.815Z",
     "shell.execute_reply": "2021-02-12T00:20:15.492Z"
    }
   },
   "outputs": [],
   "source": [
    "M16 = array([[0,-1j],[1j,0]])"
   ]
  },
  {
   "cell_type": "code",
   "execution_count": 26,
   "metadata": {
    "execution": {
     "iopub.execute_input": "2021-02-12T00:20:16.842Z",
     "iopub.status.busy": "2021-02-12T00:20:16.831Z",
     "iopub.status.idle": "2021-02-12T00:20:16.853Z",
     "shell.execute_reply": "2021-02-12T00:20:15.502Z"
    }
   },
   "outputs": [],
   "source": [
    "evals, evecs = eig(M16)"
   ]
  },
  {
   "cell_type": "code",
   "execution_count": 27,
   "metadata": {
    "execution": {
     "iopub.execute_input": "2021-02-12T00:20:16.879Z",
     "iopub.status.busy": "2021-02-12T00:20:16.869Z",
     "iopub.status.idle": "2021-02-12T00:20:16.896Z",
     "shell.execute_reply": "2021-02-12T00:20:15.512Z"
    }
   },
   "outputs": [
    {
     "data": {
      "text/plain": [
       "array([[-0.        -0.70710678j,  0.70710678+0.j        ],\n",
       "       [ 0.70710678+0.j        ,  0.        -0.70710678j]])"
      ]
     },
     "execution_count": 27,
     "metadata": {},
     "output_type": "execute_result"
    }
   ],
   "source": [
    "evecs"
   ]
  },
  {
   "cell_type": "code",
   "execution_count": 28,
   "metadata": {
    "execution": {
     "iopub.execute_input": "2021-02-12T00:20:16.924Z",
     "iopub.status.busy": "2021-02-12T00:20:16.913Z",
     "iopub.status.idle": "2021-02-12T00:20:16.942Z",
     "shell.execute_reply": "2021-02-12T00:20:15.523Z"
    }
   },
   "outputs": [
    {
     "data": {
      "text/plain": [
       "array([-0.        -0.70710678j,  0.70710678+0.j        ])"
      ]
     },
     "execution_count": 28,
     "metadata": {},
     "output_type": "execute_result"
    }
   ],
   "source": [
    "evecs[:,0]"
   ]
  },
  {
   "cell_type": "code",
   "execution_count": 29,
   "metadata": {
    "execution": {
     "iopub.execute_input": "2021-02-12T00:20:16.968Z",
     "iopub.status.busy": "2021-02-12T00:20:16.957Z",
     "iopub.status.idle": "2021-02-12T00:20:16.984Z",
     "shell.execute_reply": "2021-02-12T00:20:15.532Z"
    }
   },
   "outputs": [
    {
     "data": {
      "text/plain": [
       "array([0.70710678+0.j        , 0.        -0.70710678j])"
      ]
     },
     "execution_count": 29,
     "metadata": {},
     "output_type": "execute_result"
    }
   ],
   "source": [
    "evecs[:,1]"
   ]
  },
  {
   "cell_type": "code",
   "execution_count": 30,
   "metadata": {
    "execution": {
     "iopub.execute_input": "2021-02-12T00:20:17.012Z",
     "iopub.status.busy": "2021-02-12T00:20:17.001Z",
     "iopub.status.idle": "2021-02-12T00:20:17.029Z",
     "shell.execute_reply": "2021-02-12T00:20:15.543Z"
    }
   },
   "outputs": [
    {
     "data": {
      "text/plain": [
       "-1.6653345369377348e-16j"
      ]
     },
     "execution_count": 30,
     "metadata": {},
     "output_type": "execute_result"
    }
   ],
   "source": [
    "dot(evecs[:,0].conjugate(),evecs[:,1])"
   ]
  },
  {
   "cell_type": "code",
   "execution_count": 31,
   "metadata": {
    "execution": {
     "iopub.execute_input": "2021-02-12T00:20:17.057Z",
     "iopub.status.busy": "2021-02-12T00:20:17.046Z",
     "iopub.status.idle": "2021-02-12T00:20:17.069Z",
     "shell.execute_reply": "2021-02-12T00:20:15.553Z"
    }
   },
   "outputs": [],
   "source": [
    "from qutip import *"
   ]
  },
  {
   "cell_type": "code",
   "execution_count": 32,
   "metadata": {
    "execution": {
     "iopub.execute_input": "2021-02-12T00:20:17.095Z",
     "iopub.status.busy": "2021-02-12T00:20:17.085Z",
     "iopub.status.idle": "2021-02-12T00:20:17.121Z",
     "shell.execute_reply": "2021-02-12T00:20:15.563Z"
    }
   },
   "outputs": [
    {
     "data": {
      "text/latex": [
       "Quantum object: dims = [[1], [2]], shape = (1, 2), type = bra\\begin{equation*}\\left(\\begin{array}{*{11}c}1.0 & 2.0\\\\\\end{array}\\right)\\end{equation*}"
      ],
      "text/plain": [
       "Quantum object: dims = [[1], [2]], shape = (1, 2), type = bra\n",
       "Qobj data =\n",
       "[[1. 2.]]"
      ]
     },
     "execution_count": 32,
     "metadata": {},
     "output_type": "execute_result"
    }
   ],
   "source": [
    "# Create a row vector:\n",
    "qv = Qobj([[1,2]])\n",
    "qv"
   ]
  },
  {
   "cell_type": "code",
   "execution_count": 33,
   "metadata": {
    "execution": {
     "iopub.execute_input": "2021-02-12T00:20:17.148Z",
     "iopub.status.busy": "2021-02-12T00:20:17.137Z",
     "iopub.status.idle": "2021-02-12T00:20:17.169Z",
     "shell.execute_reply": "2021-02-12T00:20:15.574Z"
    }
   },
   "outputs": [
    {
     "data": {
      "text/latex": [
       "Quantum object: dims = [[2], [1]], shape = (2, 1), type = ket\\begin{equation*}\\left(\\begin{array}{*{11}c}1.0\\\\2.0\\\\\\end{array}\\right)\\end{equation*}"
      ],
      "text/plain": [
       "Quantum object: dims = [[2], [1]], shape = (2, 1), type = ket\n",
       "Qobj data =\n",
       "[[1.]\n",
       " [2.]]"
      ]
     },
     "execution_count": 33,
     "metadata": {},
     "output_type": "execute_result"
    }
   ],
   "source": [
    "# Find the corresponding column vector\n",
    "qv.dag()"
   ]
  },
  {
   "cell_type": "code",
   "execution_count": 34,
   "metadata": {
    "execution": {
     "iopub.execute_input": "2021-02-12T00:20:17.198Z",
     "iopub.status.busy": "2021-02-12T00:20:17.186Z",
     "iopub.status.idle": "2021-02-12T00:20:17.222Z",
     "shell.execute_reply": "2021-02-12T00:20:15.583Z"
    }
   },
   "outputs": [
    {
     "data": {
      "text/latex": [
       "Quantum object: dims = [[1], [2]], shape = (1, 2), type = bra\\begin{equation*}\\left(\\begin{array}{*{11}c}(1.0+2.0j) & (4.0-1.0j)\\\\\\end{array}\\right)\\end{equation*}"
      ],
      "text/plain": [
       "Quantum object: dims = [[1], [2]], shape = (1, 2), type = bra\n",
       "Qobj data =\n",
       "[[1.+2.j 4.-1.j]]"
      ]
     },
     "execution_count": 34,
     "metadata": {},
     "output_type": "execute_result"
    }
   ],
   "source": [
    "qv2 = Qobj([[1+2j,4-1j]])\n",
    "qv2"
   ]
  },
  {
   "cell_type": "code",
   "execution_count": 35,
   "metadata": {
    "execution": {
     "iopub.execute_input": "2021-02-12T00:20:17.249Z",
     "iopub.status.busy": "2021-02-12T00:20:17.238Z",
     "iopub.status.idle": "2021-02-12T00:20:17.272Z",
     "shell.execute_reply": "2021-02-12T00:20:15.595Z"
    }
   },
   "outputs": [
    {
     "data": {
      "text/latex": [
       "Quantum object: dims = [[2], [1]], shape = (2, 1), type = ket\\begin{equation*}\\left(\\begin{array}{*{11}c}(1.0-2.0j)\\\\(4.0+1.0j)\\\\\\end{array}\\right)\\end{equation*}"
      ],
      "text/plain": [
       "Quantum object: dims = [[2], [1]], shape = (2, 1), type = ket\n",
       "Qobj data =\n",
       "[[1.-2.j]\n",
       " [4.+1.j]]"
      ]
     },
     "execution_count": 35,
     "metadata": {},
     "output_type": "execute_result"
    }
   ],
   "source": [
    "qv2.dag()"
   ]
  },
  {
   "cell_type": "code",
   "execution_count": 36,
   "metadata": {
    "execution": {
     "iopub.execute_input": "2021-02-12T00:20:17.300Z",
     "iopub.status.busy": "2021-02-12T00:20:17.289Z",
     "iopub.status.idle": "2021-02-12T00:20:17.322Z",
     "shell.execute_reply": "2021-02-12T00:20:15.605Z"
    }
   },
   "outputs": [
    {
     "data": {
      "text/latex": [
       "Quantum object: dims = [[1], [1]], shape = (1, 1), type = bra\\begin{equation*}\\left(\\begin{array}{*{11}c}22.0\\\\\\end{array}\\right)\\end{equation*}"
      ],
      "text/plain": [
       "Quantum object: dims = [[1], [1]], shape = (1, 1), type = bra\n",
       "Qobj data =\n",
       "[[22.]]"
      ]
     },
     "execution_count": 36,
     "metadata": {},
     "output_type": "execute_result"
    }
   ],
   "source": [
    "qv2*qv2.dag()  # inner product (dot product)"
   ]
  },
  {
   "cell_type": "code",
   "execution_count": 37,
   "metadata": {
    "execution": {
     "iopub.execute_input": "2021-02-12T00:20:17.351Z",
     "iopub.status.busy": "2021-02-12T00:20:17.339Z",
     "iopub.status.idle": "2021-02-12T00:20:17.374Z",
     "shell.execute_reply": "2021-02-12T00:20:15.616Z"
    }
   },
   "outputs": [
    {
     "data": {
      "text/latex": [
       "Quantum object: dims = [[2], [2]], shape = (2, 2), type = oper, isherm = True\\begin{equation*}\\left(\\begin{array}{*{11}c}5.0 & (2.0-9.0j)\\\\(2.0+9.0j) & 17.0\\\\\\end{array}\\right)\\end{equation*}"
      ],
      "text/plain": [
       "Quantum object: dims = [[2], [2]], shape = (2, 2), type = oper, isherm = True\n",
       "Qobj data =\n",
       "[[ 5.+0.j  2.-9.j]\n",
       " [ 2.+9.j 17.+0.j]]"
      ]
     },
     "execution_count": 37,
     "metadata": {},
     "output_type": "execute_result"
    }
   ],
   "source": [
    "qv2.dag()*qv2  # outer product"
   ]
  },
  {
   "cell_type": "code",
   "execution_count": 38,
   "metadata": {
    "execution": {
     "iopub.execute_input": "2021-02-12T00:20:17.400Z",
     "iopub.status.busy": "2021-02-12T00:20:17.390Z",
     "iopub.status.idle": "2021-02-12T00:20:17.422Z",
     "shell.execute_reply": "2021-02-12T00:20:15.626Z"
    }
   },
   "outputs": [
    {
     "data": {
      "text/latex": [
       "Quantum object: dims = [[2], [2]], shape = (2, 2), type = oper, isherm = True\\begin{equation*}\\left(\\begin{array}{*{11}c}1.0 & 2.0\\\\2.0 & 1.0\\\\\\end{array}\\right)\\end{equation*}"
      ],
      "text/plain": [
       "Quantum object: dims = [[2], [2]], shape = (2, 2), type = oper, isherm = True\n",
       "Qobj data =\n",
       "[[1. 2.]\n",
       " [2. 1.]]"
      ]
     },
     "execution_count": 38,
     "metadata": {},
     "output_type": "execute_result"
    }
   ],
   "source": [
    "qm = Qobj([[1,2],[2,1]])\n",
    "qm"
   ]
  },
  {
   "cell_type": "code",
   "execution_count": 39,
   "metadata": {
    "execution": {
     "iopub.execute_input": "2021-02-12T00:20:17.449Z",
     "iopub.status.busy": "2021-02-12T00:20:17.438Z",
     "iopub.status.idle": "2021-02-12T00:20:17.466Z",
     "shell.execute_reply": "2021-02-12T00:20:15.638Z"
    }
   },
   "outputs": [
    {
     "data": {
      "text/plain": [
       "array([-1.,  3.])"
      ]
     },
     "execution_count": 39,
     "metadata": {},
     "output_type": "execute_result"
    }
   ],
   "source": [
    "qm.eigenenergies()  # in quantum (as we will learn) eigenvalues often correspond to energy levels"
   ]
  },
  {
   "cell_type": "code",
   "execution_count": 40,
   "metadata": {
    "execution": {
     "iopub.execute_input": "2021-02-12T00:20:17.495Z",
     "iopub.status.busy": "2021-02-12T00:20:17.483Z",
     "iopub.status.idle": "2021-02-12T00:20:17.506Z",
     "shell.execute_reply": "2021-02-12T00:20:15.648Z"
    }
   },
   "outputs": [],
   "source": [
    "evals, evecs = qm.eigenstates()"
   ]
  },
  {
   "cell_type": "code",
   "execution_count": 41,
   "metadata": {
    "execution": {
     "iopub.execute_input": "2021-02-12T00:20:17.534Z",
     "iopub.status.busy": "2021-02-12T00:20:17.523Z",
     "iopub.status.idle": "2021-02-12T00:20:17.551Z",
     "shell.execute_reply": "2021-02-12T00:20:15.659Z"
    }
   },
   "outputs": [
    {
     "data": {
      "text/plain": [
       "array([Quantum object: dims = [[2], [1]], shape = (2, 1), type = ket\n",
       "Qobj data =\n",
       "[[-0.70710678]\n",
       " [ 0.70710678]],\n",
       "       Quantum object: dims = [[2], [1]], shape = (2, 1), type = ket\n",
       "Qobj data =\n",
       "[[0.70710678]\n",
       " [0.70710678]]], dtype=object)"
      ]
     },
     "execution_count": 41,
     "metadata": {},
     "output_type": "execute_result"
    }
   ],
   "source": [
    "evecs"
   ]
  },
  {
   "cell_type": "code",
   "execution_count": 42,
   "metadata": {
    "execution": {
     "iopub.execute_input": "2021-02-12T00:20:17.578Z",
     "iopub.status.busy": "2021-02-12T00:20:17.567Z",
     "iopub.status.idle": "2021-02-12T00:20:17.600Z",
     "shell.execute_reply": "2021-02-12T00:20:15.668Z"
    }
   },
   "outputs": [
    {
     "data": {
      "text/latex": [
       "Quantum object: dims = [[2], [1]], shape = (2, 1), type = ket\\begin{equation*}\\left(\\begin{array}{*{11}c}0.707\\\\0.707\\\\\\end{array}\\right)\\end{equation*}"
      ],
      "text/plain": [
       "Quantum object: dims = [[2], [1]], shape = (2, 1), type = ket\n",
       "Qobj data =\n",
       "[[0.70710678]\n",
       " [0.70710678]]"
      ]
     },
     "execution_count": 42,
     "metadata": {},
     "output_type": "execute_result"
    }
   ],
   "source": [
    "evecs[1]"
   ]
  },
  {
   "cell_type": "code",
   "execution_count": 43,
   "metadata": {
    "execution": {
     "iopub.execute_input": "2021-02-12T00:20:17.629Z",
     "iopub.status.busy": "2021-02-12T00:20:17.617Z",
     "iopub.status.idle": "2021-02-12T00:20:17.648Z",
     "shell.execute_reply": "2021-02-12T00:20:15.679Z"
    }
   },
   "outputs": [
    {
     "data": {
      "image/png": "[encoded data removed]",
      "text/plain": [
       "<Figure size 432x288 with 1 Axes>"
      ]
     },
     "metadata": {
      "needs_background": "light"
     },
     "output_type": "display_data"
    }
   ],
   "source": [
    "# Solution\n",
    "data = [10,13,14,14,6,8,7,9,12,14,13,11,10,7,7]\n",
    "# Fill in the hist() function:\n",
    "n, bins, patches = hist(data, bins=9, range=(5,14))"
   ]
  },
  {
   "cell_type": "code",
   "execution_count": 44,
   "metadata": {
    "execution": {
     "iopub.execute_input": "2021-02-12T00:20:17.675Z",
     "iopub.status.busy": "2021-02-12T00:20:17.664Z",
     "iopub.status.idle": "2021-02-12T00:20:17.694Z",
     "shell.execute_reply": "2021-02-12T00:20:15.689Z"
    }
   },
   "outputs": [
    {
     "data": {
      "text/plain": [
       "array([ 5.5,  6.5,  7.5,  8.5,  9.5, 10.5, 11.5, 12.5, 13.5, 14.5])"
      ]
     },
     "execution_count": 44,
     "metadata": {},
     "output_type": "execute_result"
    }
   ],
   "source": [
    "bins+0.5"
   ]
  },
  {
   "cell_type": "code",
   "execution_count": 45,
   "metadata": {
    "execution": {
     "iopub.execute_input": "2021-02-12T00:20:17.723Z",
     "iopub.status.busy": "2021-02-12T00:20:17.712Z",
     "iopub.status.idle": "2021-02-12T00:20:17.735Z",
     "shell.execute_reply": "2021-02-12T00:20:15.704Z"
    }
   },
   "outputs": [],
   "source": [
    "# Solution\n",
    "hist?"
   ]
  },
  {
   "cell_type": "code",
   "execution_count": 46,
   "metadata": {
    "execution": {
     "iopub.execute_input": "2021-02-12T00:20:17.762Z",
     "iopub.status.busy": "2021-02-12T00:20:17.751Z",
     "iopub.status.idle": "2021-02-12T00:20:17.774Z",
     "shell.execute_reply": "2021-02-12T00:20:15.714Z"
    }
   },
   "outputs": [],
   "source": [
    "# Solution\n"
   ]
  }
 ],
 "metadata": {
  "kernelspec": {
   "display_name": "Python 3",
   "language": "python",
   "name": "python3"
  },
  "language_info": {
   "codemirror_mode": {
    "name": "ipython",
    "version": 3
   },
   "file_extension": ".py",
   "mimetype": "text/x-python",
   "name": "python",
   "nbconvert_exporter": "python",
   "pygments_lexer": "ipython3",
   "version": "3.7.9"
  },
  "nteract": {
   "version": "0.23.3"
  }
 },
 "nbformat": 4,
 "nbformat_minor": 4
}