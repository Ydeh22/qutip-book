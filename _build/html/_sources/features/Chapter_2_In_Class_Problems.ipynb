{
  "cells": [
    {
      "cell_type": "markdown",
      "source": [
        "# Chapter 2 in-class problems"
      ],
      "metadata": {
        "nteract": {
          "transient": {
            "deleting": false
          }
        }
      }
    },
    {
      "cell_type": "markdown",
      "source": [
        "## 2.3 Find the eigenvalues and vectors of J$_\\theta$ for $\\theta$=45"
      ],
      "metadata": {
        "nteract": {
          "transient": {
            "deleting": false
          }
        }
      }
    },
    {
      "cell_type": "code",
      "source": [
        "from qutip import *\n",
        "from numpy import cos, sin, pi, deg2rad"
      ],
      "outputs": [],
      "execution_count": 1,
      "metadata": {}
    },
    {
      "cell_type": "code",
      "source": [
        "qm = Qobj([[cos(pi/4)**2,cos(pi/4)*sin(pi/4)],[cos(pi/4)*sin(pi/4),sin(pi/4)**2]])"
      ],
      "outputs": [],
      "execution_count": 2,
      "metadata": {}
    },
    {
      "cell_type": "code",
      "source": [
        "qm"
      ],
      "outputs": [
        {
          "output_type": "execute_result",
          "execution_count": 3,
          "data": {
            "text/latex": [
              "Quantum object: dims = [[2], [2]], shape = (2, 2), type = oper, isherm = True\\begin{equation*}\\left(\\begin{array}{*{11}c}0.500 & 0.500\\\\0.500 & 0.500\\\\\\end{array}\\right)\\end{equation*}"
            ],
            "text/plain": [
              "Quantum object: dims = [[2], [2]], shape = (2, 2), type = oper, isherm = True\n",
              "Qobj data =\n",
              "[[0.5 0.5]\n",
              " [0.5 0.5]]"
            ]
          },
          "metadata": {}
        }
      ],
      "execution_count": 3,
      "metadata": {}
    },
    {
      "cell_type": "code",
      "source": [
        "qm.eigenstates()"
      ],
      "outputs": [
        {
          "output_type": "execute_result",
          "execution_count": 4,
          "data": {
            "text/plain": [
              "(array([0., 1.]),\n",
              " array([Quantum object: dims = [[2], [1]], shape = (2, 1), type = ket\n",
              " Qobj data =\n",
              " [[ 0.70710678]\n",
              "  [-0.70710678]],\n",
              "        Quantum object: dims = [[2], [1]], shape = (2, 1), type = ket\n",
              " Qobj data =\n",
              " [[-0.70710678]\n",
              "  [-0.70710678]]], dtype=object))"
            ]
          },
          "metadata": {}
        }
      ],
      "execution_count": 4,
      "metadata": {}
    },
    {
      "cell_type": "code",
      "source": [
        "from numpy import sqrt, exp\n",
        "1/sqrt(2)"
      ],
      "outputs": [
        {
          "output_type": "execute_result",
          "execution_count": 5,
          "data": {
            "text/plain": [
              "0.7071067811865475"
            ]
          },
          "metadata": {}
        }
      ],
      "execution_count": 5,
      "metadata": {}
    },
    {
      "cell_type": "code",
      "source": [
        "phi = 1.5\n",
        "Jphi = Qobj([[exp(1j)*phi,0],[0,1]])\n",
        "Jphi "
      ],
      "outputs": [
        {
          "output_type": "execute_result",
          "execution_count": 6,
          "data": {
            "text/latex": [
              "Quantum object: dims = [[2], [2]], shape = (2, 2), type = oper, isherm = False\\begin{equation*}\\left(\\begin{array}{*{11}c}(0.810+1.262j) & 0.0\\\\0.0 & 1.0\\\\\\end{array}\\right)\\end{equation*}"
            ],
            "text/plain": [
              "Quantum object: dims = [[2], [2]], shape = (2, 2), type = oper, isherm = False\n",
              "Qobj data =\n",
              "[[0.81045346+1.26220648j 0.        +0.j        ]\n",
              " [0.        +0.j         1.        +0.j        ]]"
            ]
          },
          "metadata": {}
        }
      ],
      "execution_count": 6,
      "metadata": {}
    },
    {
      "cell_type": "code",
      "source": [
        "hvec = Qobj([[1],[0]])\n",
        "hvec"
      ],
      "outputs": [
        {
          "output_type": "execute_result",
          "execution_count": 7,
          "data": {
            "text/latex": [
              "Quantum object: dims = [[2], [1]], shape = (2, 1), type = ket\\begin{equation*}\\left(\\begin{array}{*{11}c}1.0\\\\0.0\\\\\\end{array}\\right)\\end{equation*}"
            ],
            "text/plain": [
              "Quantum object: dims = [[2], [1]], shape = (2, 1), type = ket\n",
              "Qobj data =\n",
              "[[1.]\n",
              " [0.]]"
            ]
          },
          "metadata": {}
        }
      ],
      "execution_count": 7,
      "metadata": {}
    },
    {
      "cell_type": "code",
      "source": [
        "vvec = Qobj([[0],[1]])\n",
        "vvec"
      ],
      "outputs": [
        {
          "output_type": "execute_result",
          "execution_count": 8,
          "data": {
            "text/latex": [
              "Quantum object: dims = [[2], [1]], shape = (2, 1), type = ket\\begin{equation*}\\left(\\begin{array}{*{11}c}0.0\\\\1.0\\\\\\end{array}\\right)\\end{equation*}"
            ],
            "text/plain": [
              "Quantum object: dims = [[2], [1]], shape = (2, 1), type = ket\n",
              "Qobj data =\n",
              "[[0.]\n",
              " [1.]]"
            ]
          },
          "metadata": {}
        }
      ],
      "execution_count": 8,
      "metadata": {}
    },
    {
      "cell_type": "code",
      "source": [
        "Jphi*hvec"
      ],
      "outputs": [
        {
          "output_type": "execute_result",
          "execution_count": 9,
          "data": {
            "text/latex": [
              "Quantum object: dims = [[2], [1]], shape = (2, 1), type = ket\\begin{equation*}\\left(\\begin{array}{*{11}c}(0.810+1.262j)\\\\0.0\\\\\\end{array}\\right)\\end{equation*}"
            ],
            "text/plain": [
              "Quantum object: dims = [[2], [1]], shape = (2, 1), type = ket\n",
              "Qobj data =\n",
              "[[0.81045346+1.26220648j]\n",
              " [0.        +0.j        ]]"
            ]
          },
          "metadata": {}
        }
      ],
      "execution_count": 9,
      "metadata": {}
    },
    {
      "cell_type": "code",
      "source": [
        "Jphi*vvec"
      ],
      "outputs": [
        {
          "output_type": "execute_result",
          "execution_count": 10,
          "data": {
            "text/latex": [
              "Quantum object: dims = [[2], [1]], shape = (2, 1), type = ket\\begin{equation*}\\left(\\begin{array}{*{11}c}0.0\\\\1.0\\\\\\end{array}\\right)\\end{equation*}"
            ],
            "text/plain": [
              "Quantum object: dims = [[2], [1]], shape = (2, 1), type = ket\n",
              "Qobj data =\n",
              "[[0.]\n",
              " [1.]]"
            ]
          },
          "metadata": {}
        }
      ],
      "execution_count": 10,
      "metadata": {}
    },
    {
      "cell_type": "code",
      "source": [],
      "outputs": [],
      "execution_count": null,
      "metadata": {}
    }
  ],
  "metadata": {
    "kernelspec": {
      "display_name": "Python 3",
      "language": "python",
      "name": "python3"
    },
    "language_info": {
      "name": "python",
      "version": "3.7.9",
      "mimetype": "text/x-python",
      "codemirror_mode": {
        "name": "ipython",
        "version": 3
      },
      "pygments_lexer": "ipython3",
      "nbconvert_exporter": "python",
      "file_extension": ".py"
    },
    "nteract": {
      "version": "0.23.3"
    }
  },
  "nbformat": 4,
  "nbformat_minor": 4
}