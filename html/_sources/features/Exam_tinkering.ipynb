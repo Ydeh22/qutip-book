{
 "cells": [
  {
   "cell_type": "code",
   "execution_count": 3,
   "metadata": {
    "collapsed": false,
    "jupyter": {
     "outputs_hidden": false
    }
   },
   "outputs": [
    {
     "name": "stdout",
     "output_type": "stream",
     "text": [
      "Populating the interactive namespace from numpy and matplotlib\n"
     ]
    }
   ],
   "source": [
    "%pylab inline\n",
    "from qutip import *"
   ]
  },
  {
   "cell_type": "code",
   "execution_count": 24,
   "metadata": {
    "collapsed": false,
    "jupyter": {
     "outputs_hidden": false
    }
   },
   "outputs": [
    {
     "data": {
      "text/latex": [
       "\\begin{equation}\\text{Quantum object: dims = [[2], [2]], shape = [2, 2], type = oper, isHerm = True}\\\\[1em]\\begin{pmatrix}2.0 & 1.0\\\\1.0 & 2.0\\\\\\end{pmatrix}\\end{equation}"
      ],
      "text/plain": [
       "Quantum object: dims = [[2], [2]], shape = [2, 2], type = oper, isherm = True\n",
       "Qobj data =\n",
       "[[ 2.  1.]\n",
       " [ 1.  2.]]"
      ]
     },
     "execution_count": 24,
     "metadata": {},
     "output_type": "execute_result"
    }
   ],
   "source": [
    "e = Qobj([[2,1],[1,2]])\n",
    "e"
   ]
  },
  {
   "cell_type": "code",
   "execution_count": 25,
   "metadata": {
    "collapsed": false,
    "jupyter": {
     "outputs_hidden": false
    }
   },
   "outputs": [
    {
     "data": {
      "text/plain": [
       "(array([ 1.,  3.]),\n",
       " array([ Quantum object: dims = [[2], [1]], shape = [2, 1], type = ket\n",
       "Qobj data =\n",
       "[[-0.70710678]\n",
       " [ 0.70710678]],\n",
       "       Quantum object: dims = [[2], [1]], shape = [2, 1], type = ket\n",
       "Qobj data =\n",
       "[[ 0.70710678]\n",
       " [ 0.70710678]]], dtype=object))"
      ]
     },
     "execution_count": 25,
     "metadata": {},
     "output_type": "execute_result"
    }
   ],
   "source": [
    "e.eigenstates()"
   ]
  },
  {
   "cell_type": "code",
   "execution_count": 26,
   "metadata": {
    "collapsed": false,
    "jupyter": {
     "outputs_hidden": false
    }
   },
   "outputs": [],
   "source": [
    "pz = Qobj([[1],[0]])\n",
    "mz = Qobj([[0],[1]])\n",
    "px = Qobj([[1/sqrt(2)],[1/sqrt(2)]])\n",
    "mx = Qobj([[1/sqrt(2)],[-1/sqrt(2)]])\n",
    "py = Qobj([[1/sqrt(2)],[1j/sqrt(2)]])\n",
    "my = Qobj([[1/sqrt(2)],[-1j/sqrt(2)]])\n",
    "Sx = 1/2.0*sigmax()\n",
    "Sy = 1/2.0*sigmay()\n",
    "Sz = 1/2.0*sigmaz()"
   ]
  },
  {
   "cell_type": "code",
   "execution_count": 48,
   "metadata": {
    "collapsed": false,
    "jupyter": {
     "outputs_hidden": false
    }
   },
   "outputs": [
    {
     "data": {
      "text/plain": [
       "1.289817846315345"
      ]
     },
     "execution_count": 48,
     "metadata": {},
     "output_type": "execute_result"
    }
   ],
   "source": [
    "psi = 1/sqrt(5)*py + 1/sqrt(5)*px + 1/sqrt(3)*pz\n",
    "psi.norm()"
   ]
  },
  {
   "cell_type": "code",
   "execution_count": 39,
   "metadata": {
    "collapsed": false,
    "jupyter": {
     "outputs_hidden": false
    }
   },
   "outputs": [
    {
     "data": {
      "text/latex": [
       "\\begin{equation}\\text{Quantum object: dims = [[1], [1]], shape = [1, 1], type = oper, isHerm = True}\\\\[1em]\\begin{pmatrix}3.41421356237\\\\\\end{pmatrix}\\end{equation}"
      ],
      "text/plain": [
       "Quantum object: dims = [[1], [1]], shape = [1, 1], type = oper, isherm = True\n",
       "Qobj data =\n",
       "[[ 3.41421356]]"
      ]
     },
     "execution_count": 39,
     "metadata": {},
     "output_type": "execute_result"
    }
   ],
   "source": [
    "psi.dag()*e*psi"
   ]
  },
  {
   "cell_type": "code",
   "execution_count": 32,
   "metadata": {
    "collapsed": false,
    "jupyter": {
     "outputs_hidden": false
    }
   },
   "outputs": [
    {
     "data": {
      "text/latex": [
       "\\begin{equation}\\text{Quantum object: dims = [[1], [1]], shape = [1, 1], type = oper, isHerm = True}\\\\[1em]\\begin{pmatrix}7.66666666667\\\\\\end{pmatrix}\\end{equation}"
      ],
      "text/plain": [
       "Quantum object: dims = [[1], [1]], shape = [1, 1], type = oper, isherm = True\n",
       "Qobj data =\n",
       "[[ 7.66666667 -2.22044605e-16j]]"
      ]
     },
     "execution_count": 32,
     "metadata": {},
     "output_type": "execute_result"
    }
   ],
   "source": [
    "psi.dag()*e*e*psi"
   ]
  },
  {
   "cell_type": "code",
   "execution_count": 33,
   "metadata": {
    "collapsed": false,
    "jupyter": {
     "outputs_hidden": false
    }
   },
   "outputs": [
    {
     "data": {
      "text/plain": [
       "0.8999999999999995"
      ]
     },
     "execution_count": 33,
     "metadata": {},
     "output_type": "execute_result"
    }
   ],
   "source": [
    "7.66 - 2.6**2"
   ]
  },
  {
   "cell_type": "code",
   "execution_count": null,
   "metadata": {
    "collapsed": false,
    "jupyter": {
     "outputs_hidden": false
    }
   },
   "outputs": [],
   "source": []
  }
 ],
 "metadata": {
  "kernelspec": {
   "display_name": "Python 3",
   "language": "python",
   "name": "python3"
  },
  "language_info": {
   "codemirror_mode": {
    "name": "ipython",
    "version": 3
   },
   "file_extension": ".py",
   "mimetype": "text/x-python",
   "name": "python",
   "nbconvert_exporter": "python",
   "pygments_lexer": "ipython3",
   "version": "3.7.9"
  }
 },
 "nbformat": 4,
 "nbformat_minor": 4
}
