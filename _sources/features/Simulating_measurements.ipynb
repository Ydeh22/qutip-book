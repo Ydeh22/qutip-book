{
 "cells": [
  {
   "cell_type": "markdown",
   "id": "164758e3",
   "metadata": {},
   "source": [
    "# Measurement simulation\n",
    "A way to simulate data from measurements of a specific quantum state.\n",
    "\n",
    "Start with standard imports:"
   ]
  },
  {
   "cell_type": "code",
   "execution_count": 1,
   "id": "d8740916",
   "metadata": {
    "jupyter": {
     "outputs_hidden": true
    }
   },
   "outputs": [],
   "source": [
    "import matplotlib.pyplot as plt\n",
    "from numpy import sqrt,pi,cos,sin,arange,random,real,imag\n",
    "from qutip import *\n",
    "%matplotlib inline"
   ]
  },
  {
   "cell_type": "markdown",
   "id": "6378d257",
   "metadata": {},
   "source": [
    "Define several standard states, these are photon polarization states:"
   ]
  },
  {
   "cell_type": "code",
   "execution_count": 2,
   "id": "268c7e38",
   "metadata": {
    "jupyter": {
     "outputs_hidden": false
    }
   },
   "outputs": [],
   "source": [
    "H = Qobj([[1],[0]])\n",
    "V = Qobj([[0],[1]])\n",
    "P45 = Qobj([[1/sqrt(2)],[1/sqrt(2)]])\n",
    "M45 = Qobj([[1/sqrt(2)],[-1/sqrt(2)]])\n",
    "R = Qobj([[1/sqrt(2)],[-1j/sqrt(2)]])\n",
    "L = Qobj([[1/sqrt(2)],[1j/sqrt(2)]])"
   ]
  },
  {
   "cell_type": "code",
   "execution_count": 3,
   "id": "71504ebb",
   "metadata": {
    "jupyter": {
     "outputs_hidden": false
    }
   },
   "outputs": [
    {
     "data": {
      "text/latex": [
       "Quantum object: dims = [[2], [2]], shape = (2, 2), type = oper, isherm = True\\begin{equation*}\\left(\\begin{array}{*{11}c}1.0 & 0.0\\\\0.0 & -1.0\\\\\\end{array}\\right)\\end{equation*}"
      ],
      "text/plain": [
       "Quantum object: dims = [[2], [2]], shape = (2, 2), type = oper, isherm = True\n",
       "Qobj data =\n",
       "[[ 1.  0.]\n",
       " [ 0. -1.]]"
      ]
     },
     "execution_count": 3,
     "metadata": {},
     "output_type": "execute_result"
    }
   ],
   "source": [
    "# Define the Phv measurement operator:\n",
    "Phv = H*H.dag() - V*V.dag()\n",
    "Phv"
   ]
  },
  {
   "cell_type": "markdown",
   "id": "fee2fcca",
   "metadata": {},
   "source": [
    "Define a quantum state: $$|\\psi\\rangle = \\frac{1}{\\sqrt{5}} |H\\rangle + \\frac{2}{\\sqrt{5}} |V\\rangle$$"
   ]
  },
  {
   "cell_type": "code",
   "execution_count": 4,
   "id": "968c9ff3",
   "metadata": {
    "jupyter": {
     "outputs_hidden": false
    }
   },
   "outputs": [
    {
     "data": {
      "text/latex": [
       "Quantum object: dims = [[2], [1]], shape = (2, 1), type = ket\\begin{equation*}\\left(\\begin{array}{*{11}c}0.447\\\\0.894\\\\\\end{array}\\right)\\end{equation*}"
      ],
      "text/plain": [
       "Quantum object: dims = [[2], [1]], shape = (2, 1), type = ket\n",
       "Qobj data =\n",
       "[[0.4472136 ]\n",
       " [0.89442719]]"
      ]
     },
     "execution_count": 4,
     "metadata": {},
     "output_type": "execute_result"
    }
   ],
   "source": [
    "psi = 1/sqrt(5)*H + 2/sqrt(5)*V\n",
    "psi"
   ]
  },
  {
   "cell_type": "code",
   "execution_count": 5,
   "id": "ee136c42",
   "metadata": {
    "jupyter": {
     "outputs_hidden": true
    }
   },
   "outputs": [],
   "source": [
    "# The function to generate a mock data set:\n",
    "def simulateData(state,oper,size=10000):\n",
    "    \"\"\"Generate a simulated data set given a state and measurement operator.\n",
    "    \n",
    "    state -> the prepared state\n",
    "    oper -> the measurement operator\n",
    "    \n",
    "    Example:\n",
    "    H = Qobj([[1],[0]])\n",
    "    V = Qobj([[0],[1]])\n",
    "    psi = 1/sqrt(5)*H + 2/sqrt(5)*V\n",
    "    Phv = H*H.dag() - V*V.dag()\n",
    "    data = simulateData(psi,Phv)\n",
    "    \n",
    "    will generate 10000 values in the data array that obey the probability defined in the state.\n",
    "    \"\"\"\n",
    "    A = basis(2,0)\n",
    "    B = basis(2,1)\n",
    "    allowed_results = [r.data.data[0] for r in [A.dag()*oper*A, B.dag()*oper*B]]\n",
    "    probability_amps = [qo.data.data[0] for qo in [A.dag()*state, B.dag()*state]]\n",
    "    pvals = [abs(pa.conjugate()*pa) for pa in probability_amps]\n",
    "    data = random.choice(allowed_results,size=size,p=pvals)\n",
    "    return data"
   ]
  },
  {
   "cell_type": "code",
   "execution_count": 6,
   "id": "1ce1f09f",
   "metadata": {
    "jupyter": {
     "outputs_hidden": false
    }
   },
   "outputs": [],
   "source": [
    "data = simulateData(psi,Phv)"
   ]
  },
  {
   "cell_type": "code",
   "execution_count": 7,
   "id": "66615706",
   "metadata": {
    "jupyter": {
     "outputs_hidden": false
    }
   },
   "outputs": [
    {
     "name": "stdout",
     "output_type": "stream",
     "text": [
      "Variance:  0.6419174400000002\n",
      "Mean:  (-0.5984+0j)\n"
     ]
    }
   ],
   "source": [
    "print(\"Variance: \",data.var())\n",
    "print(\"Mean: \",data.mean())"
   ]
  },
  {
   "cell_type": "code",
   "execution_count": 8,
   "id": "41933311",
   "metadata": {
    "jupyter": {
     "outputs_hidden": false
    }
   },
   "outputs": [
    {
     "data": {
      "text/plain": [
       "(array([7992.,    0.,    0.,    0.,    0.,    0.,    0.,    0.,    0.,\n",
       "        2008.]),\n",
       " array([-1. , -0.8, -0.6, -0.4, -0.2,  0. ,  0.2,  0.4,  0.6,  0.8,  1. ]),\n",
       " <BarContainer object of 10 artists>)"
      ]
     },
     "execution_count": 8,
     "metadata": {},
     "output_type": "execute_result"
    },
    {
     "data": {
      "image/png": "[encoded data removed]",
      "text/plain": [
       "<Figure size 432x288 with 1 Axes>"
      ]
     },
     "metadata": {
      "filenames": {
       "image/png": "/Users/dawe7269/github/qutip-book/_build/jupyter_execute/features/Simulating_measurements_10_1.png"
      },
      "needs_background": "light"
     },
     "output_type": "display_data"
    }
   ],
   "source": [
    "plt.hist(real(data))"
   ]
  }
 ],
 "metadata": {
  "jupytext": {
   "text_representation": {
    "extension": ".md",
    "format_name": "myst",
    "format_version": 0.13,
    "jupytext_version": "1.11.5"
   }
  },
  "kernelspec": {
   "display_name": "Python 3",
   "language": "python",
   "name": "python3"
  },
  "language_info": {
   "codemirror_mode": {
    "name": "ipython",
    "version": 3
   },
   "file_extension": ".py",
   "mimetype": "text/x-python",
   "name": "python",
   "nbconvert_exporter": "python",
   "pygments_lexer": "ipython3",
   "version": "3.7.10"
  },
  "source_map": [
   12,
   19,
   28,
   32,
   45,
   53,
   57,
   66,
   96,
   104,
   113
  ]
 },
 "nbformat": 4,
 "nbformat_minor": 5
}