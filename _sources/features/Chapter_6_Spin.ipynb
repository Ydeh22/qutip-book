{
 "cells": [
  {
   "cell_type": "markdown",
   "id": "013d909e",
   "metadata": {},
   "source": [
    "# Chapter 6: Spin\n",
    "A few new operators (or new names for the same ones!)\n",
    "The three axes, x, y, z spin components can be measured with $SA_x$, $SA_y$, and $SA_z$ devices.\n",
    "\n",
    "**We'll use $\\hbar=1$ for numerical results**, this is fairly standard practice, but can be tricky to remember."
   ]
  },
  {
   "cell_type": "code",
   "execution_count": 1,
   "id": "daea6ea0",
   "metadata": {},
   "outputs": [],
   "source": [
    "from numpy import sin,cos,pi,sqrt\n",
    "from qutip import *"
   ]
  },
  {
   "cell_type": "code",
   "execution_count": 2,
   "id": "3c3eab4a",
   "metadata": {},
   "outputs": [],
   "source": [
    "pz = Qobj([[1],[0]])\n",
    "mz = Qobj([[0],[1]])\n",
    "px = Qobj([[1/sqrt(2)],[1/sqrt(2)]])\n",
    "mx = Qobj([[1/sqrt(2)],[-1/sqrt(2)]])\n",
    "py = Qobj([[1/sqrt(2)],[1j/sqrt(2)]])\n",
    "my = Qobj([[1/sqrt(2)],[-1j/sqrt(2)]])\n",
    "Sx = 1/2.0*sigmax()\n",
    "Sy = 1/2.0*sigmay()\n",
    "Sz = 1/2.0*sigmaz()"
   ]
  },
  {
   "cell_type": "code",
   "execution_count": 3,
   "id": "9c0040e5",
   "metadata": {},
   "outputs": [
    {
     "data": {
      "text/latex": [
       "Quantum object: dims = [[2], [1]], shape = (2, 1), type = ket\\begin{equation*}\\left(\\begin{array}{*{11}c}0.707\\\\0.707j\\\\\\end{array}\\right)\\end{equation*}"
      ],
      "text/plain": [
       "Quantum object: dims = [[2], [1]], shape = (2, 1), type = ket\n",
       "Qobj data =\n",
       "[[0.70710678+0.j        ]\n",
       " [0.        +0.70710678j]]"
      ]
     },
     "execution_count": 3,
     "metadata": {},
     "output_type": "execute_result"
    }
   ],
   "source": [
    "py"
   ]
  },
  {
   "cell_type": "markdown",
   "id": "d7b14926",
   "metadata": {},
   "source": [
    "## Example: determine $P(S_x = \\frac{\\hbar}{2} ||-y\\rangle)$"
   ]
  },
  {
   "cell_type": "code",
   "execution_count": 4,
   "id": "1509a52e",
   "metadata": {},
   "outputs": [
    {
     "data": {
      "text/plain": [
       "0.4999999999999998"
      ]
     },
     "execution_count": 4,
     "metadata": {},
     "output_type": "execute_result"
    }
   ],
   "source": [
    "((px.dag()*my).norm())**2"
   ]
  },
  {
   "cell_type": "markdown",
   "id": "44251dcc",
   "metadata": {},
   "source": [
    "## Example: verify the commutation relation: $\\left[\\hat{S}_x,\\hat{S}_z\\right] = -i\\hbar\\hat{S}_y$"
   ]
  },
  {
   "cell_type": "code",
   "execution_count": 5,
   "id": "5e435098",
   "metadata": {},
   "outputs": [
    {
     "data": {
      "text/plain": [
       "True"
      ]
     },
     "execution_count": 5,
     "metadata": {},
     "output_type": "execute_result"
    }
   ],
   "source": [
    "Sx*Sz - Sz*Sx == -1j*Sy  # remember, h = 1"
   ]
  },
  {
   "cell_type": "markdown",
   "id": "badbffbf",
   "metadata": {},
   "source": [
    "## Ex: find $\\langle \\hat{S}_x\\rangle$ for the state $|\\psi\\rangle=|+Z\\rangle$."
   ]
  },
  {
   "cell_type": "code",
   "execution_count": 6,
   "id": "79b31744",
   "metadata": {},
   "outputs": [
    {
     "data": {
      "text/latex": [
       "Quantum object: dims = [[1], [1]], shape = (1, 1), type = bra\\begin{equation*}\\left(\\begin{array}{*{11}c}0.0\\\\\\end{array}\\right)\\end{equation*}"
      ],
      "text/plain": [
       "Quantum object: dims = [[1], [1]], shape = (1, 1), type = bra\n",
       "Qobj data =\n",
       "[[0.]]"
      ]
     },
     "execution_count": 6,
     "metadata": {},
     "output_type": "execute_result"
    }
   ],
   "source": [
    "pz.dag()*Sx*pz"
   ]
  },
  {
   "cell_type": "markdown",
   "id": "fdfb4d39",
   "metadata": {},
   "source": [
    "This makes sense given that $S_x$ can be either $\\frac{+\\hbar}{2}$ or $\\frac{-\\hbar}{2}$ with equal probability. Similarly, if the state is $|\\psi\\rangle=|+x\\rangle$."
   ]
  },
  {
   "cell_type": "code",
   "execution_count": 7,
   "id": "8cc24fd9",
   "metadata": {},
   "outputs": [
    {
     "data": {
      "text/latex": [
       "Quantum object: dims = [[1], [1]], shape = (1, 1), type = bra\\begin{equation*}\\left(\\begin{array}{*{11}c}0.500\\\\\\end{array}\\right)\\end{equation*}"
      ],
      "text/plain": [
       "Quantum object: dims = [[1], [1]], shape = (1, 1), type = bra\n",
       "Qobj data =\n",
       "[[0.5]]"
      ]
     },
     "execution_count": 7,
     "metadata": {},
     "output_type": "execute_result"
    }
   ],
   "source": [
    "px.dag()*Sx*px"
   ]
  },
  {
   "cell_type": "markdown",
   "id": "4217520d",
   "metadata": {},
   "source": [
    "Again, in units of $\\hbar$."
   ]
  },
  {
   "cell_type": "code",
   "execution_count": null,
   "id": "713ba5e4",
   "metadata": {
    "jupyter": {
     "outputs_hidden": true
    }
   },
   "outputs": [],
   "source": []
  }
 ],
 "metadata": {
  "jupytext": {
   "text_representation": {
    "extension": ".md",
    "format_name": "myst",
    "format_version": 0.13,
    "jupytext_version": "1.11.5"
   }
  },
  "kernelspec": {
   "display_name": "Python 3",
   "language": "python",
   "name": "python3"
  },
  "language_info": {
   "codemirror_mode": {
    "name": "ipython",
    "version": 3
   },
   "file_extension": ".py",
   "mimetype": "text/x-python",
   "name": "python",
   "nbconvert_exporter": "python",
   "pygments_lexer": "ipython3",
   "version": "3.7.10"
  },
  "source_map": [
   12,
   20,
   25,
   37,
   39,
   43,
   45,
   49,
   51,
   55,
   57,
   61,
   63,
   67
  ]
 },
 "nbformat": 4,
 "nbformat_minor": 5
}