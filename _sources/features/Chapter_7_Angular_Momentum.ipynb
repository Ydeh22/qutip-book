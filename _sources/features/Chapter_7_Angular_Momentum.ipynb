{
 "cells": [
  {
   "cell_type": "markdown",
   "id": "a475f33a",
   "metadata": {},
   "source": [
    "# Chapter 7: Angular Momentum\n",
    "\n",
    "We'll use $\\hbar=1$ for numerical results, this is fairly standard practice, but can be tricky to remember."
   ]
  },
  {
   "cell_type": "code",
   "execution_count": 1,
   "id": "c516667d",
   "metadata": {},
   "outputs": [],
   "source": [
    "from numpy import sin,cos,pi,sqrt\n",
    "from qutip import *"
   ]
  },
  {
   "cell_type": "code",
   "execution_count": 2,
   "id": "50f4db94",
   "metadata": {},
   "outputs": [],
   "source": [
    "pz = Qobj([[1],[0]])\n",
    "mz = Qobj([[0],[1]])\n",
    "px = Qobj([[1/sqrt(2)],[1/sqrt(2)]])\n",
    "mx = Qobj([[1/sqrt(2)],[-1/sqrt(2)]])\n",
    "py = Qobj([[1/sqrt(2)],[1j/sqrt(2)]])\n",
    "my = Qobj([[1/sqrt(2)],[-1j/sqrt(2)]])\n",
    "Sx = 1/2.0*sigmax()\n",
    "Sy = 1/2.0*sigmay()\n",
    "Sz = 1/2.0*sigmaz()\n",
    "Splus = Sx + 1j*Sy\n",
    "Sminus = Sx - 1j*Sy"
   ]
  },
  {
   "cell_type": "code",
   "execution_count": 3,
   "id": "fe6e52e6",
   "metadata": {},
   "outputs": [
    {
     "data": {
      "text/latex": [
       "Quantum object: dims = [[2], [1]], shape = (2, 1), type = ket\\begin{equation*}\\left(\\begin{array}{*{11}c}1.0\\\\0.0\\\\\\end{array}\\right)\\end{equation*}"
      ],
      "text/plain": [
       "Quantum object: dims = [[2], [1]], shape = (2, 1), type = ket\n",
       "Qobj data =\n",
       "[[1.]\n",
       " [0.]]"
      ]
     },
     "execution_count": 3,
     "metadata": {},
     "output_type": "execute_result"
    }
   ],
   "source": [
    "Splus*mz"
   ]
  },
  {
   "cell_type": "code",
   "execution_count": 4,
   "id": "b42c3243",
   "metadata": {},
   "outputs": [
    {
     "data": {
      "text/latex": [
       "Quantum object: dims = [[2], [1]], shape = (2, 1), type = ket\\begin{equation*}\\left(\\begin{array}{*{11}c}0.0\\\\0.0\\\\\\end{array}\\right)\\end{equation*}"
      ],
      "text/plain": [
       "Quantum object: dims = [[2], [1]], shape = (2, 1), type = ket\n",
       "Qobj data =\n",
       "[[0.]\n",
       " [0.]]"
      ]
     },
     "execution_count": 4,
     "metadata": {},
     "output_type": "execute_result"
    }
   ],
   "source": [
    "Splus*pz"
   ]
  },
  {
   "cell_type": "code",
   "execution_count": 5,
   "id": "94976d4d",
   "metadata": {},
   "outputs": [
    {
     "data": {
      "text/latex": [
       "Quantum object: dims = [[2], [1]], shape = (2, 1), type = ket\\begin{equation*}\\left(\\begin{array}{*{11}c}0.0\\\\1.0\\\\\\end{array}\\right)\\end{equation*}"
      ],
      "text/plain": [
       "Quantum object: dims = [[2], [1]], shape = (2, 1), type = ket\n",
       "Qobj data =\n",
       "[[0.]\n",
       " [1.]]"
      ]
     },
     "execution_count": 5,
     "metadata": {},
     "output_type": "execute_result"
    }
   ],
   "source": [
    "Sminus*pz"
   ]
  },
  {
   "cell_type": "code",
   "execution_count": 6,
   "id": "261e483c",
   "metadata": {},
   "outputs": [
    {
     "data": {
      "text/latex": [
       "Quantum object: dims = [[2], [1]], shape = (2, 1), type = ket\\begin{equation*}\\left(\\begin{array}{*{11}c}0.0\\\\0.0\\\\\\end{array}\\right)\\end{equation*}"
      ],
      "text/plain": [
       "Quantum object: dims = [[2], [1]], shape = (2, 1), type = ket\n",
       "Qobj data =\n",
       "[[0.]\n",
       " [0.]]"
      ]
     },
     "execution_count": 6,
     "metadata": {},
     "output_type": "execute_result"
    }
   ],
   "source": [
    "Sminus*mz"
   ]
  },
  {
   "cell_type": "code",
   "execution_count": 7,
   "id": "a7ed3434",
   "metadata": {},
   "outputs": [
    {
     "data": {
      "text/latex": [
       "Quantum object: dims = [[2], [2]], shape = (2, 2), type = oper, isherm = False\\begin{equation*}\\left(\\begin{array}{*{11}c}0.0 & 1.0\\\\0.0 & 0.0\\\\\\end{array}\\right)\\end{equation*}"
      ],
      "text/plain": [
       "Quantum object: dims = [[2], [2]], shape = (2, 2), type = oper, isherm = False\n",
       "Qobj data =\n",
       "[[0. 1.]\n",
       " [0. 0.]]"
      ]
     },
     "execution_count": 7,
     "metadata": {},
     "output_type": "execute_result"
    }
   ],
   "source": [
    "Splus"
   ]
  },
  {
   "cell_type": "code",
   "execution_count": 8,
   "id": "0f12d2ce",
   "metadata": {},
   "outputs": [
    {
     "data": {
      "text/latex": [
       "Quantum object: dims = [[2], [2]], shape = (2, 2), type = oper, isherm = False\\begin{equation*}\\left(\\begin{array}{*{11}c}0.0 & 0.0\\\\1.0 & 0.0\\\\\\end{array}\\right)\\end{equation*}"
      ],
      "text/plain": [
       "Quantum object: dims = [[2], [2]], shape = (2, 2), type = oper, isherm = False\n",
       "Qobj data =\n",
       "[[0. 0.]\n",
       " [1. 0.]]"
      ]
     },
     "execution_count": 8,
     "metadata": {},
     "output_type": "execute_result"
    }
   ],
   "source": [
    "Sminus"
   ]
  },
  {
   "cell_type": "code",
   "execution_count": null,
   "id": "54a15605",
   "metadata": {},
   "outputs": [],
   "source": []
  }
 ],
 "metadata": {
  "jupytext": {
   "text_representation": {
    "extension": ".md",
    "format_name": "myst",
    "format_version": 0.13,
    "jupytext_version": "1.11.5"
   }
  },
  "kernelspec": {
   "display_name": "Python 3",
   "language": "python",
   "name": "python3"
  },
  "language_info": {
   "codemirror_mode": {
    "name": "ipython",
    "version": 3
   },
   "file_extension": ".py",
   "mimetype": "text/x-python",
   "name": "python",
   "nbconvert_exporter": "python",
   "pygments_lexer": "ipython3",
   "version": "3.7.9"
  },
  "source_map": [
   12,
   18,
   23,
   37,
   41,
   45,
   49,
   53,
   57,
   61
  ]
 },
 "nbformat": 4,
 "nbformat_minor": 5
}