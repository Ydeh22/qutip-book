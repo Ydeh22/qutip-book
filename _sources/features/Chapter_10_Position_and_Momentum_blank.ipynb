{
 "cells": [
  {
   "cell_type": "markdown",
   "id": "5bc64cc2",
   "metadata": {},
   "source": [
    "# Chapter 10 - Position and Momentum\n",
    "We can start using sympy to handle symbolic math (integrals and other calculus):"
   ]
  },
  {
   "cell_type": "code",
   "execution_count": 1,
   "id": "f79ec61a",
   "metadata": {
    "jupyter": {
     "outputs_hidden": false
    }
   },
   "outputs": [],
   "source": [
    "from sympy import *"
   ]
  },
  {
   "cell_type": "code",
   "execution_count": 2,
   "id": "cd829aed",
   "metadata": {
    "jupyter": {
     "outputs_hidden": false
    }
   },
   "outputs": [],
   "source": [
    "init_printing(use_unicode=True)"
   ]
  },
  {
   "cell_type": "code",
   "execution_count": 3,
   "id": "ede0f547",
   "metadata": {
    "jupyter": {
     "outputs_hidden": false
    }
   },
   "outputs": [],
   "source": [
    "x, y, z = symbols('x y z', real=True)\n",
    "a, c = symbols('a c', nonzero=True, real=True)"
   ]
  },
  {
   "cell_type": "code",
   "execution_count": 4,
   "id": "1a17ad4c",
   "metadata": {
    "jupyter": {
     "outputs_hidden": true
    }
   },
   "outputs": [],
   "source": [
    "integrate?"
   ]
  },
  {
   "cell_type": "markdown",
   "id": "515801f3",
   "metadata": {},
   "source": [
    "There are two ways to use the `integrate` function. In one line, like `integrate(x,(x,0,1))` or by naming an expression and then integrating it over a range:\n",
    "\n",
    "```\n",
    "A = (c*cos((pi*x)/(2.0*a)))**2\n",
    "A.integrate((x,-a,a),conds='none')\n",
    "```\n",
    "\n",
    "We'll use both, at different times. For longer expressions, the second form can be easier to read and write.\n",
    "\n",
    "First, just try the following, then we'll re-create some examples in the book."
   ]
  },
  {
   "cell_type": "code",
   "execution_count": 5,
   "id": "bfe4cb3c",
   "metadata": {
    "jupyter": {
     "outputs_hidden": false
    }
   },
   "outputs": [
    {
     "data": {
      "image/png": "[encoded data removed]",
      "text/latex": [
       "$\\displaystyle \\frac{1}{2}$"
      ],
      "text/plain": [
       "1/2"
      ]
     },
     "execution_count": 5,
     "metadata": {
      "filenames": {
       "image/png": "/Users/dawe7269/github/qutip-book/_build/jupyter_execute/features/Chapter_10_Position_and_Momentum_blank_6_0.png"
      }
     },
     "output_type": "execute_result"
    }
   ],
   "source": [
    "integrate(x,(x,0,1))"
   ]
  },
  {
   "cell_type": "code",
   "execution_count": 6,
   "id": "1b92c656",
   "metadata": {
    "jupyter": {
     "outputs_hidden": false
    }
   },
   "outputs": [
    {
     "data": {
      "image/png": "[encoded data removed]",
      "text/latex": [
       "$\\displaystyle \\frac{1}{3}$"
      ],
      "text/plain": [
       "1/3"
      ]
     },
     "execution_count": 6,
     "metadata": {
      "filenames": {
       "image/png": "/Users/dawe7269/github/qutip-book/_build/jupyter_execute/features/Chapter_10_Position_and_Momentum_blank_7_0.png"
      }
     },
     "output_type": "execute_result"
    }
   ],
   "source": [
    "integrate(x**2,(x,0,1))"
   ]
  },
  {
   "cell_type": "markdown",
   "id": "e8e4bbc1",
   "metadata": {},
   "source": [
    "The cell below will return an odd set of conditions on the result. This is because the solver doesn't want to assume anything about `a` and there is a special case where the answer would be different. If you look closely though, that special case isn't physically realistic so to igore these special conditions, we add `conds='none'`. The next cell down does what you'd expect. From here on out, just add this to the `integrate` function and we'll get what we expect."
   ]
  },
  {
   "cell_type": "code",
   "execution_count": 7,
   "id": "2942b89b",
   "metadata": {
    "jupyter": {
     "outputs_hidden": false
    }
   },
   "outputs": [
    {
     "data": {
      "image/png": "[encoded data removed]",
      "text/latex": [
       "$\\displaystyle a c^{2}$"
      ],
      "text/plain": [
       "   2\n",
       "a⋅c "
      ]
     },
     "execution_count": 7,
     "metadata": {
      "filenames": {
       "image/png": "/Users/dawe7269/github/qutip-book/_build/jupyter_execute/features/Chapter_10_Position_and_Momentum_blank_9_0.png"
      }
     },
     "output_type": "execute_result"
    }
   ],
   "source": [
    "A = (c*cos((pi*x)/(2.0*a)))**2\n",
    "A.integrate((x,-a,a))"
   ]
  },
  {
   "cell_type": "code",
   "execution_count": 8,
   "id": "f5bd20b0",
   "metadata": {
    "jupyter": {
     "outputs_hidden": false
    }
   },
   "outputs": [
    {
     "data": {
      "image/png": "[encoded data removed]",
      "text/latex": [
       "$\\displaystyle a c^{2}$"
      ],
      "text/plain": [
       "   2\n",
       "a⋅c "
      ]
     },
     "execution_count": 8,
     "metadata": {
      "filenames": {
       "image/png": "/Users/dawe7269/github/qutip-book/_build/jupyter_execute/features/Chapter_10_Position_and_Momentum_blank_10_0.png"
      }
     },
     "output_type": "execute_result"
    }
   ],
   "source": [
    "A = (c*cos((pi*x)/(2.0*a)))**2\n",
    "A.integrate((x,-a,a), conds='none')"
   ]
  },
  {
   "cell_type": "markdown",
   "id": "9571502f",
   "metadata": {},
   "source": [
    "So this tells us the normalization constant should be $c=\\frac{1}{\\sqrt{a}}$. Check that it is normalized if we do that:"
   ]
  },
  {
   "cell_type": "code",
   "execution_count": 9,
   "id": "9bb81027",
   "metadata": {
    "jupyter": {
     "outputs_hidden": false
    }
   },
   "outputs": [
    {
     "data": {
      "image/png": "[encoded data removed]",
      "text/latex": [
       "$\\displaystyle 1$"
      ],
      "text/plain": [
       "1"
      ]
     },
     "execution_count": 9,
     "metadata": {
      "filenames": {
       "image/png": "/Users/dawe7269/github/qutip-book/_build/jupyter_execute/features/Chapter_10_Position_and_Momentum_blank_12_0.png"
      }
     },
     "output_type": "execute_result"
    }
   ],
   "source": [
    "psi = 1/sqrt(a)*cos((pi*x)/(2.0*a))  # notice we can name the expression something useful.\n",
    "B = psi**2\n",
    "B.integrate( (x,-a,a), conds='none')"
   ]
  },
  {
   "cell_type": "markdown",
   "id": "ae085c1b",
   "metadata": {},
   "source": [
    "Because `psi` is a real function, we can calculate expectation values by integrating over $x$ or $x^2$ with `psi**2`:"
   ]
  },
  {
   "cell_type": "code",
   "execution_count": 10,
   "id": "a4b7baf4",
   "metadata": {
    "jupyter": {
     "outputs_hidden": false
    }
   },
   "outputs": [
    {
     "data": {
      "image/png": "[encoded data removed]",
      "text/latex": [
       "$\\displaystyle 0$"
      ],
      "text/plain": [
       "0"
      ]
     },
     "execution_count": 10,
     "metadata": {
      "filenames": {
       "image/png": "/Users/dawe7269/github/qutip-book/_build/jupyter_execute/features/Chapter_10_Position_and_Momentum_blank_14_0.png"
      }
     },
     "output_type": "execute_result"
    }
   ],
   "source": [
    "C = x*psi**2\n",
    "C.integrate( (x,-a,a), conds='none')"
   ]
  },
  {
   "cell_type": "code",
   "execution_count": 11,
   "id": "b3b6eef7",
   "metadata": {
    "jupyter": {
     "outputs_hidden": false
    }
   },
   "outputs": [],
   "source": [
    "D = x**2 * psi**2\n",
    "E = D.integrate( (x,-a,a), conds='none')"
   ]
  },
  {
   "cell_type": "code",
   "execution_count": 12,
   "id": "fdba808a",
   "metadata": {
    "jupyter": {
     "outputs_hidden": false
    }
   },
   "outputs": [
    {
     "data": {
      "image/png": "[encoded data removed]",
      "text/latex": [
       "$\\displaystyle 0.130690966048658 a^{2}$"
      ],
      "text/plain": [
       "                   2\n",
       "0.130690966048658⋅a "
      ]
     },
     "execution_count": 12,
     "metadata": {
      "filenames": {
       "image/png": "/Users/dawe7269/github/qutip-book/_build/jupyter_execute/features/Chapter_10_Position_and_Momentum_blank_16_0.png"
      }
     },
     "output_type": "execute_result"
    }
   ],
   "source": [
    "E.n()  # the .n() method approximates the numerical part. You can look at the full expression below."
   ]
  },
  {
   "cell_type": "code",
   "execution_count": 13,
   "id": "9104333a",
   "metadata": {
    "jupyter": {
     "outputs_hidden": false
    }
   },
   "outputs": [
    {
     "data": {
      "image/png": "[encoded data removed]",
      "text/latex": [
       "$\\displaystyle - \\frac{- \\frac{a^{3}}{6} + \\frac{a^{3}}{\\pi^{2}}}{a} + \\frac{- \\frac{a^{3}}{\\pi^{2}} + \\frac{a^{3}}{6}}{a}$"
      ],
      "text/plain": [
       "     3    3      3    3\n",
       "    a    a      a    a \n",
       "  - ── + ──   - ── + ──\n",
       "    6     2      2   6 \n",
       "         π      π      \n",
       "- ───────── + ─────────\n",
       "      a           a    "
      ]
     },
     "execution_count": 13,
     "metadata": {
      "filenames": {
       "image/png": "/Users/dawe7269/github/qutip-book/_build/jupyter_execute/features/Chapter_10_Position_and_Momentum_blank_17_0.png"
      }
     },
     "output_type": "execute_result"
    }
   ],
   "source": [
    "E"
   ]
  },
  {
   "cell_type": "markdown",
   "id": "66d1f8c7",
   "metadata": {},
   "source": [
    "## Example 10.2"
   ]
  },
  {
   "cell_type": "code",
   "execution_count": 14,
   "id": "5283b86f",
   "metadata": {
    "jupyter": {
     "outputs_hidden": false
    }
   },
   "outputs": [],
   "source": [
    "h = Symbol('hbar', real=True)"
   ]
  },
  {
   "cell_type": "markdown",
   "id": "054255cd",
   "metadata": {},
   "source": [
    "Use the `diff` function to take a derivative of a symbolic expression. For example:"
   ]
  },
  {
   "cell_type": "code",
   "execution_count": 15,
   "id": "91bcb96f",
   "metadata": {
    "jupyter": {
     "outputs_hidden": false
    }
   },
   "outputs": [
    {
     "data": {
      "image/png": "[encoded data removed]",
      "text/latex": [
       "$\\displaystyle 2 x$"
      ],
      "text/plain": [
       "2⋅x"
      ]
     },
     "execution_count": 15,
     "metadata": {
      "filenames": {
       "image/png": "/Users/dawe7269/github/qutip-book/_build/jupyter_execute/features/Chapter_10_Position_and_Momentum_blank_21_0.png"
      }
     },
     "output_type": "execute_result"
    }
   ],
   "source": [
    "diff(x**2, x)"
   ]
  },
  {
   "cell_type": "code",
   "execution_count": 16,
   "id": "1fc89a51",
   "metadata": {
    "jupyter": {
     "outputs_hidden": false
    }
   },
   "outputs": [],
   "source": [
    "# Solution goes here"
   ]
  },
  {
   "cell_type": "code",
   "execution_count": 17,
   "id": "d0a0c2d2",
   "metadata": {
    "jupyter": {
     "outputs_hidden": false
    }
   },
   "outputs": [],
   "source": [
    "# Solution goes here"
   ]
  },
  {
   "cell_type": "markdown",
   "id": "d96a8050",
   "metadata": {},
   "source": [
    "## Example 10.3"
   ]
  },
  {
   "cell_type": "code",
   "execution_count": 18,
   "id": "5a0fae6d",
   "metadata": {
    "jupyter": {
     "outputs_hidden": false
    }
   },
   "outputs": [],
   "source": [
    "p = Symbol('p', real=True) "
   ]
  },
  {
   "cell_type": "code",
   "execution_count": 19,
   "id": "1f3df5e3",
   "metadata": {
    "jupyter": {
     "outputs_hidden": false
    }
   },
   "outputs": [],
   "source": [
    "# Solution goes here"
   ]
  },
  {
   "cell_type": "code",
   "execution_count": 20,
   "id": "35ecde02",
   "metadata": {
    "jupyter": {
     "outputs_hidden": false
    }
   },
   "outputs": [],
   "source": [
    "# Solution goes here"
   ]
  },
  {
   "cell_type": "code",
   "execution_count": null,
   "id": "50ec829f",
   "metadata": {
    "jupyter": {
     "outputs_hidden": true
    }
   },
   "outputs": [],
   "source": []
  }
 ],
 "metadata": {
  "jupytext": {
   "text_representation": {
    "extension": ".md",
    "format_name": "myst",
    "format_version": 0.13,
    "jupytext_version": "1.11.5"
   }
  },
  "kernelspec": {
   "display_name": "Python 3",
   "language": "python",
   "name": "python3"
  },
  "language_info": {
   "codemirror_mode": {
    "name": "ipython",
    "version": 3
   },
   "file_extension": ".py",
   "mimetype": "text/x-python",
   "name": "python",
   "nbconvert_exporter": "python",
   "pygments_lexer": "ipython3",
   "version": "3.7.10"
  },
  "source_map": [
   12,
   17,
   25,
   33,
   42,
   48,
   61,
   69,
   75,
   79,
   88,
   95,
   99,
   107,
   111,
   120,
   129,
   137,
   143,
   147,
   153,
   157,
   165,
   173,
   179,
   183,
   191,
   199,
   207
  ]
 },
 "nbformat": 4,
 "nbformat_minor": 5
}