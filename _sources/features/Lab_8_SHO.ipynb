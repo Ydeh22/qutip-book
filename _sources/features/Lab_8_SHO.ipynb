{
  "cells": [
    {
      "cell_type": "markdown",
      "source": [
        "# Lab 8 - Simple Harmonic Oscillator states\n",
        "Problems from Chapter 12"
      ],
      "metadata": {}
    },
    {
      "cell_type": "code",
      "source": [
        "from numpy import sqrt\n",
        "from qutip import *"
      ],
      "outputs": [],
      "execution_count": 1,
      "metadata": {
        "execution": {
          "iopub.status.busy": "2021-02-12T00:09:02.265Z",
          "iopub.execute_input": "2021-02-12T00:09:02.274Z",
          "iopub.status.idle": "2021-02-12T00:09:03.180Z",
          "shell.execute_reply": "2021-02-12T00:09:03.187Z"
        }
      }
    },
    {
      "cell_type": "markdown",
      "source": [
        "## Define the standard operators"
      ],
      "metadata": {}
    },
    {
      "cell_type": "code",
      "source": [
        "N = 10  # pick a size for our state-space\n",
        "a = destroy(N)\n",
        "n = a.dag()*a"
      ],
      "outputs": [],
      "execution_count": 2,
      "metadata": {
        "execution": {
          "iopub.status.busy": "2021-02-12T00:09:04.611Z",
          "iopub.execute_input": "2021-02-12T00:09:04.621Z",
          "iopub.status.idle": "2021-02-12T00:09:04.632Z",
          "shell.execute_reply": "2021-02-12T00:09:04.639Z"
        }
      }
    },
    {
      "cell_type": "markdown",
      "source": [
        "## Problem 12.1:"
      ],
      "metadata": {}
    },
    {
      "cell_type": "code",
      "source": [
        "a*a.dag() - a.dag()*a"
      ],
      "outputs": [
        {
          "output_type": "execute_result",
          "execution_count": 3,
          "data": {
            "text/plain": [
              "Quantum object: dims = [[10], [10]], shape = (10, 10), type = oper, isherm = True\n",
              "Qobj data =\n",
              "[[ 1.  0.  0.  0.  0.  0.  0.  0.  0.  0.]\n",
              " [ 0.  1.  0.  0.  0.  0.  0.  0.  0.  0.]\n",
              " [ 0.  0.  1.  0.  0.  0.  0.  0.  0.  0.]\n",
              " [ 0.  0.  0.  1.  0.  0.  0.  0.  0.  0.]\n",
              " [ 0.  0.  0.  0.  1.  0.  0.  0.  0.  0.]\n",
              " [ 0.  0.  0.  0.  0.  1.  0.  0.  0.  0.]\n",
              " [ 0.  0.  0.  0.  0.  0.  1.  0.  0.  0.]\n",
              " [ 0.  0.  0.  0.  0.  0.  0.  1.  0.  0.]\n",
              " [ 0.  0.  0.  0.  0.  0.  0.  0.  1.  0.]\n",
              " [ 0.  0.  0.  0.  0.  0.  0.  0.  0. -9.]]"
            ],
            "text/latex": [
              "Quantum object: dims = [[10], [10]], shape = (10, 10), type = oper, isherm = True\\begin{equation*}\\left(\\begin{array}{*{11}c}1.0 & 0.0 & 0.0 & 0.0 & 0.0 & 0.0 & 0.0 & 0.0 & 0.0 & 0.0\\\\0.0 & 1.0 & 0.0 & 0.0 & 0.0 & 0.0 & 0.0 & 0.0 & 0.0 & 0.0\\\\0.0 & 0.0 & 1.000 & 0.0 & 0.0 & 0.0 & 0.0 & 0.0 & 0.0 & 0.0\\\\0.0 & 0.0 & 0.0 & 1.0 & 0.0 & 0.0 & 0.0 & 0.0 & 0.0 & 0.0\\\\0.0 & 0.0 & 0.0 & 0.0 & 1.0 & 0.0 & 0.0 & 0.0 & 0.0 & 0.0\\\\0.0 & 0.0 & 0.0 & 0.0 & 0.0 & 1.000 & 0.0 & 0.0 & 0.0 & 0.0\\\\0.0 & 0.0 & 0.0 & 0.0 & 0.0 & 0.0 & 1.0 & 0.0 & 0.0 & 0.0\\\\0.0 & 0.0 & 0.0 & 0.0 & 0.0 & 0.0 & 0.0 & 1.0 & 0.0 & 0.0\\\\0.0 & 0.0 & 0.0 & 0.0 & 0.0 & 0.0 & 0.0 & 0.0 & 1.000 & 0.0\\\\0.0 & 0.0 & 0.0 & 0.0 & 0.0 & 0.0 & 0.0 & 0.0 & 0.0 & -9.0\\\\\\end{array}\\right)\\end{equation*}"
            ]
          },
          "metadata": {}
        }
      ],
      "execution_count": 3,
      "metadata": {
        "execution": {
          "iopub.status.busy": "2021-02-12T00:09:05.693Z",
          "iopub.execute_input": "2021-02-12T00:09:05.700Z",
          "iopub.status.idle": "2021-02-12T00:09:05.740Z",
          "shell.execute_reply": "2021-02-12T00:09:05.746Z"
        }
      }
    },
    {
      "cell_type": "markdown",
      "source": [
        "## Problem 12.2:"
      ],
      "metadata": {}
    },
    {
      "cell_type": "code",
      "source": [
        "n*a.dag() - a.dag()*n"
      ],
      "outputs": [
        {
          "output_type": "execute_result",
          "execution_count": 4,
          "data": {
            "text/plain": [
              "Quantum object: dims = [[10], [10]], shape = (10, 10), type = oper, isherm = False\n",
              "Qobj data =\n",
              "[[0.         0.         0.         0.         0.         0.\n",
              "  0.         0.         0.         0.        ]\n",
              " [1.         0.         0.         0.         0.         0.\n",
              "  0.         0.         0.         0.        ]\n",
              " [0.         1.41421356 0.         0.         0.         0.\n",
              "  0.         0.         0.         0.        ]\n",
              " [0.         0.         1.73205081 0.         0.         0.\n",
              "  0.         0.         0.         0.        ]\n",
              " [0.         0.         0.         2.         0.         0.\n",
              "  0.         0.         0.         0.        ]\n",
              " [0.         0.         0.         0.         2.23606798 0.\n",
              "  0.         0.         0.         0.        ]\n",
              " [0.         0.         0.         0.         0.         2.44948974\n",
              "  0.         0.         0.         0.        ]\n",
              " [0.         0.         0.         0.         0.         0.\n",
              "  2.64575131 0.         0.         0.        ]\n",
              " [0.         0.         0.         0.         0.         0.\n",
              "  0.         2.82842712 0.         0.        ]\n",
              " [0.         0.         0.         0.         0.         0.\n",
              "  0.         0.         3.         0.        ]]"
            ],
            "text/latex": [
              "Quantum object: dims = [[10], [10]], shape = (10, 10), type = oper, isherm = False\\begin{equation*}\\left(\\begin{array}{*{11}c}0.0 & 0.0 & 0.0 & 0.0 & 0.0 & 0.0 & 0.0 & 0.0 & 0.0 & 0.0\\\\1.0 & 0.0 & 0.0 & 0.0 & 0.0 & 0.0 & 0.0 & 0.0 & 0.0 & 0.0\\\\0.0 & 1.414 & 0.0 & 0.0 & 0.0 & 0.0 & 0.0 & 0.0 & 0.0 & 0.0\\\\0.0 & 0.0 & 1.732 & 0.0 & 0.0 & 0.0 & 0.0 & 0.0 & 0.0 & 0.0\\\\0.0 & 0.0 & 0.0 & 2.0 & 0.0 & 0.0 & 0.0 & 0.0 & 0.0 & 0.0\\\\0.0 & 0.0 & 0.0 & 0.0 & 2.236 & 0.0 & 0.0 & 0.0 & 0.0 & 0.0\\\\0.0 & 0.0 & 0.0 & 0.0 & 0.0 & 2.449 & 0.0 & 0.0 & 0.0 & 0.0\\\\0.0 & 0.0 & 0.0 & 0.0 & 0.0 & 0.0 & 2.646 & 0.0 & 0.0 & 0.0\\\\0.0 & 0.0 & 0.0 & 0.0 & 0.0 & 0.0 & 0.0 & 2.828 & 0.0 & 0.0\\\\0.0 & 0.0 & 0.0 & 0.0 & 0.0 & 0.0 & 0.0 & 0.0 & 3.000 & 0.0\\\\\\end{array}\\right)\\end{equation*}"
            ]
          },
          "metadata": {}
        }
      ],
      "execution_count": 4,
      "metadata": {
        "execution": {
          "iopub.status.busy": "2021-02-12T00:09:06.693Z",
          "iopub.execute_input": "2021-02-12T00:09:06.699Z",
          "iopub.status.idle": "2021-02-12T00:09:06.731Z",
          "shell.execute_reply": "2021-02-12T00:09:06.737Z"
        }
      }
    },
    {
      "cell_type": "code",
      "source": [
        "n*a.dag() - a.dag()*n == a.dag()"
      ],
      "outputs": [
        {
          "output_type": "execute_result",
          "execution_count": 5,
          "data": {
            "text/plain": [
              "True"
            ]
          },
          "metadata": {}
        }
      ],
      "execution_count": 5,
      "metadata": {
        "execution": {
          "iopub.status.busy": "2021-02-12T00:09:07.180Z",
          "iopub.execute_input": "2021-02-12T00:09:07.186Z",
          "iopub.status.idle": "2021-02-12T00:09:07.199Z",
          "shell.execute_reply": "2021-02-12T00:09:07.207Z"
        }
      }
    },
    {
      "cell_type": "markdown",
      "source": [
        "## Problem 12.3 (use n=2 as a test-case):\n",
        "To define $|2\\rangle$ use the `basis(N,n)` command where `N` is the dimension of the vector, and `n` is the quantum number."
      ],
      "metadata": {}
    },
    {
      "cell_type": "code",
      "source": [
        "psi = basis(N,2)"
      ],
      "outputs": [],
      "execution_count": 6,
      "metadata": {
        "execution": {
          "iopub.status.busy": "2021-02-12T00:09:08.224Z",
          "iopub.execute_input": "2021-02-12T00:09:08.230Z",
          "iopub.status.idle": "2021-02-12T00:09:08.243Z",
          "shell.execute_reply": "2021-02-12T00:09:08.251Z"
        }
      }
    },
    {
      "cell_type": "code",
      "source": [],
      "outputs": [],
      "execution_count": null,
      "metadata": {}
    },
    {
      "cell_type": "markdown",
      "source": [
        "## Problem 12.5 and 12.6:\n",
        "These are simple, just view the matrix representation of the operators"
      ],
      "metadata": {}
    },
    {
      "cell_type": "code",
      "source": [],
      "outputs": [],
      "execution_count": null,
      "metadata": {}
    },
    {
      "cell_type": "markdown",
      "source": [
        "## Problem 12.7:\n",
        "First, define $\\hat{X}$ and $\\hat{P}$ operators\n",
        "\n",
        "```\n",
        "X=\n",
        "P=\n",
        "```"
      ],
      "metadata": {}
    },
    {
      "cell_type": "code",
      "source": [],
      "outputs": [
        {
          "output_type": "error",
          "ename": "SyntaxError",
          "evalue": "invalid syntax (<ipython-input-7-3577fc9dc196>, line 1)",
          "traceback": [
            "\u001b[0;36m  File \u001b[0;32m\"<ipython-input-7-3577fc9dc196>\"\u001b[0;36m, line \u001b[0;32m1\u001b[0m\n\u001b[0;31m    X=\u001b[0m\n\u001b[0m      ^\u001b[0m\n\u001b[0;31mSyntaxError\u001b[0m\u001b[0;31m:\u001b[0m invalid syntax\n"
          ]
        }
      ],
      "execution_count": 7,
      "metadata": {
        "execution": {
          "iopub.status.busy": "2021-02-12T00:09:15.500Z",
          "iopub.execute_input": "2021-02-12T00:09:15.507Z",
          "iopub.status.idle": "2021-02-12T00:09:15.522Z",
          "shell.execute_reply": "2021-02-12T00:09:15.528Z"
        }
      }
    },
    {
      "cell_type": "code",
      "source": [
        "psi = 1/sqrt(2)*(basis(N,1)+basis(N,2))"
      ],
      "outputs": [],
      "execution_count": 8,
      "metadata": {
        "execution": {
          "iopub.status.busy": "2021-02-12T00:09:43.655Z",
          "iopub.execute_input": "2021-02-12T00:09:43.663Z",
          "iopub.status.idle": "2021-02-12T00:09:43.673Z",
          "shell.execute_reply": "2021-02-12T00:09:43.680Z"
        }
      }
    },
    {
      "cell_type": "code",
      "source": [],
      "outputs": [],
      "execution_count": null,
      "metadata": {}
    },
    {
      "cell_type": "markdown",
      "source": [
        "## Problem 12.8:"
      ],
      "metadata": {}
    },
    {
      "cell_type": "code",
      "source": [
        "psi = 1/sqrt(2)*(basis(N,2)+basis(N,4))"
      ],
      "outputs": [],
      "execution_count": 9,
      "metadata": {
        "execution": {
          "iopub.status.busy": "2021-02-12T00:09:46.436Z",
          "iopub.execute_input": "2021-02-12T00:09:46.444Z",
          "iopub.status.idle": "2021-02-12T00:09:46.456Z",
          "shell.execute_reply": "2021-02-12T00:09:46.463Z"
        }
      }
    },
    {
      "cell_type": "code",
      "source": [],
      "outputs": [],
      "execution_count": null,
      "metadata": {}
    },
    {
      "cell_type": "code",
      "source": [],
      "outputs": [],
      "execution_count": null,
      "metadata": {
        "collapsed": true,
        "jupyter": {
          "source_hidden": false,
          "outputs_hidden": false
        },
        "nteract": {
          "transient": {
            "deleting": false
          }
        }
      }
    }
  ],
  "metadata": {
    "kernel_info": {
      "name": "python3"
    },
    "kernelspec": {
      "display_name": "Python 3",
      "language": "python",
      "name": "python3"
    },
    "language_info": {
      "name": "python",
      "version": "3.7.9",
      "mimetype": "text/x-python",
      "codemirror_mode": {
        "name": "ipython",
        "version": 3
      },
      "pygments_lexer": "ipython3",
      "nbconvert_exporter": "python",
      "file_extension": ".py"
    },
    "nteract": {
      "version": "0.23.3"
    }
  },
  "nbformat": 4,
  "nbformat_minor": 4
}