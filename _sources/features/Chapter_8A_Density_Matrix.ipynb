{
 "cells": [
  {
   "cell_type": "markdown",
   "id": "1ac4f13a",
   "metadata": {
    "nteract": {
     "transient": {
      "deleting": false
     }
    }
   },
   "source": [
    "# Ch 8 - Examples"
   ]
  },
  {
   "cell_type": "code",
   "execution_count": 1,
   "id": "fb9926f2",
   "metadata": {},
   "outputs": [],
   "source": [
    "from numpy import sqrt\n",
    "from qutip import *"
   ]
  },
  {
   "cell_type": "code",
   "execution_count": 2,
   "id": "501e7589",
   "metadata": {},
   "outputs": [],
   "source": [
    "H = Qobj([[1],[0]])\n",
    "V = Qobj([[0],[1]])"
   ]
  },
  {
   "cell_type": "markdown",
   "id": "96cddb79",
   "metadata": {},
   "source": [
    "## Example 8.A.1:"
   ]
  },
  {
   "cell_type": "code",
   "execution_count": 3,
   "id": "06035f09",
   "metadata": {},
   "outputs": [
    {
     "data": {
      "text/latex": [
       "Quantum object: dims = [[2, 2], [1, 1]], shape = (4, 1), type = ket\\begin{equation*}\\left(\\begin{array}{*{11}c}0.707\\\\0.0\\\\0.0\\\\0.707\\\\\\end{array}\\right)\\end{equation*}"
      ],
      "text/plain": [
       "Quantum object: dims = [[2, 2], [1, 1]], shape = (4, 1), type = ket\n",
       "Qobj data =\n",
       "[[0.70710678]\n",
       " [0.        ]\n",
       " [0.        ]\n",
       " [0.70710678]]"
      ]
     },
     "execution_count": 3,
     "metadata": {},
     "output_type": "execute_result"
    }
   ],
   "source": [
    "psi = 1/sqrt(2)*tensor(H,H) + 1/sqrt(2)*tensor(V,V)\n",
    "psi"
   ]
  },
  {
   "cell_type": "code",
   "execution_count": 4,
   "id": "5e186993",
   "metadata": {},
   "outputs": [],
   "source": [
    "rho_ent = psi*psi.dag()"
   ]
  },
  {
   "cell_type": "code",
   "execution_count": 5,
   "id": "607f65de",
   "metadata": {},
   "outputs": [
    {
     "data": {
      "text/plain": [
       "0.9999999999999996"
      ]
     },
     "execution_count": 5,
     "metadata": {},
     "output_type": "execute_result"
    }
   ],
   "source": [
    "(rho_ent*rho_ent).tr()"
   ]
  },
  {
   "cell_type": "code",
   "execution_count": 6,
   "id": "6a54e1c9",
   "metadata": {},
   "outputs": [],
   "source": [
    "rho_mix = 0.5*tensor(H,H)*tensor(H,H).dag() + 0.5*tensor(V,V)*tensor(V,V).dag()"
   ]
  },
  {
   "cell_type": "code",
   "execution_count": 7,
   "id": "2431a92d",
   "metadata": {},
   "outputs": [
    {
     "data": {
      "text/plain": [
       "0.5"
      ]
     },
     "execution_count": 7,
     "metadata": {},
     "output_type": "execute_result"
    }
   ],
   "source": [
    "(rho_mix*rho_mix).tr()"
   ]
  },
  {
   "cell_type": "markdown",
   "id": "25f8ca7a",
   "metadata": {},
   "source": [
    "## Example 8.A.2"
   ]
  },
  {
   "cell_type": "markdown",
   "id": "0b934af1",
   "metadata": {},
   "source": [
    "Remember the 45 states:"
   ]
  },
  {
   "cell_type": "code",
   "execution_count": 8,
   "id": "36ecd940",
   "metadata": {},
   "outputs": [],
   "source": [
    "P45 = Qobj([[1/sqrt(2)],[1/sqrt(2)]])\n",
    "M45 = Qobj([[1/sqrt(2)],[-1/sqrt(2)]])"
   ]
  },
  {
   "cell_type": "markdown",
   "id": "c48675f1",
   "metadata": {},
   "source": [
    "Create the projection operator for $|+45,+45\\rangle$"
   ]
  },
  {
   "cell_type": "code",
   "execution_count": 9,
   "id": "2018a848",
   "metadata": {},
   "outputs": [],
   "source": [
    "Proj_4545 = tensor(P45,P45)*tensor(P45,P45).dag()"
   ]
  },
  {
   "cell_type": "code",
   "execution_count": 10,
   "id": "a55f70b0",
   "metadata": {},
   "outputs": [
    {
     "data": {
      "text/plain": [
       "0.2499999999999999"
      ]
     },
     "execution_count": 10,
     "metadata": {},
     "output_type": "execute_result"
    }
   ],
   "source": [
    "(Proj_4545*rho_mix).tr()"
   ]
  },
  {
   "cell_type": "markdown",
   "id": "e2a40c4b",
   "metadata": {},
   "source": [
    "Create projection operator for $|+45\\rangle_i$"
   ]
  },
  {
   "cell_type": "code",
   "execution_count": 11,
   "id": "49ec6ac6",
   "metadata": {},
   "outputs": [],
   "source": [
    "Proj_45i = tensor(qeye(2),P45)*tensor(qeye(2),P45).dag()"
   ]
  },
  {
   "cell_type": "code",
   "execution_count": 12,
   "id": "fce615ba",
   "metadata": {},
   "outputs": [
    {
     "data": {
      "text/plain": [
       "0.4999999999999999"
      ]
     },
     "execution_count": 12,
     "metadata": {},
     "output_type": "execute_result"
    }
   ],
   "source": [
    "(Proj_45i*rho_mix).tr()"
   ]
  },
  {
   "cell_type": "code",
   "execution_count": 13,
   "id": "c92f4a5f",
   "metadata": {},
   "outputs": [
    {
     "data": {
      "text/plain": [
       "0.5"
      ]
     },
     "execution_count": 13,
     "metadata": {},
     "output_type": "execute_result"
    }
   ],
   "source": [
    "0.25/0.5"
   ]
  },
  {
   "cell_type": "markdown",
   "id": "38ec5ca1",
   "metadata": {},
   "source": [
    "### Extend the example for the pure (superposition) state"
   ]
  },
  {
   "cell_type": "code",
   "execution_count": 14,
   "id": "1e3836f3",
   "metadata": {},
   "outputs": [
    {
     "data": {
      "text/plain": [
       "0.9999999999999998"
      ]
     },
     "execution_count": 14,
     "metadata": {},
     "output_type": "execute_result"
    }
   ],
   "source": [
    "(Proj_4545*rho_ent).tr() / (Proj_45i*rho_ent).tr()"
   ]
  },
  {
   "cell_type": "markdown",
   "id": "5d7b75db",
   "metadata": {},
   "source": [
    "The photons are entanlged and therefore show perfect correlation even in the +45 measurements."
   ]
  }
 ],
 "metadata": {
  "jupytext": {
   "text_representation": {
    "extension": ".md",
    "format_name": "myst",
    "format_version": 0.13,
    "jupytext_version": "1.11.5"
   }
  },
  "kernelspec": {
   "display_name": "Python 3",
   "language": "python",
   "name": "python3"
  },
  "language_info": {
   "codemirror_mode": {
    "name": "ipython",
    "version": 3
   },
   "file_extension": ".py",
   "mimetype": "text/x-python",
   "name": "python",
   "nbconvert_exporter": "python",
   "pygments_lexer": "ipython3",
   "version": "3.7.9"
  },
  "source_map": [
   14,
   18,
   23,
   26,
   30,
   35,
   39,
   43,
   47,
   49,
   53,
   57,
   60,
   64,
   68,
   70,
   74,
   78,
   82,
   84,
   88,
   90
  ]
 },
 "nbformat": 4,
 "nbformat_minor": 5
}