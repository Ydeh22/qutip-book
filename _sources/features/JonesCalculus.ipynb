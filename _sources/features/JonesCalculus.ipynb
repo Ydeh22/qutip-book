{
 "cells": [
  {
   "cell_type": "markdown",
   "id": "e0baad31",
   "metadata": {},
   "source": [
    "# Jones Calculus (Vectors and Matrices)\n",
    "Useful for working examples and problems with polarization"
   ]
  },
  {
   "cell_type": "code",
   "execution_count": 1,
   "id": "076bec11",
   "metadata": {},
   "outputs": [],
   "source": [
    "import matplotlib.pyplot as plt\n",
    "from numpy import *\n",
    "from qutip import *"
   ]
  },
  {
   "cell_type": "markdown",
   "id": "52f39e50",
   "metadata": {},
   "source": [
    "These are the polarization states:"
   ]
  },
  {
   "cell_type": "code",
   "execution_count": 2,
   "id": "394ab09e",
   "metadata": {},
   "outputs": [],
   "source": [
    "H = Qobj([[1],[0]])\n",
    "V = Qobj([[0],[1]])\n",
    "P45 = Qobj([[1/sqrt(2)],[1/sqrt(2)]])\n",
    "M45 = Qobj([[1/sqrt(2)],[-1/sqrt(2)]])\n",
    "R = Qobj([[1/sqrt(2)],[-1j/sqrt(2)]])\n",
    "L = Qobj([[1/sqrt(2)],[1j/sqrt(2)]])"
   ]
  },
  {
   "cell_type": "code",
   "execution_count": 3,
   "id": "b23aba94",
   "metadata": {},
   "outputs": [
    {
     "data": {
      "text/latex": [
       "Quantum object: dims = [[2], [1]], shape = (2, 1), type = ket\\begin{equation*}\\left(\\begin{array}{*{11}c}0.707\\\\-0.707j\\\\\\end{array}\\right)\\end{equation*}"
      ],
      "text/plain": [
       "Quantum object: dims = [[2], [1]], shape = (2, 1), type = ket\n",
       "Qobj data =\n",
       "[[0.70710678+0.j        ]\n",
       " [0.        -0.70710678j]]"
      ]
     },
     "execution_count": 3,
     "metadata": {},
     "output_type": "execute_result"
    }
   ],
   "source": [
    "R"
   ]
  },
  {
   "cell_type": "markdown",
   "id": "85748327",
   "metadata": {},
   "source": [
    "Devices:\n",
    "\n",
    "HWP - Half-wave plate axis at $\\theta$ to the horizontal\n",
    "\n",
    "LP - Linear polarizer, axis at $\\theta$\n",
    "\n",
    "QWP - Quarter-wave plate, axis at $\\theta$\n",
    "\n",
    "Note, these are functions so you need to call them with a specific value of theta."
   ]
  },
  {
   "cell_type": "code",
   "execution_count": 4,
   "id": "81f8a2c3",
   "metadata": {},
   "outputs": [],
   "source": [
    "def HWP(theta):\n",
    "    return Qobj([[cos(2*theta),sin(2*theta)],[sin(2*theta),-cos(2*theta)]]).tidyup()"
   ]
  },
  {
   "cell_type": "code",
   "execution_count": 5,
   "id": "15320214",
   "metadata": {},
   "outputs": [
    {
     "data": {
      "text/latex": [
       "Quantum object: dims = [[2], [2]], shape = (2, 2), type = oper, isherm = True\\begin{equation*}\\left(\\begin{array}{*{11}c}1.0 & 0.0\\\\0.0 & -1.0\\\\\\end{array}\\right)\\end{equation*}"
      ],
      "text/plain": [
       "Quantum object: dims = [[2], [2]], shape = (2, 2), type = oper, isherm = True\n",
       "Qobj data =\n",
       "[[ 1.  0.]\n",
       " [ 0. -1.]]"
      ]
     },
     "execution_count": 5,
     "metadata": {},
     "output_type": "execute_result"
    }
   ],
   "source": [
    "HWP(0)"
   ]
  },
  {
   "cell_type": "code",
   "execution_count": 6,
   "id": "e8c23f0a",
   "metadata": {},
   "outputs": [],
   "source": [
    "def LP(theta):\n",
    "    return Qobj([[cos(theta)**2,cos(theta)*sin(theta)],[sin(theta)*cos(theta),sin(theta)**2]]).tidyup()"
   ]
  },
  {
   "cell_type": "code",
   "execution_count": 7,
   "id": "48546aa7",
   "metadata": {},
   "outputs": [],
   "source": [
    "def QWP(theta):\n",
    "    return Qobj([[cos(theta)**2 + 1j*sin(theta)**2,\n",
    "                 (1-1j)*sin(theta)*cos(theta)],\n",
    "                [(1-1j)*sin(theta)*cos(theta),\n",
    "                 sin(theta)**2 + 1j*cos(theta)**2]]).tidyup()"
   ]
  },
  {
   "cell_type": "markdown",
   "id": "1e5e53f3",
   "metadata": {},
   "source": [
    "Try a linear polarizer at $+45^\\circ$ acting on a vertical beam"
   ]
  },
  {
   "cell_type": "code",
   "execution_count": 8,
   "id": "e059719e",
   "metadata": {},
   "outputs": [
    {
     "data": {
      "text/latex": [
       "Quantum object: dims = [[2], [1]], shape = (2, 1), type = ket\\begin{equation*}\\left(\\begin{array}{*{11}c}0.500\\\\0.500\\\\\\end{array}\\right)\\end{equation*}"
      ],
      "text/plain": [
       "Quantum object: dims = [[2], [1]], shape = (2, 1), type = ket\n",
       "Qobj data =\n",
       "[[0.5]\n",
       " [0.5]]"
      ]
     },
     "execution_count": 8,
     "metadata": {},
     "output_type": "execute_result"
    }
   ],
   "source": [
    "out = LP(pi/4)*V\n",
    "out"
   ]
  },
  {
   "cell_type": "markdown",
   "id": "b34a31bf",
   "metadata": {},
   "source": [
    "Have to interpret this result: it is a constant times the D polarization state:"
   ]
  },
  {
   "cell_type": "code",
   "execution_count": 9,
   "id": "cecd7338",
   "metadata": {},
   "outputs": [
    {
     "data": {
      "text/latex": [
       "Quantum object: dims = [[2], [1]], shape = (2, 1), type = ket\\begin{equation*}\\left(\\begin{array}{*{11}c}0.500\\\\0.500\\\\\\end{array}\\right)\\end{equation*}"
      ],
      "text/plain": [
       "Quantum object: dims = [[2], [1]], shape = (2, 1), type = ket\n",
       "Qobj data =\n",
       "[[0.5]\n",
       " [0.5]]"
      ]
     },
     "execution_count": 9,
     "metadata": {},
     "output_type": "execute_result"
    }
   ],
   "source": [
    "1/sqrt(2)*P45"
   ]
  },
  {
   "cell_type": "markdown",
   "id": "4222a8c0",
   "metadata": {},
   "source": [
    "Notice, that it is also a combination of the H and V states:"
   ]
  },
  {
   "cell_type": "code",
   "execution_count": 10,
   "id": "688f106c",
   "metadata": {},
   "outputs": [
    {
     "data": {
      "text/latex": [
       "Quantum object: dims = [[2], [1]], shape = (2, 1), type = ket\\begin{equation*}\\left(\\begin{array}{*{11}c}0.500\\\\0.500\\\\\\end{array}\\right)\\end{equation*}"
      ],
      "text/plain": [
       "Quantum object: dims = [[2], [1]], shape = (2, 1), type = ket\n",
       "Qobj data =\n",
       "[[0.5]\n",
       " [0.5]]"
      ]
     },
     "execution_count": 10,
     "metadata": {},
     "output_type": "execute_result"
    }
   ],
   "source": [
    "1/2.0*H + 1/2.0*V"
   ]
  },
  {
   "cell_type": "markdown",
   "id": "b4542e0c",
   "metadata": {},
   "source": [
    "This should be somewhat obvious from the vector itself.\n",
    "\n",
    "Next, find out the intensity of the light that is transmitted. This is given by the \"norm\" of the vector, sometimes also called the magnitude: $|\\mathbf{a}|$"
   ]
  },
  {
   "cell_type": "code",
   "execution_count": 11,
   "id": "36bc38ad",
   "metadata": {},
   "outputs": [
    {
     "data": {
      "text/plain": [
       "0.7071067811865475"
      ]
     },
     "execution_count": 11,
     "metadata": {},
     "output_type": "execute_result"
    }
   ],
   "source": [
    "out.norm()  # equivalent to sqrt(0.5**2 + 0.5**2)"
   ]
  },
  {
   "cell_type": "code",
   "execution_count": null,
   "id": "21af9b32",
   "metadata": {},
   "outputs": [],
   "source": []
  }
 ],
 "metadata": {
  "jupytext": {
   "text_representation": {
    "extension": ".md",
    "format_name": "myst",
    "format_version": 0.13,
    "jupytext_version": "1.11.5"
   }
  },
  "kernelspec": {
   "display_name": "Python 3",
   "language": "python",
   "name": "python3"
  },
  "language_info": {
   "codemirror_mode": {
    "name": "ipython",
    "version": 3
   },
   "file_extension": ".py",
   "mimetype": "text/x-python",
   "name": "python",
   "nbconvert_exporter": "python",
   "pygments_lexer": "ipython3",
   "version": "3.7.9"
  },
  "source_map": [
   12,
   17,
   21,
   25,
   34,
   36,
   48,
   53,
   57,
   62,
   68,
   72,
   75,
   79,
   81,
   85,
   87,
   93,
   97
  ]
 },
 "nbformat": 4,
 "nbformat_minor": 5
}