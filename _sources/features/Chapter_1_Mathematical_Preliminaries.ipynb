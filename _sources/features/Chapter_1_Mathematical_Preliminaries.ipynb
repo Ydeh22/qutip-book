{
 "cells": [
  {
   "cell_type": "markdown",
   "id": "bca880f3",
   "metadata": {},
   "source": [
    "# Chapter 1: Mathematical Preliminaries\n",
    "## 1.1 Probability\n",
    "### 1.1.1 Moments of Measured Data"
   ]
  },
  {
   "cell_type": "markdown",
   "id": "d5ee559f",
   "metadata": {},
   "source": [
    "Arrays of data, and their average and sum in python"
   ]
  },
  {
   "cell_type": "code",
   "execution_count": 1,
   "id": "653422b3",
   "metadata": {},
   "outputs": [],
   "source": [
    "import matplotlib.pyplot as plt\n",
    "from numpy import array, sin, sqrt, dot, outer\n",
    "%matplotlib inline"
   ]
  },
  {
   "cell_type": "code",
   "execution_count": 2,
   "id": "72e3c933",
   "metadata": {},
   "outputs": [],
   "source": [
    "x = array([1,2,3])"
   ]
  },
  {
   "cell_type": "code",
   "execution_count": 3,
   "id": "1dc9d172",
   "metadata": {},
   "outputs": [
    {
     "data": {
      "text/plain": [
       "6"
      ]
     },
     "execution_count": 3,
     "metadata": {},
     "output_type": "execute_result"
    }
   ],
   "source": [
    "x.sum()"
   ]
  },
  {
   "cell_type": "code",
   "execution_count": 4,
   "id": "995c8836",
   "metadata": {},
   "outputs": [
    {
     "data": {
      "text/plain": [
       "2.0"
      ]
     },
     "execution_count": 4,
     "metadata": {},
     "output_type": "execute_result"
    }
   ],
   "source": [
    "x.mean()"
   ]
  },
  {
   "cell_type": "markdown",
   "id": "5080a4b6",
   "metadata": {},
   "source": [
    "The formal definition (and to make sure we match with the book) is to take the sum and divide by the number of items in the sample:"
   ]
  },
  {
   "cell_type": "code",
   "execution_count": 5,
   "id": "a943815d",
   "metadata": {},
   "outputs": [
    {
     "data": {
      "text/plain": [
       "2.0"
      ]
     },
     "execution_count": 5,
     "metadata": {},
     "output_type": "execute_result"
    }
   ],
   "source": [
    "x.sum()/len(x)"
   ]
  },
  {
   "cell_type": "markdown",
   "id": "c1b9aabd",
   "metadata": {},
   "source": [
    "#### Higher order moments\n",
    "Operate on the sample, python does this element-by-element, then do the same thing as above:"
   ]
  },
  {
   "cell_type": "code",
   "execution_count": 6,
   "id": "4ab445cb",
   "metadata": {},
   "outputs": [
    {
     "data": {
      "text/plain": [
       "array([1, 4, 9])"
      ]
     },
     "execution_count": 6,
     "metadata": {},
     "output_type": "execute_result"
    }
   ],
   "source": [
    "x**2"
   ]
  },
  {
   "cell_type": "code",
   "execution_count": 7,
   "id": "db597d63",
   "metadata": {},
   "outputs": [
    {
     "data": {
      "text/plain": [
       "14"
      ]
     },
     "execution_count": 7,
     "metadata": {},
     "output_type": "execute_result"
    }
   ],
   "source": [
    "(x**2).sum() # Note the parenthesis!"
   ]
  },
  {
   "cell_type": "code",
   "execution_count": 8,
   "id": "c2dd3c63",
   "metadata": {},
   "outputs": [
    {
     "data": {
      "text/plain": [
       "4.666666666666667"
      ]
     },
     "execution_count": 8,
     "metadata": {},
     "output_type": "execute_result"
    }
   ],
   "source": [
    "(x**2).sum()/len(x)"
   ]
  },
  {
   "cell_type": "markdown",
   "id": "dd01b67d",
   "metadata": {},
   "source": [
    "#### It works for functions too:"
   ]
  },
  {
   "cell_type": "code",
   "execution_count": 9,
   "id": "e9b71024",
   "metadata": {},
   "outputs": [
    {
     "data": {
      "text/plain": [
       "array([0.84147098, 0.90929743, 0.14112001])"
      ]
     },
     "execution_count": 9,
     "metadata": {},
     "output_type": "execute_result"
    }
   ],
   "source": [
    "sin(x)"
   ]
  },
  {
   "cell_type": "code",
   "execution_count": 10,
   "id": "2afe703b",
   "metadata": {},
   "outputs": [
    {
     "data": {
      "text/plain": [
       "0.6306294732311485"
      ]
     },
     "execution_count": 10,
     "metadata": {},
     "output_type": "execute_result"
    }
   ],
   "source": [
    "sin(x).sum()/len(x)"
   ]
  },
  {
   "cell_type": "markdown",
   "id": "5a3d96d5",
   "metadata": {},
   "source": [
    "#### Variance"
   ]
  },
  {
   "cell_type": "code",
   "execution_count": 11,
   "id": "d4216930",
   "metadata": {},
   "outputs": [
    {
     "data": {
      "text/plain": [
       "0.6666666666666666"
      ]
     },
     "execution_count": 11,
     "metadata": {},
     "output_type": "execute_result"
    }
   ],
   "source": [
    "x.var()  # Variance"
   ]
  },
  {
   "cell_type": "code",
   "execution_count": 12,
   "id": "a4626b40",
   "metadata": {},
   "outputs": [
    {
     "data": {
      "text/plain": [
       "0.816496580927726"
      ]
     },
     "execution_count": 12,
     "metadata": {},
     "output_type": "execute_result"
    }
   ],
   "source": [
    "x.std()  # Standard Deviation"
   ]
  },
  {
   "cell_type": "code",
   "execution_count": 13,
   "id": "9e680377",
   "metadata": {},
   "outputs": [
    {
     "data": {
      "text/plain": [
       "True"
      ]
     },
     "execution_count": 13,
     "metadata": {},
     "output_type": "execute_result"
    }
   ],
   "source": [
    "x.std()**2 == x.var()  # Related by a square root"
   ]
  },
  {
   "cell_type": "markdown",
   "id": "c31ee3a5",
   "metadata": {},
   "source": [
    "### Example 1.1"
   ]
  },
  {
   "cell_type": "code",
   "execution_count": 14,
   "id": "17073ae8",
   "metadata": {},
   "outputs": [],
   "source": [
    "x_m = array([9,5,25,23,10,22,8,8,21,20])"
   ]
  },
  {
   "cell_type": "code",
   "execution_count": 15,
   "id": "0d6e7ab0",
   "metadata": {},
   "outputs": [
    {
     "data": {
      "text/plain": [
       "15.1"
      ]
     },
     "execution_count": 15,
     "metadata": {},
     "output_type": "execute_result"
    }
   ],
   "source": [
    "x_m.mean()"
   ]
  },
  {
   "cell_type": "code",
   "execution_count": 16,
   "id": "638f5e28",
   "metadata": {},
   "outputs": [
    {
     "data": {
      "text/plain": [
       "281.3"
      ]
     },
     "execution_count": 16,
     "metadata": {},
     "output_type": "execute_result"
    }
   ],
   "source": [
    "(x_m**2).sum()/len(x_m)"
   ]
  },
  {
   "cell_type": "code",
   "execution_count": 17,
   "id": "6bc81290",
   "metadata": {},
   "outputs": [
    {
     "data": {
      "text/plain": [
       "7.300000000000002"
      ]
     },
     "execution_count": 17,
     "metadata": {},
     "output_type": "execute_result"
    }
   ],
   "source": [
    "sqrt(281.3 - (15.1)**2)"
   ]
  },
  {
   "cell_type": "code",
   "execution_count": 18,
   "id": "2a41c35c",
   "metadata": {},
   "outputs": [
    {
     "data": {
      "text/plain": [
       "7.3"
      ]
     },
     "execution_count": 18,
     "metadata": {},
     "output_type": "execute_result"
    }
   ],
   "source": [
    "x_m.std()"
   ]
  },
  {
   "cell_type": "markdown",
   "id": "ef50a22f",
   "metadata": {},
   "source": [
    "Close enough!"
   ]
  },
  {
   "cell_type": "markdown",
   "id": "6feb9d4e",
   "metadata": {},
   "source": [
    "### 1.1.2 Probability"
   ]
  },
  {
   "cell_type": "markdown",
   "id": "3ff8ce7e",
   "metadata": {},
   "source": [
    "#### Example 1.2"
   ]
  },
  {
   "cell_type": "code",
   "execution_count": 19,
   "id": "14c1106a",
   "metadata": {},
   "outputs": [
    {
     "data": {
      "image/png": "[encoded data removed]",
      "text/plain": [
       "<Figure size 432x288 with 1 Axes>"
      ]
     },
     "metadata": {
      "filenames": {
       "image/png": "/Users/dawe7269/github/qutip-book/_build/jupyter_execute/features/Chapter_1_Mathematical_Preliminaries_28_0.png"
      },
      "needs_background": "light"
     },
     "output_type": "display_data"
    }
   ],
   "source": [
    "n, bins, patches = plt.hist(x_m,bins=7)"
   ]
  },
  {
   "cell_type": "markdown",
   "id": "6a75eda2",
   "metadata": {},
   "source": [
    "The hist function has several possible arguments, we use bins=7 to match the example."
   ]
  },
  {
   "cell_type": "code",
   "execution_count": 20,
   "id": "655df742",
   "metadata": {},
   "outputs": [
    {
     "data": {
      "text/plain": [
       "array([0.6, 3.6, 0. , 0. , 0. , 6.3, 4.8])"
      ]
     },
     "execution_count": 20,
     "metadata": {},
     "output_type": "execute_result"
    }
   ],
   "source": [
    "n/10.0*array([6,9,12,15,18,21,24])  # counts times each bin-center value"
   ]
  },
  {
   "cell_type": "code",
   "execution_count": 21,
   "id": "cad6b7db",
   "metadata": {},
   "outputs": [
    {
     "data": {
      "text/plain": [
       "15.3"
      ]
     },
     "execution_count": 21,
     "metadata": {},
     "output_type": "execute_result"
    }
   ],
   "source": [
    "sum(_)"
   ]
  },
  {
   "cell_type": "code",
   "execution_count": 22,
   "id": "33149f38",
   "metadata": {},
   "outputs": [
    {
     "data": {
      "text/plain": [
       "array([  3.6,  32.4,   0. ,   0. ,   0. , 132.3, 115.2])"
      ]
     },
     "execution_count": 22,
     "metadata": {},
     "output_type": "execute_result"
    }
   ],
   "source": [
    "n/10.0*array([6,9,12,15,18,21,24])**2  # counts times each bin-center value"
   ]
  },
  {
   "cell_type": "code",
   "execution_count": 23,
   "id": "373e75f5",
   "metadata": {},
   "outputs": [
    {
     "data": {
      "text/plain": [
       "283.5"
      ]
     },
     "execution_count": 23,
     "metadata": {},
     "output_type": "execute_result"
    }
   ],
   "source": [
    "sum(_)"
   ]
  },
  {
   "cell_type": "markdown",
   "id": "5986ffc1",
   "metadata": {},
   "source": [
    "## 1.2 Linear Algebra\n",
    "### 1.2.1 Vectors and Basis sets\n",
    "We'll use the qutip library, even though this is all just linear algebra:"
   ]
  },
  {
   "cell_type": "code",
   "execution_count": 24,
   "id": "3e27d557",
   "metadata": {},
   "outputs": [],
   "source": [
    "rvec = array([1,2])  # A row vector"
   ]
  },
  {
   "cell_type": "code",
   "execution_count": 25,
   "id": "463ff4f1",
   "metadata": {},
   "outputs": [
    {
     "data": {
      "text/plain": [
       "array([1, 2])"
      ]
     },
     "execution_count": 25,
     "metadata": {},
     "output_type": "execute_result"
    }
   ],
   "source": [
    "rvec"
   ]
  },
  {
   "cell_type": "code",
   "execution_count": 26,
   "id": "92d01ba2",
   "metadata": {},
   "outputs": [],
   "source": [
    "cvec = array([[1],[2]])  # A column vector"
   ]
  },
  {
   "cell_type": "code",
   "execution_count": 27,
   "id": "3dfa14f3",
   "metadata": {},
   "outputs": [
    {
     "data": {
      "text/plain": [
       "array([[1],\n",
       "       [2]])"
      ]
     },
     "execution_count": 27,
     "metadata": {},
     "output_type": "execute_result"
    }
   ],
   "source": [
    "cvec"
   ]
  },
  {
   "cell_type": "code",
   "execution_count": 28,
   "id": "345c7147",
   "metadata": {},
   "outputs": [
    {
     "data": {
      "text/plain": [
       "array([[1, 2],\n",
       "       [2, 4]])"
      ]
     },
     "execution_count": 28,
     "metadata": {},
     "output_type": "execute_result"
    }
   ],
   "source": [
    "cvec*rvec # Actually the outer product:"
   ]
  },
  {
   "cell_type": "code",
   "execution_count": 29,
   "id": "a4816cb8",
   "metadata": {},
   "outputs": [
    {
     "data": {
      "text/plain": [
       "array([5])"
      ]
     },
     "execution_count": 29,
     "metadata": {},
     "output_type": "execute_result"
    }
   ],
   "source": [
    "dot(rvec,cvec)"
   ]
  },
  {
   "cell_type": "code",
   "execution_count": 30,
   "id": "8c4c3b85",
   "metadata": {},
   "outputs": [
    {
     "data": {
      "text/plain": [
       "array([[1, 2],\n",
       "       [2, 4]])"
      ]
     },
     "execution_count": 30,
     "metadata": {},
     "output_type": "execute_result"
    }
   ],
   "source": [
    "outer(cvec,rvec)"
   ]
  },
  {
   "cell_type": "markdown",
   "id": "1c89c1a1",
   "metadata": {
    "nteract": {
     "transient": {
      "deleting": false
     }
    }
   },
   "source": [
    "However, try running\n",
    "```\n",
    "dot(cvec,rvec)\n",
    "```\n",
    "it won't work (think about why not!)"
   ]
  }
 ],
 "metadata": {
  "jupytext": {
   "text_representation": {
    "extension": ".md",
    "format_name": "myst",
    "format_version": 0.13,
    "jupytext_version": "1.11.5"
   }
  },
  "kernelspec": {
   "display_name": "Python 3",
   "language": "python",
   "name": "python3"
  },
  "language_info": {
   "codemirror_mode": {
    "name": "ipython",
    "version": 3
   },
   "file_extension": ".py",
   "mimetype": "text/x-python",
   "name": "python",
   "nbconvert_exporter": "python",
   "pygments_lexer": "ipython3",
   "version": "3.7.10"
  },
  "source_map": [
   12,
   18,
   22,
   28,
   32,
   36,
   38,
   42,
   44,
   49,
   53,
   57,
   59,
   63,
   67,
   69,
   73,
   77,
   81,
   83,
   87,
   91,
   95,
   99,
   103,
   105,
   109,
   113,
   117,
   119,
   123,
   127,
   131,
   135,
   137,
   143,
   147,
   151,
   155,
   159,
   163,
   167,
   171
  ]
 },
 "nbformat": 4,
 "nbformat_minor": 5
}