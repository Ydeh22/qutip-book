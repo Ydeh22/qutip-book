{
 "cells": [
  {
   "cell_type": "markdown",
   "id": "7d3028b4",
   "metadata": {},
   "source": [
    "# Lab 1 - Vectors and Matrices\n",
    "This notebook demonstrates the use of vectors and matrices in IPython. Note that the basis is not explicit in any of these operations. You must keep track of the basis yourself (using variable names, or notes etc)."
   ]
  },
  {
   "cell_type": "code",
   "execution_count": 1,
   "id": "831746e5",
   "metadata": {},
   "outputs": [],
   "source": [
    "from numpy import array, dot, outer, sqrt, matrix\n",
    "from numpy.linalg import eig, eigvals\n",
    "from matplotlib.pyplot import hist"
   ]
  },
  {
   "cell_type": "code",
   "execution_count": 2,
   "id": "61598a9a",
   "metadata": {
    "jupyter": {
     "outputs_hidden": true
    }
   },
   "outputs": [],
   "source": [
    "%matplotlib inline"
   ]
  },
  {
   "cell_type": "code",
   "execution_count": 3,
   "id": "3eee6e0f",
   "metadata": {},
   "outputs": [
    {
     "data": {
      "text/plain": [
       "array([1, 2])"
      ]
     },
     "execution_count": 3,
     "metadata": {},
     "output_type": "execute_result"
    }
   ],
   "source": [
    "rv = array([1,2])  # a row vector\n",
    "rv"
   ]
  },
  {
   "cell_type": "code",
   "execution_count": 4,
   "id": "1a93d0bf",
   "metadata": {},
   "outputs": [
    {
     "data": {
      "text/plain": [
       "array([[3],\n",
       "       [4]])"
      ]
     },
     "execution_count": 4,
     "metadata": {},
     "output_type": "execute_result"
    }
   ],
   "source": [
    "cv = array([[3],[4]])  # a column vector\n",
    "cv"
   ]
  },
  {
   "cell_type": "markdown",
   "id": "4382ae62",
   "metadata": {},
   "source": [
    "Two kinds of vector products we'll see: inner product (dot product) and outer product\n",
    "\n",
    "### 1) Use the function _dot(vector1, vector2)_ to find the dot product of rv and cv. Does the order of the arguments matter?"
   ]
  },
  {
   "cell_type": "code",
   "execution_count": 5,
   "id": "83b528cf",
   "metadata": {},
   "outputs": [
    {
     "data": {
      "text/plain": [
       "array([11])"
      ]
     },
     "execution_count": 5,
     "metadata": {},
     "output_type": "execute_result"
    }
   ],
   "source": [
    "dot(rv,cv)"
   ]
  },
  {
   "cell_type": "code",
   "execution_count": 6,
   "id": "fe0c3640",
   "metadata": {},
   "outputs": [
    {
     "name": "stdout",
     "output_type": "stream",
     "text": [
      "shapes (2,1) and (2,) not aligned: 1 (dim 1) != 2 (dim 0)\n"
     ]
    }
   ],
   "source": [
    "try:\n",
    "  dot(cv,rv)\n",
    "except ValueError as err:\n",
    "  print(err)"
   ]
  },
  {
   "cell_type": "markdown",
   "id": "6499a956",
   "metadata": {},
   "source": [
    "### 2) Use the function _outer(vector1, vector2)_ to find the outer product of rv and cv. Does the order of the arguments matter?"
   ]
  },
  {
   "cell_type": "code",
   "execution_count": 7,
   "id": "3bee83bd",
   "metadata": {},
   "outputs": [
    {
     "data": {
      "text/plain": [
       "array([[3, 4],\n",
       "       [6, 8]])"
      ]
     },
     "execution_count": 7,
     "metadata": {},
     "output_type": "execute_result"
    }
   ],
   "source": [
    "outer(rv,cv)"
   ]
  },
  {
   "cell_type": "code",
   "execution_count": 8,
   "id": "9ebf1c29",
   "metadata": {},
   "outputs": [
    {
     "data": {
      "text/plain": [
       "array([[3, 6],\n",
       "       [4, 8]])"
      ]
     },
     "execution_count": 8,
     "metadata": {},
     "output_type": "execute_result"
    }
   ],
   "source": [
    "outer(cv,rv)"
   ]
  },
  {
   "cell_type": "markdown",
   "id": "d1e2def4",
   "metadata": {},
   "source": [
    "## II. Complex vectors"
   ]
  },
  {
   "cell_type": "code",
   "execution_count": 9,
   "id": "629e07c7",
   "metadata": {},
   "outputs": [],
   "source": [
    "# Complex numbers in python have a j term:\n",
    "a = 1+2j"
   ]
  },
  {
   "cell_type": "code",
   "execution_count": 10,
   "id": "0798eb0f",
   "metadata": {},
   "outputs": [],
   "source": [
    "v1 = array([1+2j, 3+2j, 5+1j, 4+0j])"
   ]
  },
  {
   "cell_type": "markdown",
   "id": "304574b5",
   "metadata": {},
   "source": [
    "The complex conjugate changes the sign of the imaginary part:"
   ]
  },
  {
   "cell_type": "code",
   "execution_count": 11,
   "id": "633902e4",
   "metadata": {},
   "outputs": [
    {
     "data": {
      "text/plain": [
       "array([1.-2.j, 3.-2.j, 5.-1.j, 4.-0.j])"
      ]
     },
     "execution_count": 11,
     "metadata": {},
     "output_type": "execute_result"
    }
   ],
   "source": [
    "v1.conjugate()"
   ]
  },
  {
   "cell_type": "markdown",
   "id": "a5357c2d",
   "metadata": {},
   "source": [
    "### 3) Use _dot()_ and _.conjugate()_ to find the dot product of v1 and it's own conjugate:"
   ]
  },
  {
   "cell_type": "code",
   "execution_count": 12,
   "id": "60aad9db",
   "metadata": {},
   "outputs": [
    {
     "data": {
      "text/plain": [
       "(60+0j)"
      ]
     },
     "execution_count": 12,
     "metadata": {},
     "output_type": "execute_result"
    }
   ],
   "source": [
    "dot(v1.conjugate(),v1)"
   ]
  },
  {
   "cell_type": "markdown",
   "id": "eae8439a",
   "metadata": {},
   "source": [
    "## III. Matrices"
   ]
  },
  {
   "cell_type": "code",
   "execution_count": 13,
   "id": "10884f10",
   "metadata": {},
   "outputs": [
    {
     "data": {
      "text/plain": [
       "array([[2, 1],\n",
       "       [2, 1]])"
      ]
     },
     "execution_count": 13,
     "metadata": {},
     "output_type": "execute_result"
    }
   ],
   "source": [
    "# a two-dimensional array\n",
    "m1 = array([[2,1],[2,1]])\n",
    "m1"
   ]
  },
  {
   "cell_type": "code",
   "execution_count": 14,
   "id": "0c96ae1b",
   "metadata": {},
   "outputs": [
    {
     "data": {
      "text/plain": [
       "array([[2, 2],\n",
       "       [1, 1]])"
      ]
     },
     "execution_count": 14,
     "metadata": {},
     "output_type": "execute_result"
    }
   ],
   "source": [
    "# can find transpose with the T method:\n",
    "m1.T"
   ]
  },
  {
   "cell_type": "code",
   "execution_count": 15,
   "id": "79a05650",
   "metadata": {},
   "outputs": [
    {
     "data": {
      "text/plain": [
       "(array([3., 0.]),\n",
       " array([[ 0.70710678, -0.4472136 ],\n",
       "        [ 0.70710678,  0.89442719]]))"
      ]
     },
     "execution_count": 15,
     "metadata": {},
     "output_type": "execute_result"
    }
   ],
   "source": [
    "# find the eigenvalues and eigenvectors of a matrix:\n",
    "eig(m1)"
   ]
  },
  {
   "cell_type": "markdown",
   "id": "c52b85c4",
   "metadata": {},
   "source": [
    "Can also use the `matrix` type which is like array but restricts to 2D. Also, `matrix` adds `.H` and `.I` methods for hermitian and inverse, respectively. For more information, see Stack Overflow question [#4151128](http://stackoverflow.com/questions/4151128/what-are-the-differences-between-numpy-arrays-and-matrices-which-one-should-i-u)"
   ]
  },
  {
   "cell_type": "code",
   "execution_count": 16,
   "id": "24f2f318",
   "metadata": {},
   "outputs": [],
   "source": [
    "m2 = matrix( [[2,1],[2,1]])"
   ]
  },
  {
   "cell_type": "code",
   "execution_count": 17,
   "id": "ccde376f",
   "metadata": {},
   "outputs": [
    {
     "data": {
      "text/plain": [
       "matrix([[2, 2],\n",
       "        [1, 1]])"
      ]
     },
     "execution_count": 17,
     "metadata": {},
     "output_type": "execute_result"
    }
   ],
   "source": [
    "m2.H"
   ]
  },
  {
   "cell_type": "code",
   "execution_count": 18,
   "id": "3e45bdc7",
   "metadata": {},
   "outputs": [
    {
     "data": {
      "text/plain": [
       "(array([3., 0.]),\n",
       " matrix([[ 0.70710678, -0.4472136 ],\n",
       "         [ 0.70710678,  0.89442719]]))"
      ]
     },
     "execution_count": 18,
     "metadata": {},
     "output_type": "execute_result"
    }
   ],
   "source": [
    "eig(m2)"
   ]
  },
  {
   "cell_type": "code",
   "execution_count": 19,
   "id": "3deec044",
   "metadata": {},
   "outputs": [],
   "source": [
    "# use a question mark to get help on a command\n",
    "eig?"
   ]
  },
  {
   "cell_type": "markdown",
   "id": "024a38a6",
   "metadata": {},
   "source": [
    "# Examples:\n",
    "## Example 1.4\n",
    "Find the eigenvalues and eigenvectors of M = ([0,1],[-2,3]])"
   ]
  },
  {
   "cell_type": "code",
   "execution_count": 20,
   "id": "9afeebd6",
   "metadata": {},
   "outputs": [],
   "source": [
    "M14 = array([[0,1],[-2,3]])"
   ]
  },
  {
   "cell_type": "code",
   "execution_count": 21,
   "id": "18c75244",
   "metadata": {},
   "outputs": [
    {
     "data": {
      "text/plain": [
       "(array([1., 2.]),\n",
       " array([[-0.70710678, -0.4472136 ],\n",
       "        [-0.70710678, -0.89442719]]))"
      ]
     },
     "execution_count": 21,
     "metadata": {},
     "output_type": "execute_result"
    }
   ],
   "source": [
    "eig(M14)"
   ]
  },
  {
   "cell_type": "markdown",
   "id": "b5c4fa20",
   "metadata": {},
   "source": [
    "Interpret this result:\n",
    "the two eigenvalues are 1 and 2\n",
    "the eigenvectors are strange decimals, but we can check them against the stated solution:"
   ]
  },
  {
   "cell_type": "code",
   "execution_count": 22,
   "id": "41eed28a",
   "metadata": {},
   "outputs": [
    {
     "data": {
      "text/plain": [
       "0.7071067811865475"
      ]
     },
     "execution_count": 22,
     "metadata": {},
     "output_type": "execute_result"
    }
   ],
   "source": [
    "1/sqrt(2)  # this is the value for both entries in the first eigenvector"
   ]
  },
  {
   "cell_type": "code",
   "execution_count": 23,
   "id": "da269044",
   "metadata": {},
   "outputs": [
    {
     "data": {
      "text/plain": [
       "0.4472135954999579"
      ]
     },
     "execution_count": 23,
     "metadata": {},
     "output_type": "execute_result"
    }
   ],
   "source": [
    "1/sqrt(5)  # this is the first value in the second eigenvector"
   ]
  },
  {
   "cell_type": "code",
   "execution_count": 24,
   "id": "4a6173c4",
   "metadata": {},
   "outputs": [
    {
     "data": {
      "text/plain": [
       "0.8944271909999159"
      ]
     },
     "execution_count": 24,
     "metadata": {},
     "output_type": "execute_result"
    }
   ],
   "source": [
    "2/sqrt(5)  # this is the second value in the second eigenvector"
   ]
  },
  {
   "cell_type": "code",
   "execution_count": 25,
   "id": "87fd6d1c",
   "metadata": {},
   "outputs": [
    {
     "data": {
      "text/plain": [
       "array([1., 2.])"
      ]
     },
     "execution_count": 25,
     "metadata": {},
     "output_type": "execute_result"
    }
   ],
   "source": [
    "eigvals(M14)"
   ]
  },
  {
   "cell_type": "markdown",
   "id": "d562d965",
   "metadata": {},
   "source": [
    "Signs are opposite compared to the book, but it turns out that (-) doesn't matter in the interpretation of eigenvectors: only \"direction\" matters (the relative size of the entries)."
   ]
  },
  {
   "cell_type": "markdown",
   "id": "c9450043",
   "metadata": {},
   "source": [
    "## Example: Problem 1.16 using Ipython functions"
   ]
  },
  {
   "cell_type": "code",
   "execution_count": 26,
   "id": "76ad81d9",
   "metadata": {},
   "outputs": [],
   "source": [
    "M16 = array([[0,-1j],[1j,0]])"
   ]
  },
  {
   "cell_type": "code",
   "execution_count": 27,
   "id": "0abf0378",
   "metadata": {},
   "outputs": [],
   "source": [
    "evals, evecs = eig(M16)"
   ]
  },
  {
   "cell_type": "code",
   "execution_count": 28,
   "id": "e610dac4",
   "metadata": {},
   "outputs": [
    {
     "data": {
      "text/plain": [
       "array([[-0.        -0.70710678j,  0.70710678+0.j        ],\n",
       "       [ 0.70710678+0.j        ,  0.        -0.70710678j]])"
      ]
     },
     "execution_count": 28,
     "metadata": {},
     "output_type": "execute_result"
    }
   ],
   "source": [
    "evecs"
   ]
  },
  {
   "cell_type": "code",
   "execution_count": 29,
   "id": "9e33ba74",
   "metadata": {},
   "outputs": [
    {
     "data": {
      "text/plain": [
       "array([-0.        -0.70710678j,  0.70710678+0.j        ])"
      ]
     },
     "execution_count": 29,
     "metadata": {},
     "output_type": "execute_result"
    }
   ],
   "source": [
    "evecs[:,0]"
   ]
  },
  {
   "cell_type": "code",
   "execution_count": 30,
   "id": "e7204eeb",
   "metadata": {},
   "outputs": [
    {
     "data": {
      "text/plain": [
       "array([0.70710678+0.j        , 0.        -0.70710678j])"
      ]
     },
     "execution_count": 30,
     "metadata": {},
     "output_type": "execute_result"
    }
   ],
   "source": [
    "evecs[:,1]"
   ]
  },
  {
   "cell_type": "code",
   "execution_count": 31,
   "id": "2237c3b1",
   "metadata": {},
   "outputs": [
    {
     "data": {
      "text/plain": [
       "-1.6653345369377348e-16j"
      ]
     },
     "execution_count": 31,
     "metadata": {},
     "output_type": "execute_result"
    }
   ],
   "source": [
    "dot(evecs[:,0].conjugate(),evecs[:,1])"
   ]
  },
  {
   "cell_type": "markdown",
   "id": "8a33be8e",
   "metadata": {},
   "source": [
    "# Part 2: Using QuTiP\n",
    "Keeping track of row and column vectors in Ipython is somewhat artificial and tedious. The QuTiP library is designed to take care of many of these headaches"
   ]
  },
  {
   "cell_type": "code",
   "execution_count": 32,
   "id": "5a982cfb",
   "metadata": {},
   "outputs": [],
   "source": [
    "from qutip import *"
   ]
  },
  {
   "cell_type": "code",
   "execution_count": 33,
   "id": "9a7d53a2",
   "metadata": {},
   "outputs": [
    {
     "data": {
      "text/latex": [
       "Quantum object: dims = [[1], [2]], shape = (1, 2), type = bra\\begin{equation*}\\left(\\begin{array}{*{11}c}1.0 & 2.0\\\\\\end{array}\\right)\\end{equation*}"
      ],
      "text/plain": [
       "Quantum object: dims = [[1], [2]], shape = (1, 2), type = bra\n",
       "Qobj data =\n",
       "[[1. 2.]]"
      ]
     },
     "execution_count": 33,
     "metadata": {},
     "output_type": "execute_result"
    }
   ],
   "source": [
    "# Create a row vector:\n",
    "qv = Qobj([[1,2]])\n",
    "qv"
   ]
  },
  {
   "cell_type": "code",
   "execution_count": 34,
   "id": "cd2c1bcf",
   "metadata": {},
   "outputs": [
    {
     "data": {
      "text/latex": [
       "Quantum object: dims = [[2], [1]], shape = (2, 1), type = ket\\begin{equation*}\\left(\\begin{array}{*{11}c}1.0\\\\2.0\\\\\\end{array}\\right)\\end{equation*}"
      ],
      "text/plain": [
       "Quantum object: dims = [[2], [1]], shape = (2, 1), type = ket\n",
       "Qobj data =\n",
       "[[1.]\n",
       " [2.]]"
      ]
     },
     "execution_count": 34,
     "metadata": {},
     "output_type": "execute_result"
    }
   ],
   "source": [
    "# Find the corresponding column vector\n",
    "qv.dag()"
   ]
  },
  {
   "cell_type": "code",
   "execution_count": 35,
   "id": "a2287fb5",
   "metadata": {},
   "outputs": [
    {
     "data": {
      "text/latex": [
       "Quantum object: dims = [[1], [2]], shape = (1, 2), type = bra\\begin{equation*}\\left(\\begin{array}{*{11}c}(1.0+2.0j) & (4.0-1.0j)\\\\\\end{array}\\right)\\end{equation*}"
      ],
      "text/plain": [
       "Quantum object: dims = [[1], [2]], shape = (1, 2), type = bra\n",
       "Qobj data =\n",
       "[[1.+2.j 4.-1.j]]"
      ]
     },
     "execution_count": 35,
     "metadata": {},
     "output_type": "execute_result"
    }
   ],
   "source": [
    "qv2 = Qobj([[1+2j,4-1j]])\n",
    "qv2"
   ]
  },
  {
   "cell_type": "code",
   "execution_count": 36,
   "id": "2576c08a",
   "metadata": {},
   "outputs": [
    {
     "data": {
      "text/latex": [
       "Quantum object: dims = [[2], [1]], shape = (2, 1), type = ket\\begin{equation*}\\left(\\begin{array}{*{11}c}(1.0-2.0j)\\\\(4.0+1.0j)\\\\\\end{array}\\right)\\end{equation*}"
      ],
      "text/plain": [
       "Quantum object: dims = [[2], [1]], shape = (2, 1), type = ket\n",
       "Qobj data =\n",
       "[[1.-2.j]\n",
       " [4.+1.j]]"
      ]
     },
     "execution_count": 36,
     "metadata": {},
     "output_type": "execute_result"
    }
   ],
   "source": [
    "qv2.dag()"
   ]
  },
  {
   "cell_type": "markdown",
   "id": "91592fad",
   "metadata": {},
   "source": [
    "## Vector products in QuTiP\n",
    "Only need to know one operator: \"\\*\"\n",
    "The product will depend on the order, either inner or outer"
   ]
  },
  {
   "cell_type": "code",
   "execution_count": 37,
   "id": "2dd1f957",
   "metadata": {},
   "outputs": [
    {
     "data": {
      "text/latex": [
       "Quantum object: dims = [[1], [1]], shape = (1, 1), type = bra\\begin{equation*}\\left(\\begin{array}{*{11}c}22.0\\\\\\end{array}\\right)\\end{equation*}"
      ],
      "text/plain": [
       "Quantum object: dims = [[1], [1]], shape = (1, 1), type = bra\n",
       "Qobj data =\n",
       "[[22.]]"
      ]
     },
     "execution_count": 37,
     "metadata": {},
     "output_type": "execute_result"
    }
   ],
   "source": [
    "qv2*qv2.dag()  # inner product (dot product)"
   ]
  },
  {
   "cell_type": "code",
   "execution_count": 38,
   "id": "5db23188",
   "metadata": {},
   "outputs": [
    {
     "data": {
      "text/latex": [
       "Quantum object: dims = [[2], [2]], shape = (2, 2), type = oper, isherm = True\\begin{equation*}\\left(\\begin{array}{*{11}c}5.0 & (2.0-9.0j)\\\\(2.0+9.0j) & 17.0\\\\\\end{array}\\right)\\end{equation*}"
      ],
      "text/plain": [
       "Quantum object: dims = [[2], [2]], shape = (2, 2), type = oper, isherm = True\n",
       "Qobj data =\n",
       "[[ 5.+0.j  2.-9.j]\n",
       " [ 2.+9.j 17.+0.j]]"
      ]
     },
     "execution_count": 38,
     "metadata": {},
     "output_type": "execute_result"
    }
   ],
   "source": [
    "qv2.dag()*qv2  # outer product"
   ]
  },
  {
   "cell_type": "markdown",
   "id": "658b1503",
   "metadata": {},
   "source": [
    "## Matrix in QuTiP"
   ]
  },
  {
   "cell_type": "code",
   "execution_count": 39,
   "id": "f8fbd313",
   "metadata": {},
   "outputs": [
    {
     "data": {
      "text/latex": [
       "Quantum object: dims = [[2], [2]], shape = (2, 2), type = oper, isherm = True\\begin{equation*}\\left(\\begin{array}{*{11}c}1.0 & 2.0\\\\2.0 & 1.0\\\\\\end{array}\\right)\\end{equation*}"
      ],
      "text/plain": [
       "Quantum object: dims = [[2], [2]], shape = (2, 2), type = oper, isherm = True\n",
       "Qobj data =\n",
       "[[1. 2.]\n",
       " [2. 1.]]"
      ]
     },
     "execution_count": 39,
     "metadata": {},
     "output_type": "execute_result"
    }
   ],
   "source": [
    "qm = Qobj([[1,2],[2,1]])\n",
    "qm"
   ]
  },
  {
   "cell_type": "code",
   "execution_count": 40,
   "id": "dcc13d16",
   "metadata": {},
   "outputs": [
    {
     "data": {
      "text/plain": [
       "array([-1.,  3.])"
      ]
     },
     "execution_count": 40,
     "metadata": {},
     "output_type": "execute_result"
    }
   ],
   "source": [
    "qm.eigenenergies()  # in quantum (as we will learn) eigenvalues often correspond to energy levels"
   ]
  },
  {
   "cell_type": "code",
   "execution_count": 41,
   "id": "cb38d807",
   "metadata": {},
   "outputs": [],
   "source": [
    "evals, evecs = qm.eigenstates()"
   ]
  },
  {
   "cell_type": "code",
   "execution_count": 42,
   "id": "173954e6",
   "metadata": {},
   "outputs": [
    {
     "data": {
      "text/plain": [
       "array([Quantum object: dims = [[2], [1]], shape = (2, 1), type = ket\n",
       "       Qobj data =\n",
       "       [[-0.70710678]\n",
       "        [ 0.70710678]]                                              ,\n",
       "       Quantum object: dims = [[2], [1]], shape = (2, 1), type = ket\n",
       "       Qobj data =\n",
       "       [[0.70710678]\n",
       "        [0.70710678]]                                               ],\n",
       "      dtype=object)"
      ]
     },
     "execution_count": 42,
     "metadata": {},
     "output_type": "execute_result"
    }
   ],
   "source": [
    "evecs"
   ]
  },
  {
   "cell_type": "code",
   "execution_count": 43,
   "id": "96d591fe",
   "metadata": {},
   "outputs": [
    {
     "data": {
      "text/latex": [
       "Quantum object: dims = [[2], [1]], shape = (2, 1), type = ket\\begin{equation*}\\left(\\begin{array}{*{11}c}-0.707\\\\0.707\\\\\\end{array}\\right)\\end{equation*}"
      ],
      "text/plain": [
       "Quantum object: dims = [[2], [1]], shape = (2, 1), type = ket\n",
       "Qobj data =\n",
       "[[-0.70710678]\n",
       " [ 0.70710678]]"
      ]
     },
     "execution_count": 43,
     "metadata": {},
     "output_type": "execute_result"
    }
   ],
   "source": [
    "evecs[0]"
   ]
  },
  {
   "cell_type": "markdown",
   "id": "c63aed43",
   "metadata": {},
   "source": [
    "# Practice:"
   ]
  },
  {
   "cell_type": "markdown",
   "id": "9c85a483",
   "metadata": {},
   "source": [
    "## Problem 1.2 using the _hist()_ function."
   ]
  },
  {
   "cell_type": "code",
   "execution_count": 44,
   "id": "b46b6422",
   "metadata": {},
   "outputs": [
    {
     "data": {
      "image/png": "[encoded data removed]",
      "text/plain": [
       "<Figure size 432x288 with 1 Axes>"
      ]
     },
     "metadata": {
      "filenames": {
       "image/png": "/Users/dawe7269/github/qutip-book/_build/jupyter_execute/features/Lab_1_Vectors_and_Matrices_Solutions_60_0.png"
      },
      "needs_background": "light"
     },
     "output_type": "display_data"
    }
   ],
   "source": [
    "# Solution\n",
    "n, bins, patches = hist([10,13,14,14,6,8,7,9,12,14,13,11,10,7,7],bins=5,range=(5,14))"
   ]
  },
  {
   "cell_type": "code",
   "execution_count": 45,
   "id": "f5b8de81",
   "metadata": {},
   "outputs": [
    {
     "data": {
      "text/plain": [
       "array([1., 4., 3., 2., 5.])"
      ]
     },
     "execution_count": 45,
     "metadata": {},
     "output_type": "execute_result"
    }
   ],
   "source": [
    "# Solution\n",
    "n"
   ]
  },
  {
   "cell_type": "code",
   "execution_count": 46,
   "id": "90881a61",
   "metadata": {},
   "outputs": [],
   "source": [
    "# Solution\n",
    "pvals = n/n.sum()"
   ]
  },
  {
   "cell_type": "markdown",
   "id": "04f4661a",
   "metadata": {},
   "source": [
    "## Problem 1.8\n",
    "**Hint:** using sympy, we can calculate the relevant integral. The conds='none' asks the solver to ignore any strange conditions on the variables in the integral. This is fine for most of our integrals. Usually the variables are real and well-behaved numbers."
   ]
  },
  {
   "cell_type": "code",
   "execution_count": 47,
   "id": "0c26855e",
   "metadata": {},
   "outputs": [
    {
     "name": "stdout",
     "output_type": "stream",
     "text": [
      "first =  c/a\n",
      "second =  1\n"
     ]
    }
   ],
   "source": [
    "# Solution\n",
    "from sympy import *\n",
    "c,a,x = symbols(\"c a x\")\n",
    "Q.positive((c,a))\n",
    "first = integrate(c*exp(-a*x),(x,0,oo),conds='none')\n",
    "print(\"first = \",first)\n",
    "second = integrate(a*exp(-a*x),(x,0,oo),conds='none')\n",
    "print(\"second = \",second)"
   ]
  }
 ],
 "metadata": {
  "jupytext": {
   "text_representation": {
    "extension": ".md",
    "format_name": "myst",
    "format_version": 0.13,
    "jupytext_version": "1.11.5"
   }
  },
  "kernelspec": {
   "display_name": "Python 3",
   "language": "python",
   "name": "python3"
  },
  "language_info": {
   "codemirror_mode": {
    "name": "ipython",
    "version": 3
   },
   "file_extension": ".py",
   "mimetype": "text/x-python",
   "name": "python",
   "nbconvert_exporter": "python",
   "pygments_lexer": "ipython3",
   "version": "3.7.10"
  },
  "source_map": [
   12,
   17,
   23,
   31,
   36,
   39,
   45,
   49,
   54,
   58,
   62,
   64,
   68,
   73,
   75,
   79,
   81,
   85,
   87,
   91,
   97,
   102,
   105,
   109,
   113,
   117,
   121,
   124,
   130,
   134,
   136,
   142,
   146,
   150,
   154,
   156,
   160,
   164,
   168,
   172,
   176,
   180,
   184,
   186,
   191,
   195,
   201,
   206,
   211,
   213,
   219,
   223,
   225,
   229,
   234,
   238,
   242,
   246,
   248,
   252,
   256,
   261,
   266,
   269,
   274
  ]
 },
 "nbformat": 4,
 "nbformat_minor": 5
}