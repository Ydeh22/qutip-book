{
 "metadata": {
  "name": ""
 },
 "nbformat": 3,
 "nbformat_minor": 0,
 "worksheets": [
  {
   "cells": [
    {
     "cell_type": "code",
     "collapsed": false,
     "input": [
      "%pylab inline\n",
      "from qutip import *"
     ],
     "language": "python",
     "metadata": {},
     "outputs": [
      {
       "output_type": "stream",
       "stream": "stdout",
       "text": [
        "Populating the interactive namespace from numpy and matplotlib\n"
       ]
      }
     ],
     "prompt_number": 3
    },
    {
     "cell_type": "code",
     "collapsed": false,
     "input": [
      "e = Qobj([[2,1],[1,2]])\n",
      "e"
     ],
     "language": "python",
     "metadata": {},
     "outputs": [
      {
       "latex": [
        "\\begin{equation}\\text{Quantum object: dims = [[2], [2]], shape = [2, 2], type = oper, isHerm = True}\\\\[1em]\\begin{pmatrix}2.0 & 1.0\\\\1.0 & 2.0\\\\\\end{pmatrix}\\end{equation}"
       ],
       "metadata": {},
       "output_type": "pyout",
       "prompt_number": 24,
       "text": [
        "Quantum object: dims = [[2], [2]], shape = [2, 2], type = oper, isherm = True\n",
        "Qobj data =\n",
        "[[ 2.  1.]\n",
        " [ 1.  2.]]"
       ]
      }
     ],
     "prompt_number": 24
    },
    {
     "cell_type": "code",
     "collapsed": false,
     "input": [
      "e.eigenstates()"
     ],
     "language": "python",
     "metadata": {},
     "outputs": [
      {
       "metadata": {},
       "output_type": "pyout",
       "prompt_number": 25,
       "text": [
        "(array([ 1.,  3.]),\n",
        " array([ Quantum object: dims = [[2], [1]], shape = [2, 1], type = ket\n",
        "Qobj data =\n",
        "[[-0.70710678]\n",
        " [ 0.70710678]],\n",
        "       Quantum object: dims = [[2], [1]], shape = [2, 1], type = ket\n",
        "Qobj data =\n",
        "[[ 0.70710678]\n",
        " [ 0.70710678]]], dtype=object))"
       ]
      }
     ],
     "prompt_number": 25
    },
    {
     "cell_type": "code",
     "collapsed": false,
     "input": [
      "pz = Qobj([[1],[0]])\n",
      "mz = Qobj([[0],[1]])\n",
      "px = Qobj([[1/sqrt(2)],[1/sqrt(2)]])\n",
      "mx = Qobj([[1/sqrt(2)],[-1/sqrt(2)]])\n",
      "py = Qobj([[1/sqrt(2)],[1j/sqrt(2)]])\n",
      "my = Qobj([[1/sqrt(2)],[-1j/sqrt(2)]])\n",
      "Sx = 1/2.0*sigmax()\n",
      "Sy = 1/2.0*sigmay()\n",
      "Sz = 1/2.0*sigmaz()"
     ],
     "language": "python",
     "metadata": {},
     "outputs": [],
     "prompt_number": 26
    },
    {
     "cell_type": "code",
     "collapsed": false,
     "input": [
      "psi = 1/sqrt(5)*py + 1/sqrt(5)*px + 1/sqrt(3)*pz\n",
      "psi.norm()"
     ],
     "language": "python",
     "metadata": {},
     "outputs": [
      {
       "metadata": {},
       "output_type": "pyout",
       "prompt_number": 48,
       "text": [
        "1.289817846315345"
       ]
      }
     ],
     "prompt_number": 48
    },
    {
     "cell_type": "code",
     "collapsed": false,
     "input": [
      "psi.dag()*e*psi"
     ],
     "language": "python",
     "metadata": {},
     "outputs": [
      {
       "latex": [
        "\\begin{equation}\\text{Quantum object: dims = [[1], [1]], shape = [1, 1], type = oper, isHerm = True}\\\\[1em]\\begin{pmatrix}3.41421356237\\\\\\end{pmatrix}\\end{equation}"
       ],
       "metadata": {},
       "output_type": "pyout",
       "prompt_number": 39,
       "text": [
        "Quantum object: dims = [[1], [1]], shape = [1, 1], type = oper, isherm = True\n",
        "Qobj data =\n",
        "[[ 3.41421356]]"
       ]
      }
     ],
     "prompt_number": 39
    },
    {
     "cell_type": "code",
     "collapsed": false,
     "input": [
      "psi.dag()*e*e*psi"
     ],
     "language": "python",
     "metadata": {},
     "outputs": [
      {
       "latex": [
        "\\begin{equation}\\text{Quantum object: dims = [[1], [1]], shape = [1, 1], type = oper, isHerm = True}\\\\[1em]\\begin{pmatrix}7.66666666667\\\\\\end{pmatrix}\\end{equation}"
       ],
       "metadata": {},
       "output_type": "pyout",
       "prompt_number": 32,
       "text": [
        "Quantum object: dims = [[1], [1]], shape = [1, 1], type = oper, isherm = True\n",
        "Qobj data =\n",
        "[[ 7.66666667 -2.22044605e-16j]]"
       ]
      }
     ],
     "prompt_number": 32
    },
    {
     "cell_type": "code",
     "collapsed": false,
     "input": [
      "7.66 - 2.6**2"
     ],
     "language": "python",
     "metadata": {},
     "outputs": [
      {
       "metadata": {},
       "output_type": "pyout",
       "prompt_number": 33,
       "text": [
        "0.8999999999999995"
       ]
      }
     ],
     "prompt_number": 33
    },
    {
     "cell_type": "code",
     "collapsed": false,
     "input": [],
     "language": "python",
     "metadata": {},
     "outputs": []
    }
   ],
   "metadata": {}
  }
 ]
}