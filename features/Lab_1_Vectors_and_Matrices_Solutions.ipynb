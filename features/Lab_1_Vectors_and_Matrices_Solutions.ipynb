{
  "cells": [
    {
      "cell_type": "markdown",
      "source": [
        "# Lab 1 - Vectors and Matrices\n",
        "This notebook demonstrates the use of vectors and matrices in IPython. Note that the basis is not explicit in any of these operations. You must keep track of the basis yourself (using variable names, or notes etc)."
      ],
      "metadata": {}
    },
    {
      "cell_type": "code",
      "source": [
        "from numpy import array, dot, outer, sqrt, matrix\n",
        "from numpy.linalg import eig, eigvals\n",
        "from matplotlib.pyplot import hist"
      ],
      "outputs": [],
      "execution_count": 1,
      "metadata": {
        "execution": {
          "iopub.status.busy": "2021-02-12T00:28:23.013Z",
          "iopub.execute_input": "2021-02-12T00:28:23.024Z",
          "iopub.status.idle": "2021-02-12T00:28:23.035Z",
          "shell.execute_reply": "2021-02-12T00:28:22.672Z"
        }
      }
    },
    {
      "cell_type": "code",
      "source": [
        "%matplotlib inline"
      ],
      "outputs": [],
      "execution_count": 2,
      "metadata": {
        "collapsed": true,
        "jupyter": {
          "outputs_hidden": true
        },
        "execution": {
          "iopub.status.busy": "2021-02-12T00:28:23.050Z",
          "iopub.execute_input": "2021-02-12T00:28:23.060Z",
          "iopub.status.idle": "2021-02-12T00:28:23.069Z",
          "shell.execute_reply": "2021-02-12T00:28:22.682Z"
        }
      }
    },
    {
      "cell_type": "code",
      "source": [
        "rv = array([1,2])  # a row vector\n",
        "rv"
      ],
      "outputs": [
        {
          "output_type": "execute_result",
          "execution_count": 3,
          "data": {
            "text/plain": [
              "array([1, 2])"
            ]
          },
          "metadata": {}
        }
      ],
      "execution_count": 3,
      "metadata": {
        "execution": {
          "iopub.status.busy": "2021-02-12T00:28:23.084Z",
          "iopub.execute_input": "2021-02-12T00:28:23.094Z",
          "iopub.status.idle": "2021-02-12T00:28:23.109Z",
          "shell.execute_reply": "2021-02-12T00:28:22.692Z"
        }
      }
    },
    {
      "cell_type": "code",
      "source": [
        "cv = array([[3],[4]])  # a column vector\n",
        "cv"
      ],
      "outputs": [
        {
          "output_type": "execute_result",
          "execution_count": 4,
          "data": {
            "text/plain": [
              "array([[3],\n",
              "       [4]])"
            ]
          },
          "metadata": {}
        }
      ],
      "execution_count": 4,
      "metadata": {
        "execution": {
          "iopub.status.busy": "2021-02-12T00:28:23.124Z",
          "iopub.execute_input": "2021-02-12T00:28:23.134Z",
          "iopub.status.idle": "2021-02-12T00:28:23.151Z",
          "shell.execute_reply": "2021-02-12T00:28:22.704Z"
        }
      }
    },
    {
      "cell_type": "markdown",
      "source": [
        "Two kinds of vector products we'll see: inner product (dot product) and outer product\n",
        "\n",
        "### 1) Use the function _dot(vector1, vector2)_ to find the dot product of rv and cv. Does the order of the arguments matter?"
      ],
      "metadata": {}
    },
    {
      "cell_type": "code",
      "source": [
        "dot(rv,cv)"
      ],
      "outputs": [
        {
          "output_type": "execute_result",
          "execution_count": 5,
          "data": {
            "text/plain": [
              "array([11])"
            ]
          },
          "metadata": {}
        }
      ],
      "execution_count": 5,
      "metadata": {
        "execution": {
          "iopub.status.busy": "2021-02-12T00:28:23.166Z",
          "iopub.execute_input": "2021-02-12T00:28:23.175Z",
          "iopub.status.idle": "2021-02-12T00:28:23.191Z",
          "shell.execute_reply": "2021-02-12T00:28:22.715Z"
        }
      }
    },
    {
      "cell_type": "code",
      "source": [
        "try:\n",
        "  dot(cv,rv)\n",
        "except ValueError as err:\n",
        "  print(err)"
      ],
      "outputs": [
        {
          "output_type": "stream",
          "name": "stdout",
          "text": [
            "shapes (2,1) and (2,) not aligned: 1 (dim 1) != 2 (dim 0)\n"
          ]
        }
      ],
      "execution_count": 6,
      "metadata": {
        "execution": {
          "shell.execute_reply": "2021-02-12T00:28:22.727Z",
          "iopub.status.busy": "2021-02-12T00:28:23.206Z",
          "iopub.execute_input": "2021-02-12T00:28:23.216Z",
          "iopub.status.idle": "2021-02-12T00:28:23.232Z"
        }
      }
    },
    {
      "cell_type": "markdown",
      "source": [
        "### 2) Use the function _outer(vector1, vector2)_ to find the outer product of rv and cv. Does the order of the arguments matter?"
      ],
      "metadata": {}
    },
    {
      "cell_type": "code",
      "source": [
        "outer(rv,cv)"
      ],
      "outputs": [
        {
          "output_type": "execute_result",
          "execution_count": 7,
          "data": {
            "text/plain": [
              "array([[3, 4],\n",
              "       [6, 8]])"
            ]
          },
          "metadata": {}
        }
      ],
      "execution_count": 7,
      "metadata": {
        "execution": {
          "shell.execute_reply": "2021-02-12T00:28:22.738Z",
          "iopub.status.busy": "2021-02-12T00:28:23.248Z",
          "iopub.execute_input": "2021-02-12T00:28:23.258Z",
          "iopub.status.idle": "2021-02-12T00:28:23.273Z"
        }
      }
    },
    {
      "cell_type": "code",
      "source": [
        "outer(cv,rv)"
      ],
      "outputs": [
        {
          "output_type": "execute_result",
          "execution_count": 8,
          "data": {
            "text/plain": [
              "array([[3, 6],\n",
              "       [4, 8]])"
            ]
          },
          "metadata": {}
        }
      ],
      "execution_count": 8,
      "metadata": {
        "execution": {
          "shell.execute_reply": "2021-02-12T00:28:22.749Z",
          "iopub.status.busy": "2021-02-12T00:28:23.290Z",
          "iopub.execute_input": "2021-02-12T00:28:23.300Z",
          "iopub.status.idle": "2021-02-12T00:28:23.319Z"
        }
      }
    },
    {
      "cell_type": "markdown",
      "source": [
        "## II. Complex vectors"
      ],
      "metadata": {}
    },
    {
      "cell_type": "code",
      "source": [
        "# Complex numbers in python have a j term:\n",
        "a = 1+2j"
      ],
      "outputs": [],
      "execution_count": 9,
      "metadata": {
        "execution": {
          "shell.execute_reply": "2021-02-12T00:28:22.760Z",
          "iopub.status.busy": "2021-02-12T00:28:23.337Z",
          "iopub.execute_input": "2021-02-12T00:28:23.349Z",
          "iopub.status.idle": "2021-02-12T00:28:23.360Z"
        }
      }
    },
    {
      "cell_type": "code",
      "source": [
        "v1 = array([1+2j, 3+2j, 5+1j, 4+0j])"
      ],
      "outputs": [],
      "execution_count": 10,
      "metadata": {
        "execution": {
          "shell.execute_reply": "2021-02-12T00:28:22.770Z",
          "iopub.status.busy": "2021-02-12T00:28:23.375Z",
          "iopub.execute_input": "2021-02-12T00:28:23.385Z",
          "iopub.status.idle": "2021-02-12T00:28:23.395Z"
        }
      }
    },
    {
      "cell_type": "markdown",
      "source": [
        "The complex conjugate changes the sign of the imaginary part:"
      ],
      "metadata": {}
    },
    {
      "cell_type": "code",
      "source": [
        "v1.conjugate()"
      ],
      "outputs": [
        {
          "output_type": "execute_result",
          "execution_count": 11,
          "data": {
            "text/plain": [
              "array([1.-2.j, 3.-2.j, 5.-1.j, 4.-0.j])"
            ]
          },
          "metadata": {}
        }
      ],
      "execution_count": 11,
      "metadata": {
        "execution": {
          "shell.execute_reply": "2021-02-12T00:28:22.780Z",
          "iopub.status.busy": "2021-02-12T00:28:23.410Z",
          "iopub.execute_input": "2021-02-12T00:28:23.419Z",
          "iopub.status.idle": "2021-02-12T00:28:23.437Z"
        }
      }
    },
    {
      "cell_type": "markdown",
      "source": [
        "### 3) Use _dot()_ and _.conjugate()_ to find the dot product of v1 and it's own conjugate:"
      ],
      "metadata": {}
    },
    {
      "cell_type": "code",
      "source": [
        "dot(v1.conjugate(),v1)"
      ],
      "outputs": [
        {
          "output_type": "execute_result",
          "execution_count": 12,
          "data": {
            "text/plain": [
              "(60+0j)"
            ]
          },
          "metadata": {}
        }
      ],
      "execution_count": 12,
      "metadata": {
        "execution": {
          "shell.execute_reply": "2021-02-12T00:28:22.790Z",
          "iopub.status.busy": "2021-02-12T00:28:23.453Z",
          "iopub.execute_input": "2021-02-12T00:28:23.463Z",
          "iopub.status.idle": "2021-02-12T00:28:23.480Z"
        }
      }
    },
    {
      "cell_type": "markdown",
      "source": [
        "## III. Matrices"
      ],
      "metadata": {}
    },
    {
      "cell_type": "code",
      "source": [
        "# a two-dimensional array\n",
        "m1 = array([[2,1],[2,1]])\n",
        "m1"
      ],
      "outputs": [
        {
          "output_type": "execute_result",
          "execution_count": 13,
          "data": {
            "text/plain": [
              "array([[2, 1],\n",
              "       [2, 1]])"
            ]
          },
          "metadata": {}
        }
      ],
      "execution_count": 13,
      "metadata": {
        "execution": {
          "shell.execute_reply": "2021-02-12T00:28:22.800Z",
          "iopub.status.busy": "2021-02-12T00:28:23.495Z",
          "iopub.execute_input": "2021-02-12T00:28:23.505Z",
          "iopub.status.idle": "2021-02-12T00:28:23.521Z"
        }
      }
    },
    {
      "cell_type": "code",
      "source": [
        "# can find transpose with the T method:\n",
        "m1.T"
      ],
      "outputs": [
        {
          "output_type": "execute_result",
          "execution_count": 14,
          "data": {
            "text/plain": [
              "array([[2, 2],\n",
              "       [1, 1]])"
            ]
          },
          "metadata": {}
        }
      ],
      "execution_count": 14,
      "metadata": {
        "execution": {
          "shell.execute_reply": "2021-02-12T00:28:22.811Z",
          "iopub.status.busy": "2021-02-12T00:28:23.538Z",
          "iopub.execute_input": "2021-02-12T00:28:23.548Z",
          "iopub.status.idle": "2021-02-12T00:28:23.565Z"
        }
      }
    },
    {
      "cell_type": "code",
      "source": [
        "# find the eigenvalues and eigenvectors of a matrix:\n",
        "eig(m1)"
      ],
      "outputs": [
        {
          "output_type": "execute_result",
          "execution_count": 15,
          "data": {
            "text/plain": [
              "(array([3., 0.]),\n",
              " array([[ 0.70710678, -0.4472136 ],\n",
              "        [ 0.70710678,  0.89442719]]))"
            ]
          },
          "metadata": {}
        }
      ],
      "execution_count": 15,
      "metadata": {
        "execution": {
          "shell.execute_reply": "2021-02-12T00:28:22.821Z",
          "iopub.status.busy": "2021-02-12T00:28:23.581Z",
          "iopub.execute_input": "2021-02-12T00:28:23.592Z",
          "iopub.status.idle": "2021-02-12T00:28:23.608Z"
        }
      }
    },
    {
      "cell_type": "markdown",
      "source": [
        "Can also use the `matrix` type which is like array but restricts to 2D. Also, `matrix` adds `.H` and `.I` methods for hermitian and inverse, respectively. For more information, see Stack Overflow question [#4151128](http://stackoverflow.com/questions/4151128/what-are-the-differences-between-numpy-arrays-and-matrices-which-one-should-i-u)"
      ],
      "metadata": {}
    },
    {
      "cell_type": "code",
      "source": [
        "m2 = matrix( [[2,1],[2,1]])"
      ],
      "outputs": [],
      "execution_count": 16,
      "metadata": {
        "execution": {
          "shell.execute_reply": "2021-02-12T00:28:22.831Z",
          "iopub.status.busy": "2021-02-12T00:28:23.623Z",
          "iopub.execute_input": "2021-02-12T00:28:23.633Z",
          "iopub.status.idle": "2021-02-12T00:28:23.645Z"
        }
      }
    },
    {
      "cell_type": "code",
      "source": [
        "m2.H"
      ],
      "outputs": [
        {
          "output_type": "execute_result",
          "execution_count": 17,
          "data": {
            "text/plain": [
              "matrix([[2, 2],\n",
              "        [1, 1]])"
            ]
          },
          "metadata": {}
        }
      ],
      "execution_count": 17,
      "metadata": {
        "execution": {
          "shell.execute_reply": "2021-02-12T00:28:22.841Z",
          "iopub.status.busy": "2021-02-12T00:28:23.660Z",
          "iopub.execute_input": "2021-02-12T00:28:23.670Z",
          "iopub.status.idle": "2021-02-12T00:28:23.690Z"
        }
      }
    },
    {
      "cell_type": "code",
      "source": [
        "eig(m2)"
      ],
      "outputs": [
        {
          "output_type": "execute_result",
          "execution_count": 18,
          "data": {
            "text/plain": [
              "(array([3., 0.]),\n",
              " matrix([[ 0.70710678, -0.4472136 ],\n",
              "         [ 0.70710678,  0.89442719]]))"
            ]
          },
          "metadata": {}
        }
      ],
      "execution_count": 18,
      "metadata": {
        "execution": {
          "shell.execute_reply": "2021-02-12T00:28:22.851Z",
          "iopub.status.busy": "2021-02-12T00:28:23.706Z",
          "iopub.execute_input": "2021-02-12T00:28:23.718Z",
          "iopub.status.idle": "2021-02-12T00:28:23.734Z"
        }
      }
    },
    {
      "cell_type": "code",
      "source": [
        "# use a question mark to get help on a command\n",
        "eig?"
      ],
      "outputs": [],
      "execution_count": 19,
      "metadata": {
        "execution": {
          "shell.execute_reply": "2021-02-12T00:28:22.866Z",
          "iopub.status.busy": "2021-02-12T00:28:23.749Z",
          "iopub.execute_input": "2021-02-12T00:28:23.766Z",
          "iopub.status.idle": "2021-02-12T00:28:23.784Z"
        }
      }
    },
    {
      "cell_type": "markdown",
      "source": [
        "# Examples:\n",
        "## Example 1.4\n",
        "Find the eigenvalues and eigenvectors of M = ([0,1],[-2,3]])"
      ],
      "metadata": {}
    },
    {
      "cell_type": "code",
      "source": [
        "M14 = array([[0,1],[-2,3]])"
      ],
      "outputs": [],
      "execution_count": 20,
      "metadata": {
        "execution": {
          "shell.execute_reply": "2021-02-12T00:28:22.877Z",
          "iopub.status.busy": "2021-02-12T00:28:23.806Z",
          "iopub.execute_input": "2021-02-12T00:28:23.825Z",
          "iopub.status.idle": "2021-02-12T00:28:23.849Z"
        }
      }
    },
    {
      "cell_type": "code",
      "source": [
        "eig(M14)"
      ],
      "outputs": [
        {
          "output_type": "execute_result",
          "execution_count": 21,
          "data": {
            "text/plain": [
              "(array([1., 2.]),\n",
              " array([[-0.70710678, -0.4472136 ],\n",
              "        [-0.70710678, -0.89442719]]))"
            ]
          },
          "metadata": {}
        }
      ],
      "execution_count": 21,
      "metadata": {
        "execution": {
          "shell.execute_reply": "2021-02-12T00:28:22.886Z",
          "iopub.status.busy": "2021-02-12T00:28:23.865Z",
          "iopub.execute_input": "2021-02-12T00:28:23.877Z",
          "iopub.status.idle": "2021-02-12T00:28:23.896Z"
        }
      }
    },
    {
      "cell_type": "markdown",
      "source": [
        "Interpret this result:\n",
        "the two eigenvalues are 1 and 2\n",
        "the eigenvectors are strange decimals, but we can check them against the stated solution:"
      ],
      "metadata": {}
    },
    {
      "cell_type": "code",
      "source": [
        "1/sqrt(2)  # this is the value for both entries in the first eigenvector"
      ],
      "outputs": [
        {
          "output_type": "execute_result",
          "execution_count": 22,
          "data": {
            "text/plain": [
              "0.7071067811865475"
            ]
          },
          "metadata": {}
        }
      ],
      "execution_count": 22,
      "metadata": {
        "execution": {
          "shell.execute_reply": "2021-02-12T00:28:22.895Z",
          "iopub.status.busy": "2021-02-12T00:28:23.913Z",
          "iopub.execute_input": "2021-02-12T00:28:23.923Z",
          "iopub.status.idle": "2021-02-12T00:28:23.940Z"
        }
      }
    },
    {
      "cell_type": "code",
      "source": [
        "1/sqrt(5)  # this is the first value in the second eigenvector"
      ],
      "outputs": [
        {
          "output_type": "execute_result",
          "execution_count": 23,
          "data": {
            "text/plain": [
              "0.4472135954999579"
            ]
          },
          "metadata": {}
        }
      ],
      "execution_count": 23,
      "metadata": {
        "execution": {
          "shell.execute_reply": "2021-02-12T00:28:22.904Z",
          "iopub.status.busy": "2021-02-12T00:28:23.958Z",
          "iopub.execute_input": "2021-02-12T00:28:23.969Z",
          "iopub.status.idle": "2021-02-12T00:28:23.986Z"
        }
      }
    },
    {
      "cell_type": "code",
      "source": [
        "2/sqrt(5)  # this is the second value in the second eigenvector"
      ],
      "outputs": [
        {
          "output_type": "execute_result",
          "execution_count": 24,
          "data": {
            "text/plain": [
              "0.8944271909999159"
            ]
          },
          "metadata": {}
        }
      ],
      "execution_count": 24,
      "metadata": {
        "execution": {
          "shell.execute_reply": "2021-02-12T00:28:22.915Z",
          "iopub.status.busy": "2021-02-12T00:28:24.001Z",
          "iopub.execute_input": "2021-02-12T00:28:24.013Z",
          "iopub.status.idle": "2021-02-12T00:28:24.030Z"
        }
      }
    },
    {
      "cell_type": "code",
      "source": [
        "eigvals(M14)"
      ],
      "outputs": [
        {
          "output_type": "execute_result",
          "execution_count": 25,
          "data": {
            "text/plain": [
              "array([1., 2.])"
            ]
          },
          "metadata": {}
        }
      ],
      "execution_count": 25,
      "metadata": {
        "execution": {
          "shell.execute_reply": "2021-02-12T00:28:22.925Z",
          "iopub.status.busy": "2021-02-12T00:28:24.046Z",
          "iopub.execute_input": "2021-02-12T00:28:24.056Z",
          "iopub.status.idle": "2021-02-12T00:28:24.074Z"
        }
      }
    },
    {
      "cell_type": "markdown",
      "source": [
        "Signs are opposite compared to the book, but it turns out that (-) doesn't matter in the interpretation of eigenvectors: only \"direction\" matters (the relative size of the entries)."
      ],
      "metadata": {}
    },
    {
      "cell_type": "markdown",
      "source": [
        "## Example: Problem 1.16 using Ipython functions"
      ],
      "metadata": {}
    },
    {
      "cell_type": "code",
      "source": [
        "M16 = array([[0,-1j],[1j,0]])"
      ],
      "outputs": [],
      "execution_count": 26,
      "metadata": {
        "execution": {
          "shell.execute_reply": "2021-02-12T00:28:22.935Z",
          "iopub.status.busy": "2021-02-12T00:28:24.088Z",
          "iopub.execute_input": "2021-02-12T00:28:24.098Z",
          "iopub.status.idle": "2021-02-12T00:28:24.110Z"
        }
      }
    },
    {
      "cell_type": "code",
      "source": [
        "evals, evecs = eig(M16)"
      ],
      "outputs": [],
      "execution_count": 27,
      "metadata": {
        "execution": {
          "shell.execute_reply": "2021-02-12T00:28:22.946Z",
          "iopub.status.busy": "2021-02-12T00:28:24.127Z",
          "iopub.execute_input": "2021-02-12T00:28:24.137Z",
          "iopub.status.idle": "2021-02-12T00:28:24.148Z"
        }
      }
    },
    {
      "cell_type": "code",
      "source": [
        "evecs"
      ],
      "outputs": [
        {
          "output_type": "execute_result",
          "execution_count": 28,
          "data": {
            "text/plain": [
              "array([[-0.        -0.70710678j,  0.70710678+0.j        ],\n",
              "       [ 0.70710678+0.j        ,  0.        -0.70710678j]])"
            ]
          },
          "metadata": {}
        }
      ],
      "execution_count": 28,
      "metadata": {
        "execution": {
          "shell.execute_reply": "2021-02-12T00:28:22.955Z",
          "iopub.status.busy": "2021-02-12T00:28:24.163Z",
          "iopub.execute_input": "2021-02-12T00:28:24.174Z",
          "iopub.status.idle": "2021-02-12T00:28:24.189Z"
        }
      }
    },
    {
      "cell_type": "code",
      "source": [
        "evecs[:,0]"
      ],
      "outputs": [
        {
          "output_type": "execute_result",
          "execution_count": 29,
          "data": {
            "text/plain": [
              "array([-0.        -0.70710678j,  0.70710678+0.j        ])"
            ]
          },
          "metadata": {}
        }
      ],
      "execution_count": 29,
      "metadata": {
        "execution": {
          "shell.execute_reply": "2021-02-12T00:28:22.965Z",
          "iopub.status.busy": "2021-02-12T00:28:24.203Z",
          "iopub.execute_input": "2021-02-12T00:28:24.213Z",
          "iopub.status.idle": "2021-02-12T00:28:24.230Z"
        }
      }
    },
    {
      "cell_type": "code",
      "source": [
        "evecs[:,1]"
      ],
      "outputs": [
        {
          "output_type": "execute_result",
          "execution_count": 30,
          "data": {
            "text/plain": [
              "array([0.70710678+0.j        , 0.        -0.70710678j])"
            ]
          },
          "metadata": {}
        }
      ],
      "execution_count": 30,
      "metadata": {
        "execution": {
          "shell.execute_reply": "2021-02-12T00:28:22.974Z",
          "iopub.status.busy": "2021-02-12T00:28:24.246Z",
          "iopub.execute_input": "2021-02-12T00:28:24.256Z",
          "iopub.status.idle": "2021-02-12T00:28:24.274Z"
        }
      }
    },
    {
      "cell_type": "code",
      "source": [
        "dot(evecs[:,0].conjugate(),evecs[:,1])"
      ],
      "outputs": [
        {
          "output_type": "execute_result",
          "execution_count": 31,
          "data": {
            "text/plain": [
              "-1.6653345369377348e-16j"
            ]
          },
          "metadata": {}
        }
      ],
      "execution_count": 31,
      "metadata": {
        "execution": {
          "shell.execute_reply": "2021-02-12T00:28:22.983Z",
          "iopub.status.busy": "2021-02-12T00:28:24.290Z",
          "iopub.execute_input": "2021-02-12T00:28:24.301Z",
          "iopub.status.idle": "2021-02-12T00:28:24.319Z"
        }
      }
    },
    {
      "cell_type": "markdown",
      "source": [
        "# Part 2: Using QuTiP\n",
        "Keeping track of row and column vectors in Ipython is somewhat artificial and tedious. The QuTiP library is designed to take care of many of these headaches"
      ],
      "metadata": {}
    },
    {
      "cell_type": "code",
      "source": [
        "from qutip import *"
      ],
      "outputs": [],
      "execution_count": 32,
      "metadata": {
        "execution": {
          "iopub.status.busy": "2021-02-12T00:28:24.335Z",
          "iopub.execute_input": "2021-02-12T00:28:24.346Z",
          "iopub.status.idle": "2021-02-12T00:28:24.362Z",
          "shell.execute_reply": "2021-02-12T00:28:25.174Z"
        }
      }
    },
    {
      "cell_type": "code",
      "source": [
        "# Create a row vector:\n",
        "qv = Qobj([[1,2]])\n",
        "qv"
      ],
      "outputs": [
        {
          "output_type": "execute_result",
          "execution_count": 33,
          "data": {
            "text/plain": [
              "Quantum object: dims = [[1], [2]], shape = (1, 2), type = bra\n",
              "Qobj data =\n",
              "[[1. 2.]]"
            ],
            "text/latex": [
              "Quantum object: dims = [[1], [2]], shape = (1, 2), type = bra\\begin{equation*}\\left(\\begin{array}{*{11}c}1.0 & 2.0\\\\\\end{array}\\right)\\end{equation*}"
            ]
          },
          "metadata": {}
        }
      ],
      "execution_count": 33,
      "metadata": {
        "execution": {
          "iopub.status.busy": "2021-02-12T00:28:24.378Z",
          "iopub.execute_input": "2021-02-12T00:28:24.390Z",
          "iopub.status.idle": "2021-02-12T00:28:24.424Z",
          "shell.execute_reply": "2021-02-12T00:28:25.194Z"
        }
      }
    },
    {
      "cell_type": "code",
      "source": [
        "# Find the corresponding column vector\n",
        "qv.dag()"
      ],
      "outputs": [
        {
          "output_type": "execute_result",
          "execution_count": 34,
          "data": {
            "text/plain": [
              "Quantum object: dims = [[2], [1]], shape = (2, 1), type = ket\n",
              "Qobj data =\n",
              "[[1.]\n",
              " [2.]]"
            ],
            "text/latex": [
              "Quantum object: dims = [[2], [1]], shape = (2, 1), type = ket\\begin{equation*}\\left(\\begin{array}{*{11}c}1.0\\\\2.0\\\\\\end{array}\\right)\\end{equation*}"
            ]
          },
          "metadata": {}
        }
      ],
      "execution_count": 34,
      "metadata": {
        "execution": {
          "iopub.status.busy": "2021-02-12T00:28:24.440Z",
          "iopub.execute_input": "2021-02-12T00:28:24.450Z",
          "iopub.status.idle": "2021-02-12T00:28:24.474Z",
          "shell.execute_reply": "2021-02-12T00:28:25.210Z"
        }
      }
    },
    {
      "cell_type": "code",
      "source": [
        "qv2 = Qobj([[1+2j,4-1j]])\n",
        "qv2"
      ],
      "outputs": [
        {
          "output_type": "execute_result",
          "execution_count": 35,
          "data": {
            "text/plain": [
              "Quantum object: dims = [[1], [2]], shape = (1, 2), type = bra\n",
              "Qobj data =\n",
              "[[1.+2.j 4.-1.j]]"
            ],
            "text/latex": [
              "Quantum object: dims = [[1], [2]], shape = (1, 2), type = bra\\begin{equation*}\\left(\\begin{array}{*{11}c}(1.0+2.0j) & (4.0-1.0j)\\\\\\end{array}\\right)\\end{equation*}"
            ]
          },
          "metadata": {}
        }
      ],
      "execution_count": 35,
      "metadata": {
        "execution": {
          "iopub.status.busy": "2021-02-12T00:28:24.489Z",
          "iopub.execute_input": "2021-02-12T00:28:24.499Z",
          "iopub.status.idle": "2021-02-12T00:28:24.526Z",
          "shell.execute_reply": "2021-02-12T00:28:25.220Z"
        }
      }
    },
    {
      "cell_type": "code",
      "source": [
        "qv2.dag()"
      ],
      "outputs": [
        {
          "output_type": "execute_result",
          "execution_count": 36,
          "data": {
            "text/plain": [
              "Quantum object: dims = [[2], [1]], shape = (2, 1), type = ket\n",
              "Qobj data =\n",
              "[[1.-2.j]\n",
              " [4.+1.j]]"
            ],
            "text/latex": [
              "Quantum object: dims = [[2], [1]], shape = (2, 1), type = ket\\begin{equation*}\\left(\\begin{array}{*{11}c}(1.0-2.0j)\\\\(4.0+1.0j)\\\\\\end{array}\\right)\\end{equation*}"
            ]
          },
          "metadata": {}
        }
      ],
      "execution_count": 36,
      "metadata": {
        "execution": {
          "iopub.status.busy": "2021-02-12T00:28:24.542Z",
          "iopub.execute_input": "2021-02-12T00:28:24.553Z",
          "iopub.status.idle": "2021-02-12T00:28:24.579Z",
          "shell.execute_reply": "2021-02-12T00:28:25.229Z"
        }
      }
    },
    {
      "cell_type": "markdown",
      "source": [
        "## Vector products in QuTiP\n",
        "Only need to know one operator: \"\\*\"\n",
        "The product will depend on the order, either inner or outer"
      ],
      "metadata": {}
    },
    {
      "cell_type": "code",
      "source": [
        "qv2*qv2.dag()  # inner product (dot product)"
      ],
      "outputs": [
        {
          "output_type": "execute_result",
          "execution_count": 37,
          "data": {
            "text/plain": [
              "Quantum object: dims = [[1], [1]], shape = (1, 1), type = bra\n",
              "Qobj data =\n",
              "[[22.]]"
            ],
            "text/latex": [
              "Quantum object: dims = [[1], [1]], shape = (1, 1), type = bra\\begin{equation*}\\left(\\begin{array}{*{11}c}22.0\\\\\\end{array}\\right)\\end{equation*}"
            ]
          },
          "metadata": {}
        }
      ],
      "execution_count": 37,
      "metadata": {
        "execution": {
          "iopub.status.busy": "2021-02-12T00:28:24.595Z",
          "iopub.execute_input": "2021-02-12T00:28:24.605Z",
          "iopub.status.idle": "2021-02-12T00:28:24.630Z",
          "shell.execute_reply": "2021-02-12T00:28:25.238Z"
        }
      }
    },
    {
      "cell_type": "code",
      "source": [
        "qv2.dag()*qv2  # outer product"
      ],
      "outputs": [
        {
          "output_type": "execute_result",
          "execution_count": 38,
          "data": {
            "text/plain": [
              "Quantum object: dims = [[2], [2]], shape = (2, 2), type = oper, isherm = True\n",
              "Qobj data =\n",
              "[[ 5.+0.j  2.-9.j]\n",
              " [ 2.+9.j 17.+0.j]]"
            ],
            "text/latex": [
              "Quantum object: dims = [[2], [2]], shape = (2, 2), type = oper, isherm = True\\begin{equation*}\\left(\\begin{array}{*{11}c}5.0 & (2.0-9.0j)\\\\(2.0+9.0j) & 17.0\\\\\\end{array}\\right)\\end{equation*}"
            ]
          },
          "metadata": {}
        }
      ],
      "execution_count": 38,
      "metadata": {
        "execution": {
          "iopub.status.busy": "2021-02-12T00:28:24.646Z",
          "iopub.execute_input": "2021-02-12T00:28:24.658Z",
          "iopub.status.idle": "2021-02-12T00:28:24.686Z",
          "shell.execute_reply": "2021-02-12T00:28:25.247Z"
        }
      }
    },
    {
      "cell_type": "markdown",
      "source": [
        "## Matrix in QuTiP"
      ],
      "metadata": {}
    },
    {
      "cell_type": "code",
      "source": [
        "qm = Qobj([[1,2],[2,1]])\n",
        "qm"
      ],
      "outputs": [
        {
          "output_type": "execute_result",
          "execution_count": 39,
          "data": {
            "text/plain": [
              "Quantum object: dims = [[2], [2]], shape = (2, 2), type = oper, isherm = True\n",
              "Qobj data =\n",
              "[[1. 2.]\n",
              " [2. 1.]]"
            ],
            "text/latex": [
              "Quantum object: dims = [[2], [2]], shape = (2, 2), type = oper, isherm = True\\begin{equation*}\\left(\\begin{array}{*{11}c}1.0 & 2.0\\\\2.0 & 1.0\\\\\\end{array}\\right)\\end{equation*}"
            ]
          },
          "metadata": {}
        }
      ],
      "execution_count": 39,
      "metadata": {
        "execution": {
          "iopub.status.busy": "2021-02-12T00:28:24.703Z",
          "iopub.execute_input": "2021-02-12T00:28:24.713Z",
          "iopub.status.idle": "2021-02-12T00:28:24.740Z",
          "shell.execute_reply": "2021-02-12T00:28:25.257Z"
        }
      }
    },
    {
      "cell_type": "code",
      "source": [
        "qm.eigenenergies()  # in quantum (as we will learn) eigenvalues often correspond to energy levels"
      ],
      "outputs": [
        {
          "output_type": "execute_result",
          "execution_count": 40,
          "data": {
            "text/plain": [
              "array([-1.,  3.])"
            ]
          },
          "metadata": {}
        }
      ],
      "execution_count": 40,
      "metadata": {
        "execution": {
          "iopub.status.busy": "2021-02-12T00:28:24.756Z",
          "iopub.execute_input": "2021-02-12T00:28:24.767Z",
          "iopub.status.idle": "2021-02-12T00:28:24.788Z",
          "shell.execute_reply": "2021-02-12T00:28:25.273Z"
        }
      }
    },
    {
      "cell_type": "code",
      "source": [
        "evals, evecs = qm.eigenstates()"
      ],
      "outputs": [],
      "execution_count": 41,
      "metadata": {
        "execution": {
          "iopub.status.busy": "2021-02-12T00:28:24.805Z",
          "iopub.execute_input": "2021-02-12T00:28:24.816Z",
          "iopub.status.idle": "2021-02-12T00:28:24.834Z",
          "shell.execute_reply": "2021-02-12T00:28:25.278Z"
        }
      }
    },
    {
      "cell_type": "code",
      "source": [
        "evecs"
      ],
      "outputs": [
        {
          "output_type": "execute_result",
          "execution_count": 42,
          "data": {
            "text/plain": [
              "array([Quantum object: dims = [[2], [1]], shape = (2, 1), type = ket\n",
              "Qobj data =\n",
              "[[-0.70710678]\n",
              " [ 0.70710678]],\n",
              "       Quantum object: dims = [[2], [1]], shape = (2, 1), type = ket\n",
              "Qobj data =\n",
              "[[0.70710678]\n",
              " [0.70710678]]], dtype=object)"
            ]
          },
          "metadata": {}
        }
      ],
      "execution_count": 42,
      "metadata": {
        "execution": {
          "iopub.status.busy": "2021-02-12T00:28:24.852Z",
          "iopub.execute_input": "2021-02-12T00:28:24.863Z",
          "iopub.status.idle": "2021-02-12T00:28:24.883Z",
          "shell.execute_reply": "2021-02-12T00:28:25.283Z"
        }
      }
    },
    {
      "cell_type": "code",
      "source": [
        "evecs[0]"
      ],
      "outputs": [
        {
          "output_type": "execute_result",
          "execution_count": 43,
          "data": {
            "text/plain": [
              "Quantum object: dims = [[2], [1]], shape = (2, 1), type = ket\n",
              "Qobj data =\n",
              "[[-0.70710678]\n",
              " [ 0.70710678]]"
            ],
            "text/latex": [
              "Quantum object: dims = [[2], [1]], shape = (2, 1), type = ket\\begin{equation*}\\left(\\begin{array}{*{11}c}-0.707\\\\0.707\\\\\\end{array}\\right)\\end{equation*}"
            ]
          },
          "metadata": {}
        }
      ],
      "execution_count": 43,
      "metadata": {
        "execution": {
          "iopub.status.busy": "2021-02-12T00:28:24.899Z",
          "iopub.execute_input": "2021-02-12T00:28:24.912Z",
          "iopub.status.idle": "2021-02-12T00:28:24.944Z",
          "shell.execute_reply": "2021-02-12T00:28:25.288Z"
        }
      }
    },
    {
      "cell_type": "markdown",
      "source": [
        "# Practice:"
      ],
      "metadata": {}
    },
    {
      "cell_type": "markdown",
      "source": [
        "## Problem 1.2 using the _hist()_ function."
      ],
      "metadata": {}
    },
    {
      "cell_type": "code",
      "source": [
        "# Solution\n",
        "n, bins, patches = hist([10,13,14,14,6,8,7,9,12,14,13,11,10,7,7],bins=5,range=(5,14))"
      ],
      "outputs": [
        {
          "output_type": "display_data",
          "data": {
            "text/plain": [
              "<Figure size 432x288 with 1 Axes>"
            ],
            "image/png": "[encoded data removed]"
          },
          "metadata": {
            "needs_background": "light"
          }
        }
      ],
      "execution_count": 44,
      "metadata": {
        "execution": {
          "iopub.status.busy": "2021-02-12T00:28:24.961Z",
          "iopub.execute_input": "2021-02-12T00:28:24.973Z",
          "iopub.status.idle": "2021-02-12T00:28:25.001Z",
          "shell.execute_reply": "2021-02-12T00:28:25.293Z"
        }
      }
    },
    {
      "cell_type": "code",
      "source": [
        "# Solution\n",
        "n"
      ],
      "outputs": [
        {
          "output_type": "execute_result",
          "execution_count": 45,
          "data": {
            "text/plain": [
              "array([1., 4., 3., 2., 5.])"
            ]
          },
          "metadata": {}
        }
      ],
      "execution_count": 45,
      "metadata": {
        "execution": {
          "iopub.status.busy": "2021-02-12T00:28:25.019Z",
          "iopub.execute_input": "2021-02-12T00:28:25.029Z",
          "iopub.status.idle": "2021-02-12T00:28:25.050Z",
          "shell.execute_reply": "2021-02-12T00:28:25.298Z"
        }
      }
    },
    {
      "cell_type": "code",
      "source": [
        "# Solution\n",
        "pvals = n/n.sum()"
      ],
      "outputs": [],
      "execution_count": 46,
      "metadata": {
        "execution": {
          "iopub.status.busy": "2021-02-12T00:28:25.067Z",
          "iopub.execute_input": "2021-02-12T00:28:25.078Z",
          "iopub.status.idle": "2021-02-12T00:28:25.096Z",
          "shell.execute_reply": "2021-02-12T00:28:25.305Z"
        }
      }
    },
    {
      "cell_type": "markdown",
      "source": [
        "## Problem 1.8\n",
        "**Hint:** using sympy, we can calculate the relevant integral. The conds='none' asks the solver to ignore any strange conditions on the variables in the integral. This is fine for most of our integrals. Usually the variables are real and well-behaved numbers."
      ],
      "metadata": {}
    },
    {
      "cell_type": "code",
      "source": [
        "# Solution\n",
        "from sympy import *\n",
        "c,a,x = symbols(\"c a x\")\n",
        "Q.positive((c,a))\n",
        "first = integrate(c*exp(-a*x),(x,0,oo),conds='none')\n",
        "print(\"first = \",first)\n",
        "second = integrate(a*exp(-a*x),(x,0,oo),conds='none')\n",
        "print(\"second = \",second)"
      ],
      "outputs": [
        {
          "output_type": "stream",
          "name": "stdout",
          "text": [
            "first =  c/a\n",
            "second =  1\n"
          ]
        }
      ],
      "execution_count": 47,
      "metadata": {
        "execution": {
          "iopub.status.busy": "2021-02-12T00:28:25.111Z",
          "iopub.execute_input": "2021-02-12T00:28:25.120Z",
          "shell.execute_reply": "2021-02-12T00:28:25.310Z",
          "iopub.status.idle": "2021-02-12T00:28:25.359Z"
        }
      }
    }
  ],
  "metadata": {
    "kernelspec": {
      "display_name": "Python 3",
      "language": "python",
      "name": "python3"
    },
    "language_info": {
      "name": "python",
      "version": "3.7.9",
      "mimetype": "text/x-python",
      "codemirror_mode": {
        "name": "ipython",
        "version": 3
      },
      "pygments_lexer": "ipython3",
      "nbconvert_exporter": "python",
      "file_extension": ".py"
    },
    "nteract": {
      "version": "0.23.3"
    }
  },
  "nbformat": 4,
  "nbformat_minor": 4
}