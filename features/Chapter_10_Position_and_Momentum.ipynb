{
 "cells": [
  {
   "cell_type": "markdown",
   "metadata": {},
   "source": [
    "# Chapter 10: Position and Momentum\n",
    "We can start using sympy to handle symbolic math (integrals and other calculus):"
   ]
  },
  {
   "cell_type": "code",
   "execution_count": 1,
   "metadata": {},
   "outputs": [],
   "source": [
    "from sympy import *"
   ]
  },
  {
   "cell_type": "code",
   "execution_count": 2,
   "metadata": {},
   "outputs": [],
   "source": [
    "init_printing(use_unicode=True)"
   ]
  },
  {
   "cell_type": "code",
   "execution_count": 3,
   "metadata": {},
   "outputs": [],
   "source": [
    "x, y, z = symbols('x y z', real=True)\n",
    "a, c = symbols('a c', nonzero=True, real=True)"
   ]
  },
  {
   "cell_type": "markdown",
   "metadata": {},
   "source": [
    "There are two ways to use the `integrate` function. In one line, like `integrate(x,(x,0,1))` or by naming an expression and then integrating it over a range:\n",
    "\n",
    "```\n",
    "A = (c*cos((pi*x)/(2.0*a)))**2\n",
    "A.integrate((x,-a,a),conds='none')\n",
    "```\n",
    "\n",
    "We'll use both, at different times. For longer expressions, the second form can be easier to read and write.\n",
    "\n",
    "First, just try the following, then we'll re-create some examples in the book."
   ]
  },
  {
   "cell_type": "code",
   "execution_count": 5,
   "metadata": {},
   "outputs": [
    {
     "data": {
      "image/png": "[encoded data removed]",
      "text/latex": [
       "$\\displaystyle \\frac{1}{2}$"
      ],
      "text/plain": [
       "1/2"
      ]
     },
     "execution_count": 5,
     "metadata": {},
     "output_type": "execute_result"
    }
   ],
   "source": [
    "integrate(x,(x,0,1))"
   ]
  },
  {
   "cell_type": "code",
   "execution_count": 6,
   "metadata": {},
   "outputs": [
    {
     "data": {
      "image/png": "[encoded data removed]",
      "text/latex": [
       "$\\displaystyle \\frac{1}{3}$"
      ],
      "text/plain": [
       "1/3"
      ]
     },
     "execution_count": 6,
     "metadata": {},
     "output_type": "execute_result"
    }
   ],
   "source": [
    "integrate(x**2,(x,0,1))"
   ]
  },
  {
   "cell_type": "markdown",
   "metadata": {},
   "source": [
    "The cell below will return an odd set of conditions on the result. This is because the solver doesn't want to assume anything about `a` and there is a special case where the answer would be different. If you look closely though, that special case isn't physically realistic so to igore these special conditions, we add `conds='none'`. The next cell down does what you'd expect. From here on out, just add this to the `integrate` function and we'll get what we expect."
   ]
  },
  {
   "cell_type": "code",
   "execution_count": 7,
   "metadata": {},
   "outputs": [
    {
     "data": {
      "image/png": "[encoded data removed]",
      "text/latex": [
       "$\\displaystyle a c^{2}$"
      ],
      "text/plain": [
       "   2\n",
       "a⋅c "
      ]
     },
     "execution_count": 7,
     "metadata": {},
     "output_type": "execute_result"
    }
   ],
   "source": [
    "A = (c*cos((pi*x)/(2.0*a)))**2\n",
    "A.integrate((x,-a,a))"
   ]
  },
  {
   "cell_type": "code",
   "execution_count": 8,
   "metadata": {},
   "outputs": [
    {
     "data": {
      "image/png": "[encoded data removed]",
      "text/latex": [
       "$\\displaystyle a c^{2}$"
      ],
      "text/plain": [
       "   2\n",
       "a⋅c "
      ]
     },
     "execution_count": 8,
     "metadata": {},
     "output_type": "execute_result"
    }
   ],
   "source": [
    "A = (c*cos((pi*x)/(2.0*a)))**2\n",
    "A.integrate((x,-a,a), conds='none')"
   ]
  },
  {
   "cell_type": "markdown",
   "metadata": {},
   "source": [
    "So this tells us the normalization constant should be $c=\\frac{1}{\\sqrt{a}}$. Check that it is normalized if we do that:"
   ]
  },
  {
   "cell_type": "code",
   "execution_count": 9,
   "metadata": {},
   "outputs": [
    {
     "data": {
      "image/png": "[encoded data removed]",
      "text/latex": [
       "$\\displaystyle 1$"
      ],
      "text/plain": [
       "1"
      ]
     },
     "execution_count": 9,
     "metadata": {},
     "output_type": "execute_result"
    }
   ],
   "source": [
    "psi = 1/sqrt(a)*cos((pi*x)/(2.0*a))  # notice we can name the expression something useful.\n",
    "B = psi**2\n",
    "B.integrate( (x,-a,a), conds='none')"
   ]
  },
  {
   "cell_type": "markdown",
   "metadata": {},
   "source": [
    "Because `psi` is a real function, we can calculate expectation values by integrating over $x$ or $x^2$ with `psi**2`:"
   ]
  },
  {
   "cell_type": "code",
   "execution_count": 10,
   "metadata": {},
   "outputs": [
    {
     "data": {
      "image/png": "[encoded data removed]",
      "text/latex": [
       "$\\displaystyle 0$"
      ],
      "text/plain": [
       "0"
      ]
     },
     "execution_count": 10,
     "metadata": {},
     "output_type": "execute_result"
    }
   ],
   "source": [
    "C = x*psi**2\n",
    "C.integrate( (x,-a,a), conds='none')"
   ]
  },
  {
   "cell_type": "code",
   "execution_count": 11,
   "metadata": {},
   "outputs": [],
   "source": [
    "D = x**2 * psi**2\n",
    "E = D.integrate( (x,-a,a), conds='none')"
   ]
  },
  {
   "cell_type": "code",
   "execution_count": 12,
   "metadata": {},
   "outputs": [
    {
     "data": {
      "image/png": "[encoded data removed]",
      "text/latex": [
       "$\\displaystyle 0.130690966048658 a^{2}$"
      ],
      "text/plain": [
       "                   2\n",
       "0.130690966048658⋅a "
      ]
     },
     "execution_count": 12,
     "metadata": {},
     "output_type": "execute_result"
    }
   ],
   "source": [
    "E.n()  # the .n() method approximates the numerical part. You can look at the full expression below."
   ]
  },
  {
   "cell_type": "code",
   "execution_count": 13,
   "metadata": {},
   "outputs": [
    {
     "data": {
      "image/png": "[encoded data removed]",
      "text/latex": [
       "$\\displaystyle - \\frac{- \\frac{a^{3}}{6} + \\frac{a^{3}}{\\pi^{2}}}{a} + \\frac{- \\frac{a^{3}}{\\pi^{2}} + \\frac{a^{3}}{6}}{a}$"
      ],
      "text/plain": [
       "     3    3      3    3\n",
       "    a    a      a    a \n",
       "  - ── + ──   - ── + ──\n",
       "    6     2      2   6 \n",
       "         π      π      \n",
       "- ───────── + ─────────\n",
       "      a           a    "
      ]
     },
     "execution_count": 13,
     "metadata": {},
     "output_type": "execute_result"
    }
   ],
   "source": [
    "E"
   ]
  },
  {
   "cell_type": "markdown",
   "metadata": {},
   "source": [
    "## Example 10.2"
   ]
  },
  {
   "cell_type": "code",
   "execution_count": 14,
   "metadata": {},
   "outputs": [],
   "source": [
    "h = Symbol('hbar', real=True)"
   ]
  },
  {
   "cell_type": "markdown",
   "metadata": {},
   "source": [
    "Use the `diff` function to take a derivative of a symbolic expression. For example:"
   ]
  },
  {
   "cell_type": "code",
   "execution_count": 15,
   "metadata": {},
   "outputs": [
    {
     "data": {
      "image/png": "[encoded data removed]",
      "text/latex": [
       "$\\displaystyle 2 x$"
      ],
      "text/plain": [
       "2⋅x"
      ]
     },
     "execution_count": 15,
     "metadata": {},
     "output_type": "execute_result"
    }
   ],
   "source": [
    "diff(x**2, x)"
   ]
  },
  {
   "cell_type": "code",
   "execution_count": 16,
   "metadata": {},
   "outputs": [
    {
     "data": {
      "image/png": "[encoded data removed]",
      "text/latex": [
       "$\\displaystyle \\frac{0.5 i \\pi \\hbar \\sin{\\left(\\frac{\\pi x}{2 a} \\right)}}{a^{2}}$"
      ],
      "text/plain": [
       "             ⎛π⋅x⎞\n",
       "0.5⋅ⅈ⋅π⋅h̅⋅sin⎜───⎟\n",
       "             ⎝2⋅a⎠\n",
       "──────────────────\n",
       "         2        \n",
       "        a         "
      ]
     },
     "execution_count": 16,
     "metadata": {},
     "output_type": "execute_result"
    }
   ],
   "source": [
    "# Solution\n",
    "-1j*h*diff( 1/a*cos((pi*x)/(2*a)) ,x)"
   ]
  },
  {
   "cell_type": "code",
   "execution_count": 17,
   "metadata": {},
   "outputs": [
    {
     "data": {
      "image/png": "[encoded data removed]",
      "text/latex": [
       "$\\displaystyle \\frac{\\pi^{2} \\hbar^{2}}{4 a}$"
      ],
      "text/plain": [
       " 2  2\n",
       "π ⋅h̅ \n",
       "─────\n",
       " 4⋅a "
      ]
     },
     "execution_count": 17,
     "metadata": {},
     "output_type": "execute_result"
    }
   ],
   "source": [
    "# Solution\n",
    "B1 = (pi*h/(2*a))**2 * (cos((pi*x)/(2*a)))**2\n",
    "B1.integrate( (x,-a,a), conds='none' )"
   ]
  },
  {
   "cell_type": "markdown",
   "metadata": {},
   "source": [
    "## Example 10.3"
   ]
  },
  {
   "cell_type": "code",
   "execution_count": 18,
   "metadata": {},
   "outputs": [],
   "source": [
    "p = Symbol('p', real=True) "
   ]
  },
  {
   "cell_type": "code",
   "execution_count": 19,
   "metadata": {},
   "outputs": [],
   "source": [
    "# Solution\n",
    "A = integrate(1/sqrt(2*pi*a*h)*exp(-I*p*x/h)*cos((pi*x)/(2*a)),(x,-a,a), conds='none')"
   ]
  },
  {
   "cell_type": "code",
   "execution_count": 20,
   "metadata": {},
   "outputs": [
    {
     "data": {
      "image/png": "[encoded data removed]",
      "text/latex": [
       "$\\displaystyle - \\frac{\\sqrt{2} \\sqrt{\\pi} a \\hbar^{2}}{\\sqrt{a \\hbar} \\left(4 a^{2} p^{2} e^{\\frac{i a p}{\\hbar}} - \\pi^{2} \\hbar^{2} e^{\\frac{i a p}{\\hbar}}\\right)} - \\frac{\\sqrt{2} \\sqrt{\\pi} a \\hbar^{2}}{\\sqrt{a \\hbar} \\left(4 a^{2} p^{2} e^{- \\frac{i a p}{\\hbar}} - \\pi^{2} \\hbar^{2} e^{- \\frac{i a p}{\\hbar}}\\right)}$"
      ],
      "text/plain": [
       "                          2                                           2       \n",
       "                √2⋅√π⋅a⋅h̅                                  √2⋅√π⋅a⋅h̅        \n",
       "- ─────────────────────────────────────── - ──────────────────────────────────\n",
       "          ⎛         ⅈ⋅a⋅p          ⅈ⋅a⋅p⎞           ⎛         -ⅈ⋅a⋅p          \n",
       "          ⎜         ─────          ─────⎟           ⎜         ───────         \n",
       "    _____ ⎜   2  2    h̅     2  2    h̅ ⎟     _____ ⎜   2  2     h̅      2  2 \n",
       "  ╲╱ a⋅h̅⋅⎝4⋅a ⋅p ⋅ℯ      - π ⋅h̅ ⋅ℯ     ⎠   ╲╱ a⋅h̅⋅⎝4⋅a ⋅p ⋅ℯ        - π ⋅h̅\n",
       "\n",
       "         \n",
       "         \n",
       "─────────\n",
       " -ⅈ⋅a⋅p ⎞\n",
       " ───────⎟\n",
       "    h̅  ⎟\n",
       " ⋅ℯ       ⎠"
      ]
     },
     "execution_count": 20,
     "metadata": {},
     "output_type": "execute_result"
    }
   ],
   "source": [
    "# Solution\n",
    "A"
   ]
  },
  {
   "cell_type": "code",
   "execution_count": 21,
   "metadata": {},
   "outputs": [],
   "source": [
    "psi_p = sqrt(2*a*pi/h) * 2/(pi**2 - (2*p*a/h)**2) * cos(p*a/h)"
   ]
  },
  {
   "cell_type": "markdown",
   "metadata": {},
   "source": [
    "This is as far as we can go in sympy. Unfortunately, any other momentum integrals choke. Off to sage math and the maxima algebra engine that runs it."
   ]
  },
  {
   "cell_type": "code",
   "execution_count": null,
   "metadata": {},
   "outputs": [],
   "source": []
  }
 ],
 "metadata": {
  "kernelspec": {
   "display_name": "Python 3",
   "language": "python",
   "name": "python3"
  },
  "language_info": {
   "codemirror_mode": {
    "name": "ipython",
    "version": 3
   },
   "file_extension": ".py",
   "mimetype": "text/x-python",
   "name": "python",
   "nbconvert_exporter": "python",
   "pygments_lexer": "ipython3",
   "version": "3.7.10"
  }
 },
 "nbformat": 4,
 "nbformat_minor": 4
}
