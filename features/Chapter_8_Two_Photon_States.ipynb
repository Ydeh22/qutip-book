{
  "cells": [
    {
      "cell_type": "markdown",
      "source": [
        "# Chapter 8 - Two-photon States"
      ],
      "metadata": {
        "nteract": {
          "transient": {
            "deleting": false
          }
        }
      }
    },
    {
      "cell_type": "code",
      "source": [
        "from qutip import *\n",
        "from numpy import sqrt"
      ],
      "outputs": [],
      "execution_count": 1,
      "metadata": {}
    },
    {
      "cell_type": "code",
      "source": [
        "H = basis(2,0)\n",
        "V = basis(2,1)\n",
        "p45 = 1/sqrt(2)*(H + V)\n",
        "m45 = 1/sqrt(2)*(H - V)\n",
        "R = 1/sqrt(2)*(H - 1j*V)\n",
        "L = 1/sqrt(2)*(H + 1j*V)"
      ],
      "outputs": [],
      "execution_count": 2,
      "metadata": {}
    },
    {
      "cell_type": "code",
      "source": [
        "hh = tensor(H,H)\n",
        "hv = tensor(H,V)\n",
        "vh = tensor(V,H)\n",
        "vv = tensor(V,V)"
      ],
      "outputs": [],
      "execution_count": 3,
      "metadata": {}
    },
    {
      "cell_type": "code",
      "source": [
        "vv"
      ],
      "outputs": [
        {
          "output_type": "execute_result",
          "execution_count": 7,
          "data": {
            "text/latex": [
              "Quantum object: dims = [[2, 2], [1, 1]], shape = (4, 1), type = ket\\begin{equation*}\\left(\\begin{array}{*{11}c}0.0\\\\0.0\\\\0.0\\\\1.0\\\\\\end{array}\\right)\\end{equation*}"
            ],
            "text/plain": [
              "Quantum object: dims = [[2, 2], [1, 1]], shape = (4, 1), type = ket\n",
              "Qobj data =\n",
              "[[ 0.]\n",
              " [ 0.]\n",
              " [ 0.]\n",
              " [ 1.]]"
            ]
          },
          "metadata": {}
        }
      ],
      "execution_count": 7,
      "metadata": {}
    },
    {
      "cell_type": "code",
      "source": [
        "# Show these are all orthogonal:\n",
        "hh.dag()*hv"
      ],
      "outputs": [
        {
          "output_type": "execute_result",
          "execution_count": 8,
          "data": {
            "text/latex": [
              "Quantum object: dims = [[1], [1]], shape = (1, 1), type = bra\\begin{equation*}\\left(\\begin{array}{*{11}c}0.0\\\\\\end{array}\\right)\\end{equation*}"
            ],
            "text/plain": [
              "Quantum object: dims = [[1], [1]], shape = (1, 1), type = bra\n",
              "Qobj data =\n",
              "[[ 0.]]"
            ]
          },
          "metadata": {}
        }
      ],
      "execution_count": 8,
      "metadata": {}
    },
    {
      "cell_type": "code",
      "source": [
        "vh.dag()*hv"
      ],
      "outputs": [
        {
          "output_type": "execute_result",
          "execution_count": 7,
          "data": {
            "text/latex": [
              "Quantum object: dims = [[1], [1]], shape = (1, 1), type = bra\\begin{equation*}\\left(\\begin{array}{*{11}c}0.0\\\\\\end{array}\\right)\\end{equation*}"
            ],
            "text/plain": [
              "Quantum object: dims = [[1], [1]], shape = (1, 1), type = bra\n",
              "Qobj data =\n",
              "[[ 0.]]"
            ]
          },
          "metadata": {}
        }
      ],
      "execution_count": 7,
      "metadata": {}
    },
    {
      "cell_type": "code",
      "source": [
        "qeye(2)"
      ],
      "outputs": [
        {
          "output_type": "execute_result",
          "execution_count": 9,
          "data": {
            "text/latex": [
              "Quantum object: dims = [[2], [2]], shape = (2, 2), type = oper, isherm = True\\begin{equation*}\\left(\\begin{array}{*{11}c}1.0 & 0.0\\\\0.0 & 1.0\\\\\\end{array}\\right)\\end{equation*}"
            ],
            "text/plain": [
              "Quantum object: dims = [[2], [2]], shape = (2, 2), type = oper, isherm = True\n",
              "Qobj data =\n",
              "[[ 1.  0.]\n",
              " [ 0.  1.]]"
            ]
          },
          "metadata": {}
        }
      ],
      "execution_count": 9,
      "metadata": {}
    },
    {
      "cell_type": "code",
      "source": [
        "# Example 8.1\n",
        "Phv = H*H.dag() - V*V.dag() # polarization measurement\n",
        "ps_hv = tensor(Phv,qeye(2))\n",
        "pi_hv = tensor(qeye(2),Phv)\n",
        "psi_hv = tensor(Phv,Phv)\n",
        "\n",
        "print(ps_hv*tensor(V,p45) == -tensor(V,p45))\n",
        "\n",
        "print(pi_hv*tensor(V,p45) == tensor(V,m45))\n",
        "\n",
        "print(psi_hv*tensor(V,p45) == -tensor(V,m45))"
      ],
      "outputs": [
        {
          "output_type": "stream",
          "name": "stdout",
          "text": [
            "True\n",
            "True\n",
            "True\n"
          ]
        }
      ],
      "execution_count": 20,
      "metadata": {}
    },
    {
      "cell_type": "code",
      "source": [
        "# Example 8.2\n",
        "Pvh = tensor(V,H)*tensor(V,H).dag()\n",
        "expect(Pvh,tensor(R,p45))"
      ],
      "outputs": [
        {
          "output_type": "execute_result",
          "execution_count": 23,
          "data": {
            "text/plain": [
              "0.2499999999999999"
            ]
          },
          "metadata": {}
        }
      ],
      "execution_count": 23,
      "metadata": {}
    },
    {
      "cell_type": "code",
      "source": [
        "# Example 8.3\n",
        "Phi = tensor(qeye(2),H)*tensor(qeye(2),H).dag()\n",
        "expect(Phi,tensor(R,p45))"
      ],
      "outputs": [
        {
          "output_type": "execute_result",
          "execution_count": 26,
          "data": {
            "text/plain": [
              "0.4999999999999998"
            ]
          },
          "metadata": {}
        }
      ],
      "execution_count": 26,
      "metadata": {}
    },
    {
      "cell_type": "code",
      "source": [
        "# Example 8.4\n",
        "state = tensor(R,p45)\n",
        "expect(Pvh,state) / expect(Phi,state)"
      ],
      "outputs": [
        {
          "output_type": "execute_result",
          "execution_count": 27,
          "data": {
            "text/plain": [
              "0.5"
            ]
          },
          "metadata": {}
        }
      ],
      "execution_count": 27,
      "metadata": {}
    },
    {
      "cell_type": "markdown",
      "source": [
        "## Entangled states"
      ],
      "metadata": {}
    },
    {
      "cell_type": "code",
      "source": [
        "phip = 1/sqrt(2)*(tensor(H,H) + tensor(V,V))\n",
        "Phs = tensor(H,qeye(2))*tensor(H,qeye(2)).dag() \n",
        "Phi = tensor(qeye(2),H)*tensor(qeye(2),H).dag()\n",
        "Phshi = tensor(H,H)*tensor(H,H).dag()\n",
        "\n",
        "expect(Phshi,phip)/ expect(Phi,phip)"
      ],
      "outputs": [
        {
          "output_type": "execute_result",
          "execution_count": 37,
          "data": {
            "text/plain": [
              "1.0"
            ]
          },
          "metadata": {}
        }
      ],
      "execution_count": 37,
      "metadata": {}
    },
    {
      "cell_type": "code",
      "source": [
        "P_45s45i = tensor(p45,p45)*tensor(p45,p45).dag()\n",
        "P_45i = tensor(qeye(2),p45)*tensor(qeye(2),p45).dag()"
      ],
      "outputs": [],
      "execution_count": 43,
      "metadata": {}
    },
    {
      "cell_type": "code",
      "source": [
        "expect(P_45s45i,phip)/expect(P_45i,phip)"
      ],
      "outputs": [
        {
          "output_type": "execute_result",
          "execution_count": 44,
          "data": {
            "text/plain": [
              "0.9999999999999997"
            ]
          },
          "metadata": {}
        }
      ],
      "execution_count": 44,
      "metadata": {}
    },
    {
      "cell_type": "code",
      "source": [],
      "outputs": [],
      "execution_count": null,
      "metadata": {}
    }
  ],
  "metadata": {
    "kernelspec": {
      "display_name": "Python 3",
      "language": "python",
      "name": "python3"
    },
    "language_info": {
      "codemirror_mode": {
        "name": "ipython",
        "version": 3
      },
      "file_extension": ".py",
      "mimetype": "text/x-python",
      "name": "python",
      "nbconvert_exporter": "python",
      "pygments_lexer": "ipython3",
      "version": "3.7.9"
    },
    "nteract": {
      "version": "0.23.3"
    }
  },
  "nbformat": 4,
  "nbformat_minor": 4
}