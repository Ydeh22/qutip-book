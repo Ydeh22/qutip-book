{
  "cells": [
    {
      "cell_type": "markdown",
      "source": [
        "# Lab 1 - Vectors and Matrices\n",
        "This notebook demonstrates the use of vectors and matrices in IPython. Note that the basis is not explicit in any of these operations. You must keep track of the basis yourself (using variable names, or notes etc)."
      ],
      "metadata": {}
    },
    {
      "cell_type": "code",
      "source": [
        "from numpy import array, dot, outer, sqrt, matrix\n",
        "from numpy.linalg import eig, eigvals\n",
        "from matplotlib.pyplot import hist"
      ],
      "outputs": [],
      "execution_count": 4,
      "metadata": {
        "execution": {
          "iopub.status.busy": "2021-02-12T00:20:15.731Z",
          "iopub.execute_input": "2021-02-12T00:20:15.741Z",
          "shell.execute_reply": "2021-02-12T00:20:15.192Z",
          "iopub.status.idle": "2021-02-12T00:20:15.752Z"
        }
      }
    },
    {
      "cell_type": "code",
      "source": [
        "%matplotlib inline"
      ],
      "outputs": [],
      "execution_count": 5,
      "metadata": {
        "execution": {
          "shell.execute_reply": "2021-02-12T00:20:15.204Z",
          "iopub.status.busy": "2021-02-12T00:20:15.768Z",
          "iopub.execute_input": "2021-02-12T00:20:15.779Z",
          "iopub.status.idle": "2021-02-12T00:20:15.790Z"
        }
      }
    },
    {
      "cell_type": "code",
      "source": [
        "rv = array([1,2])  # a row vector\n",
        "rv"
      ],
      "outputs": [
        {
          "output_type": "execute_result",
          "execution_count": 6,
          "data": {
            "text/plain": [
              "array([1, 2])"
            ]
          },
          "metadata": {}
        }
      ],
      "execution_count": 6,
      "metadata": {
        "execution": {
          "shell.execute_reply": "2021-02-12T00:20:15.218Z",
          "iopub.status.busy": "2021-02-12T00:20:15.808Z",
          "iopub.execute_input": "2021-02-12T00:20:15.821Z",
          "iopub.status.idle": "2021-02-12T00:20:15.841Z"
        }
      }
    },
    {
      "cell_type": "code",
      "source": [
        "cv = array([[3],[4]])  # a column vector\n",
        "cv"
      ],
      "outputs": [
        {
          "output_type": "execute_result",
          "execution_count": 7,
          "data": {
            "text/plain": [
              "array([[3],\n",
              "       [4]])"
            ]
          },
          "metadata": {}
        }
      ],
      "execution_count": 7,
      "metadata": {
        "execution": {
          "iopub.status.busy": "2021-02-12T00:20:15.856Z",
          "iopub.execute_input": "2021-02-12T00:20:15.866Z",
          "iopub.status.idle": "2021-02-12T00:20:15.882Z",
          "shell.execute_reply": "2021-02-12T00:20:15.231Z"
        }
      }
    },
    {
      "cell_type": "markdown",
      "source": [
        "Two kinds of vector products we'll see: inner product (dot product) and outer product\n",
        "\n",
        "### 1) Use the function _dot(vector1, vector2)_ to find the dot product of rv and cv. Does the order of the arguments matter?"
      ],
      "metadata": {}
    },
    {
      "cell_type": "code",
      "source": [
        "dot(rv,cv)"
      ],
      "outputs": [
        {
          "output_type": "execute_result",
          "execution_count": 8,
          "data": {
            "text/plain": [
              "array([11])"
            ]
          },
          "metadata": {}
        }
      ],
      "execution_count": 8,
      "metadata": {
        "execution": {
          "shell.execute_reply": "2021-02-12T00:20:15.245Z",
          "iopub.status.busy": "2021-02-12T00:20:15.898Z",
          "iopub.execute_input": "2021-02-12T00:20:15.908Z",
          "iopub.status.idle": "2021-02-12T00:20:15.925Z"
        }
      }
    },
    {
      "cell_type": "markdown",
      "source": [
        "Try running\n",
        "\n",
        "```\n",
        "dot(cv,rv)\n",
        "```\n",
        "\n",
        "it won't work (think about why not)"
      ],
      "metadata": {
        "nteract": {
          "transient": {
            "deleting": false
          }
        }
      }
    },
    {
      "cell_type": "markdown",
      "source": [
        "### 2) Use the function _outer(vector1, vector2)_ to find the outer product of rv and cv. Does the order of the arguments matter?"
      ],
      "metadata": {}
    },
    {
      "cell_type": "code",
      "source": [
        "outer(rv,cv)"
      ],
      "outputs": [
        {
          "output_type": "execute_result",
          "execution_count": 10,
          "data": {
            "text/plain": [
              "array([[3, 4],\n",
              "       [6, 8]])"
            ]
          },
          "metadata": {}
        }
      ],
      "execution_count": 10,
      "metadata": {
        "execution": {
          "shell.execute_reply": "2021-02-12T00:20:15.272Z",
          "iopub.status.busy": "2021-02-12T00:20:15.983Z",
          "iopub.execute_input": "2021-02-12T00:20:15.992Z",
          "iopub.status.idle": "2021-02-12T00:20:16.009Z"
        }
      }
    },
    {
      "cell_type": "code",
      "source": [
        "outer(cv,rv)"
      ],
      "outputs": [
        {
          "output_type": "execute_result",
          "execution_count": 11,
          "data": {
            "text/plain": [
              "array([[3, 6],\n",
              "       [4, 8]])"
            ]
          },
          "metadata": {}
        }
      ],
      "execution_count": 11,
      "metadata": {
        "execution": {
          "shell.execute_reply": "2021-02-12T00:20:15.283Z",
          "iopub.status.busy": "2021-02-12T00:20:16.027Z",
          "iopub.execute_input": "2021-02-12T00:20:16.037Z",
          "iopub.status.idle": "2021-02-12T00:20:16.053Z"
        }
      }
    },
    {
      "cell_type": "markdown",
      "source": [
        "## II. Complex vectors"
      ],
      "metadata": {}
    },
    {
      "cell_type": "code",
      "source": [
        "# Complex numbers in python have a j term:\n",
        "a = 1+2j"
      ],
      "outputs": [],
      "execution_count": 12,
      "metadata": {
        "execution": {
          "shell.execute_reply": "2021-02-12T00:20:15.294Z",
          "iopub.status.busy": "2021-02-12T00:20:16.070Z",
          "iopub.execute_input": "2021-02-12T00:20:16.080Z",
          "iopub.status.idle": "2021-02-12T00:20:16.092Z"
        }
      }
    },
    {
      "cell_type": "code",
      "source": [
        "v1 = array([1+2j, 3+2j, 5+1j, 4+0j])"
      ],
      "outputs": [],
      "execution_count": 13,
      "metadata": {
        "execution": {
          "shell.execute_reply": "2021-02-12T00:20:15.308Z",
          "iopub.status.busy": "2021-02-12T00:20:16.108Z",
          "iopub.execute_input": "2021-02-12T00:20:16.118Z",
          "iopub.status.idle": "2021-02-12T00:20:16.129Z"
        }
      }
    },
    {
      "cell_type": "markdown",
      "source": [
        "The complex conjugate changes the sign of the imaginary part:"
      ],
      "metadata": {}
    },
    {
      "cell_type": "code",
      "source": [
        "v1.conjugate()"
      ],
      "outputs": [
        {
          "output_type": "execute_result",
          "execution_count": 14,
          "data": {
            "text/plain": [
              "array([1.-2.j, 3.-2.j, 5.-1.j, 4.-0.j])"
            ]
          },
          "metadata": {}
        }
      ],
      "execution_count": 14,
      "metadata": {
        "execution": {
          "shell.execute_reply": "2021-02-12T00:20:15.318Z",
          "iopub.status.busy": "2021-02-12T00:20:16.145Z",
          "iopub.execute_input": "2021-02-12T00:20:16.156Z",
          "iopub.status.idle": "2021-02-12T00:20:16.173Z"
        }
      }
    },
    {
      "cell_type": "markdown",
      "source": [
        "### 3) Use _dot()_ and _.conjugate()_ to find the dot product of v1 and it's own conjugate:"
      ],
      "metadata": {}
    },
    {
      "cell_type": "code",
      "source": [
        "dot(v1.conjugate(),v1)"
      ],
      "outputs": [
        {
          "output_type": "execute_result",
          "execution_count": 15,
          "data": {
            "text/plain": [
              "(60+0j)"
            ]
          },
          "metadata": {}
        }
      ],
      "execution_count": 15,
      "metadata": {
        "execution": {
          "shell.execute_reply": "2021-02-12T00:20:15.327Z",
          "iopub.status.busy": "2021-02-12T00:20:16.190Z",
          "iopub.execute_input": "2021-02-12T00:20:16.201Z",
          "iopub.status.idle": "2021-02-12T00:20:16.218Z"
        }
      }
    },
    {
      "cell_type": "markdown",
      "source": [
        "## III. Matrices"
      ],
      "metadata": {}
    },
    {
      "cell_type": "code",
      "source": [
        "# a two-dimensional array\n",
        "m1 = array([[2,1],[2,1]])\n",
        "m1"
      ],
      "outputs": [
        {
          "output_type": "execute_result",
          "execution_count": 16,
          "data": {
            "text/plain": [
              "array([[2, 1],\n",
              "       [2, 1]])"
            ]
          },
          "metadata": {}
        }
      ],
      "execution_count": 16,
      "metadata": {
        "execution": {
          "shell.execute_reply": "2021-02-12T00:20:15.344Z",
          "iopub.status.busy": "2021-02-12T00:20:16.234Z",
          "iopub.execute_input": "2021-02-12T00:20:16.244Z",
          "iopub.status.idle": "2021-02-12T00:20:16.261Z"
        }
      }
    },
    {
      "cell_type": "code",
      "source": [
        "# can find transpose with the T method:\n",
        "m1.T"
      ],
      "outputs": [
        {
          "output_type": "execute_result",
          "execution_count": 17,
          "data": {
            "text/plain": [
              "array([[2, 2],\n",
              "       [1, 1]])"
            ]
          },
          "metadata": {}
        }
      ],
      "execution_count": 17,
      "metadata": {
        "execution": {
          "shell.execute_reply": "2021-02-12T00:20:15.354Z",
          "iopub.status.busy": "2021-02-12T00:20:16.277Z",
          "iopub.execute_input": "2021-02-12T00:20:16.287Z",
          "iopub.status.idle": "2021-02-12T00:20:16.305Z"
        }
      }
    },
    {
      "cell_type": "code",
      "source": [
        "# find the eigenvalues and eigenvectors of a matrix:\n",
        "eig(m1)"
      ],
      "outputs": [
        {
          "output_type": "execute_result",
          "execution_count": 18,
          "data": {
            "text/plain": [
              "(array([3., 0.]),\n",
              " array([[ 0.70710678, -0.4472136 ],\n",
              "        [ 0.70710678,  0.89442719]]))"
            ]
          },
          "metadata": {}
        }
      ],
      "execution_count": 18,
      "metadata": {
        "execution": {
          "shell.execute_reply": "2021-02-12T00:20:15.364Z",
          "iopub.status.busy": "2021-02-12T00:20:16.321Z",
          "iopub.execute_input": "2021-02-12T00:20:16.331Z",
          "iopub.status.idle": "2021-02-12T00:20:16.349Z"
        }
      }
    },
    {
      "cell_type": "markdown",
      "source": [
        "Can also use the `matrix` type which is like array but restricts to 2D. Also, `matrix` adds `.H` and `.I` methods for hermitian and inverse, respectively. For more information, see Stack Overflow question [#4151128](http://stackoverflow.com/questions/4151128/what-are-the-differences-between-numpy-arrays-and-matrices-which-one-should-i-u)"
      ],
      "metadata": {}
    },
    {
      "cell_type": "code",
      "source": [
        "m2 = matrix( [[2,1],[2,1]])"
      ],
      "outputs": [],
      "execution_count": 19,
      "metadata": {
        "execution": {
          "shell.execute_reply": "2021-02-12T00:20:15.375Z",
          "iopub.status.busy": "2021-02-12T00:20:16.365Z",
          "iopub.execute_input": "2021-02-12T00:20:16.377Z",
          "iopub.status.idle": "2021-02-12T00:20:16.389Z"
        }
      }
    },
    {
      "cell_type": "code",
      "source": [
        "m2.H"
      ],
      "outputs": [
        {
          "output_type": "execute_result",
          "execution_count": 20,
          "data": {
            "text/plain": [
              "matrix([[2, 2],\n",
              "        [1, 1]])"
            ]
          },
          "metadata": {}
        }
      ],
      "execution_count": 20,
      "metadata": {
        "execution": {
          "shell.execute_reply": "2021-02-12T00:20:15.386Z",
          "iopub.status.busy": "2021-02-12T00:20:16.405Z",
          "iopub.execute_input": "2021-02-12T00:20:16.415Z",
          "iopub.status.idle": "2021-02-12T00:20:16.432Z"
        }
      }
    },
    {
      "cell_type": "code",
      "source": [
        "eig(m2)"
      ],
      "outputs": [
        {
          "output_type": "execute_result",
          "execution_count": 21,
          "data": {
            "text/plain": [
              "(array([3., 0.]),\n",
              " matrix([[ 0.70710678, -0.4472136 ],\n",
              "         [ 0.70710678,  0.89442719]]))"
            ]
          },
          "metadata": {}
        }
      ],
      "execution_count": 21,
      "metadata": {
        "execution": {
          "shell.execute_reply": "2021-02-12T00:20:15.397Z",
          "iopub.status.busy": "2021-02-12T00:20:16.448Z",
          "iopub.execute_input": "2021-02-12T00:20:16.459Z",
          "iopub.status.idle": "2021-02-12T00:20:16.476Z"
        }
      }
    },
    {
      "cell_type": "code",
      "source": [
        "# use a question mark to get help on a command\n",
        "eig?"
      ],
      "outputs": [],
      "execution_count": 22,
      "metadata": {
        "execution": {
          "shell.execute_reply": "2021-02-12T00:20:15.416Z",
          "iopub.status.busy": "2021-02-12T00:20:16.494Z",
          "iopub.execute_input": "2021-02-12T00:20:16.505Z",
          "iopub.status.idle": "2021-02-12T00:20:16.516Z"
        }
      }
    },
    {
      "cell_type": "markdown",
      "source": [
        "# Examples:\n",
        "## Example 1.4\n",
        "Find the eigenvalues and eigenvectors of M = ([0,1],[-2,3]])"
      ],
      "metadata": {}
    },
    {
      "cell_type": "code",
      "source": [
        "M14 = array([[0,1],[-2,3]])"
      ],
      "outputs": [],
      "execution_count": 23,
      "metadata": {
        "execution": {
          "shell.execute_reply": "2021-02-12T00:20:15.427Z",
          "iopub.status.busy": "2021-02-12T00:20:16.532Z",
          "iopub.execute_input": "2021-02-12T00:20:16.543Z",
          "iopub.status.idle": "2021-02-12T00:20:16.554Z"
        }
      }
    },
    {
      "cell_type": "code",
      "source": [
        "eig(M14)"
      ],
      "outputs": [
        {
          "output_type": "execute_result",
          "execution_count": 24,
          "data": {
            "text/plain": [
              "(array([1., 2.]),\n",
              " array([[-0.70710678, -0.4472136 ],\n",
              "        [-0.70710678, -0.89442719]]))"
            ]
          },
          "metadata": {}
        }
      ],
      "execution_count": 24,
      "metadata": {
        "execution": {
          "shell.execute_reply": "2021-02-12T00:20:15.437Z",
          "iopub.status.busy": "2021-02-12T00:20:16.570Z",
          "iopub.execute_input": "2021-02-12T00:20:16.580Z",
          "iopub.status.idle": "2021-02-12T00:20:16.598Z"
        }
      }
    },
    {
      "cell_type": "markdown",
      "source": [
        "Interpret this result:\n",
        "the two eigenvalues are 1 and 2\n",
        "the eigenvectors are strange decimals, but we can check them against the stated solution:"
      ],
      "metadata": {}
    },
    {
      "cell_type": "code",
      "source": [
        "1/sqrt(2)  # this is the value for both entries in the first eigenvector"
      ],
      "outputs": [
        {
          "output_type": "execute_result",
          "execution_count": 25,
          "data": {
            "text/plain": [
              "0.7071067811865475"
            ]
          },
          "metadata": {}
        }
      ],
      "execution_count": 25,
      "metadata": {
        "execution": {
          "shell.execute_reply": "2021-02-12T00:20:15.448Z",
          "iopub.status.busy": "2021-02-12T00:20:16.615Z",
          "iopub.execute_input": "2021-02-12T00:20:16.627Z",
          "iopub.status.idle": "2021-02-12T00:20:16.645Z"
        }
      }
    },
    {
      "cell_type": "code",
      "source": [
        "1/sqrt(5)  # this is the first value in the second eigenvector"
      ],
      "outputs": [
        {
          "output_type": "execute_result",
          "execution_count": 26,
          "data": {
            "text/plain": [
              "0.4472135954999579"
            ]
          },
          "metadata": {}
        }
      ],
      "execution_count": 26,
      "metadata": {
        "execution": {
          "shell.execute_reply": "2021-02-12T00:20:15.459Z",
          "iopub.status.busy": "2021-02-12T00:20:16.660Z",
          "iopub.execute_input": "2021-02-12T00:20:16.671Z",
          "iopub.status.idle": "2021-02-12T00:20:16.688Z"
        }
      }
    },
    {
      "cell_type": "code",
      "source": [
        "2/sqrt(5)  # this is the second value in the second eigenvector"
      ],
      "outputs": [
        {
          "output_type": "execute_result",
          "execution_count": 27,
          "data": {
            "text/plain": [
              "0.8944271909999159"
            ]
          },
          "metadata": {}
        }
      ],
      "execution_count": 27,
      "metadata": {
        "execution": {
          "shell.execute_reply": "2021-02-12T00:20:15.470Z",
          "iopub.status.busy": "2021-02-12T00:20:16.704Z",
          "iopub.execute_input": "2021-02-12T00:20:16.714Z",
          "iopub.status.idle": "2021-02-12T00:20:16.731Z"
        }
      }
    },
    {
      "cell_type": "code",
      "source": [
        "eigvals(M14)"
      ],
      "outputs": [
        {
          "output_type": "execute_result",
          "execution_count": 28,
          "data": {
            "text/plain": [
              "array([1., 2.])"
            ]
          },
          "metadata": {}
        }
      ],
      "execution_count": 28,
      "metadata": {
        "execution": {
          "shell.execute_reply": "2021-02-12T00:20:15.481Z",
          "iopub.status.busy": "2021-02-12T00:20:16.747Z",
          "iopub.execute_input": "2021-02-12T00:20:16.758Z",
          "iopub.status.idle": "2021-02-12T00:20:16.776Z"
        }
      }
    },
    {
      "cell_type": "markdown",
      "source": [
        "Signs are opposite compared to the book, but it turns out that (-) doesn't matter in the interpretation of eigenvectors: only \"direction\" matters (the relative size of the entries)."
      ],
      "metadata": {}
    },
    {
      "cell_type": "markdown",
      "source": [
        "## Example: Problem 1.16 using Ipython functions"
      ],
      "metadata": {}
    },
    {
      "cell_type": "code",
      "source": [
        "M16 = array([[0,-1j],[1j,0]])"
      ],
      "outputs": [],
      "execution_count": 29,
      "metadata": {
        "execution": {
          "shell.execute_reply": "2021-02-12T00:20:15.492Z",
          "iopub.status.busy": "2021-02-12T00:20:16.792Z",
          "iopub.execute_input": "2021-02-12T00:20:16.804Z",
          "iopub.status.idle": "2021-02-12T00:20:16.815Z"
        }
      }
    },
    {
      "cell_type": "code",
      "source": [
        "evals, evecs = eig(M16)"
      ],
      "outputs": [],
      "execution_count": 30,
      "metadata": {
        "execution": {
          "shell.execute_reply": "2021-02-12T00:20:15.502Z",
          "iopub.status.busy": "2021-02-12T00:20:16.831Z",
          "iopub.execute_input": "2021-02-12T00:20:16.842Z",
          "iopub.status.idle": "2021-02-12T00:20:16.853Z"
        }
      }
    },
    {
      "cell_type": "code",
      "source": [
        "evecs"
      ],
      "outputs": [
        {
          "output_type": "execute_result",
          "execution_count": 31,
          "data": {
            "text/plain": [
              "array([[-0.        -0.70710678j,  0.70710678+0.j        ],\n",
              "       [ 0.70710678+0.j        ,  0.        -0.70710678j]])"
            ]
          },
          "metadata": {}
        }
      ],
      "execution_count": 31,
      "metadata": {
        "execution": {
          "shell.execute_reply": "2021-02-12T00:20:15.512Z",
          "iopub.status.busy": "2021-02-12T00:20:16.869Z",
          "iopub.execute_input": "2021-02-12T00:20:16.879Z",
          "iopub.status.idle": "2021-02-12T00:20:16.896Z"
        }
      }
    },
    {
      "cell_type": "code",
      "source": [
        "evecs[:,0]"
      ],
      "outputs": [
        {
          "output_type": "execute_result",
          "execution_count": 32,
          "data": {
            "text/plain": [
              "array([-0.        -0.70710678j,  0.70710678+0.j        ])"
            ]
          },
          "metadata": {}
        }
      ],
      "execution_count": 32,
      "metadata": {
        "execution": {
          "shell.execute_reply": "2021-02-12T00:20:15.523Z",
          "iopub.status.busy": "2021-02-12T00:20:16.913Z",
          "iopub.execute_input": "2021-02-12T00:20:16.924Z",
          "iopub.status.idle": "2021-02-12T00:20:16.942Z"
        }
      }
    },
    {
      "cell_type": "code",
      "source": [
        "evecs[:,1]"
      ],
      "outputs": [
        {
          "output_type": "execute_result",
          "execution_count": 33,
          "data": {
            "text/plain": [
              "array([0.70710678+0.j        , 0.        -0.70710678j])"
            ]
          },
          "metadata": {}
        }
      ],
      "execution_count": 33,
      "metadata": {
        "execution": {
          "shell.execute_reply": "2021-02-12T00:20:15.532Z",
          "iopub.status.busy": "2021-02-12T00:20:16.957Z",
          "iopub.execute_input": "2021-02-12T00:20:16.968Z",
          "iopub.status.idle": "2021-02-12T00:20:16.984Z"
        }
      }
    },
    {
      "cell_type": "code",
      "source": [
        "dot(evecs[:,0].conjugate(),evecs[:,1])"
      ],
      "outputs": [
        {
          "output_type": "execute_result",
          "execution_count": 34,
          "data": {
            "text/plain": [
              "-1.6653345369377348e-16j"
            ]
          },
          "metadata": {}
        }
      ],
      "execution_count": 34,
      "metadata": {
        "execution": {
          "shell.execute_reply": "2021-02-12T00:20:15.543Z",
          "iopub.status.busy": "2021-02-12T00:20:17.001Z",
          "iopub.execute_input": "2021-02-12T00:20:17.012Z",
          "iopub.status.idle": "2021-02-12T00:20:17.029Z"
        }
      }
    },
    {
      "cell_type": "markdown",
      "source": [
        "# Part 2: Using QuTiP\n",
        "Keeping track of row and column vectors in Ipython is somewhat artificial and tedious. The QuTiP library is designed to take care of many of these headaches"
      ],
      "metadata": {}
    },
    {
      "cell_type": "code",
      "source": [
        "from qutip import *"
      ],
      "outputs": [],
      "execution_count": 35,
      "metadata": {
        "execution": {
          "shell.execute_reply": "2021-02-12T00:20:15.553Z",
          "iopub.status.busy": "2021-02-12T00:20:17.046Z",
          "iopub.execute_input": "2021-02-12T00:20:17.057Z",
          "iopub.status.idle": "2021-02-12T00:20:17.069Z"
        }
      }
    },
    {
      "cell_type": "code",
      "source": [
        "# Create a row vector:\n",
        "qv = Qobj([[1,2]])\n",
        "qv"
      ],
      "outputs": [
        {
          "output_type": "execute_result",
          "execution_count": 36,
          "data": {
            "text/plain": [
              "Quantum object: dims = [[1], [2]], shape = (1, 2), type = bra\n",
              "Qobj data =\n",
              "[[1. 2.]]"
            ],
            "text/latex": [
              "Quantum object: dims = [[1], [2]], shape = (1, 2), type = bra\\begin{equation*}\\left(\\begin{array}{*{11}c}1.0 & 2.0\\\\\\end{array}\\right)\\end{equation*}"
            ]
          },
          "metadata": {}
        }
      ],
      "execution_count": 36,
      "metadata": {
        "execution": {
          "shell.execute_reply": "2021-02-12T00:20:15.563Z",
          "iopub.status.busy": "2021-02-12T00:20:17.085Z",
          "iopub.execute_input": "2021-02-12T00:20:17.095Z",
          "iopub.status.idle": "2021-02-12T00:20:17.121Z"
        }
      }
    },
    {
      "cell_type": "code",
      "source": [
        "# Find the corresponding column vector\n",
        "qv.dag()"
      ],
      "outputs": [
        {
          "output_type": "execute_result",
          "execution_count": 37,
          "data": {
            "text/plain": [
              "Quantum object: dims = [[2], [1]], shape = (2, 1), type = ket\n",
              "Qobj data =\n",
              "[[1.]\n",
              " [2.]]"
            ],
            "text/latex": [
              "Quantum object: dims = [[2], [1]], shape = (2, 1), type = ket\\begin{equation*}\\left(\\begin{array}{*{11}c}1.0\\\\2.0\\\\\\end{array}\\right)\\end{equation*}"
            ]
          },
          "metadata": {}
        }
      ],
      "execution_count": 37,
      "metadata": {
        "execution": {
          "shell.execute_reply": "2021-02-12T00:20:15.574Z",
          "iopub.status.busy": "2021-02-12T00:20:17.137Z",
          "iopub.execute_input": "2021-02-12T00:20:17.148Z",
          "iopub.status.idle": "2021-02-12T00:20:17.169Z"
        }
      }
    },
    {
      "cell_type": "code",
      "source": [
        "qv2 = Qobj([[1+2j,4-1j]])\n",
        "qv2"
      ],
      "outputs": [
        {
          "output_type": "execute_result",
          "execution_count": 38,
          "data": {
            "text/plain": [
              "Quantum object: dims = [[1], [2]], shape = (1, 2), type = bra\n",
              "Qobj data =\n",
              "[[1.+2.j 4.-1.j]]"
            ],
            "text/latex": [
              "Quantum object: dims = [[1], [2]], shape = (1, 2), type = bra\\begin{equation*}\\left(\\begin{array}{*{11}c}(1.0+2.0j) & (4.0-1.0j)\\\\\\end{array}\\right)\\end{equation*}"
            ]
          },
          "metadata": {}
        }
      ],
      "execution_count": 38,
      "metadata": {
        "execution": {
          "shell.execute_reply": "2021-02-12T00:20:15.583Z",
          "iopub.status.busy": "2021-02-12T00:20:17.186Z",
          "iopub.execute_input": "2021-02-12T00:20:17.198Z",
          "iopub.status.idle": "2021-02-12T00:20:17.222Z"
        }
      }
    },
    {
      "cell_type": "code",
      "source": [
        "qv2.dag()"
      ],
      "outputs": [
        {
          "output_type": "execute_result",
          "execution_count": 39,
          "data": {
            "text/plain": [
              "Quantum object: dims = [[2], [1]], shape = (2, 1), type = ket\n",
              "Qobj data =\n",
              "[[1.-2.j]\n",
              " [4.+1.j]]"
            ],
            "text/latex": [
              "Quantum object: dims = [[2], [1]], shape = (2, 1), type = ket\\begin{equation*}\\left(\\begin{array}{*{11}c}(1.0-2.0j)\\\\(4.0+1.0j)\\\\\\end{array}\\right)\\end{equation*}"
            ]
          },
          "metadata": {}
        }
      ],
      "execution_count": 39,
      "metadata": {
        "execution": {
          "shell.execute_reply": "2021-02-12T00:20:15.595Z",
          "iopub.status.busy": "2021-02-12T00:20:17.238Z",
          "iopub.execute_input": "2021-02-12T00:20:17.249Z",
          "iopub.status.idle": "2021-02-12T00:20:17.272Z"
        }
      }
    },
    {
      "cell_type": "markdown",
      "source": [
        "## Vector products in QuTiP\n",
        "Only need to know one operator: \"\\*\"\n",
        "The product will depend on the order, either inner or outer"
      ],
      "metadata": {}
    },
    {
      "cell_type": "code",
      "source": [
        "qv2*qv2.dag()  # inner product (dot product)"
      ],
      "outputs": [
        {
          "output_type": "execute_result",
          "execution_count": 40,
          "data": {
            "text/plain": [
              "Quantum object: dims = [[1], [1]], shape = (1, 1), type = bra\n",
              "Qobj data =\n",
              "[[22.]]"
            ],
            "text/latex": [
              "Quantum object: dims = [[1], [1]], shape = (1, 1), type = bra\\begin{equation*}\\left(\\begin{array}{*{11}c}22.0\\\\\\end{array}\\right)\\end{equation*}"
            ]
          },
          "metadata": {}
        }
      ],
      "execution_count": 40,
      "metadata": {
        "execution": {
          "shell.execute_reply": "2021-02-12T00:20:15.605Z",
          "iopub.status.busy": "2021-02-12T00:20:17.289Z",
          "iopub.execute_input": "2021-02-12T00:20:17.300Z",
          "iopub.status.idle": "2021-02-12T00:20:17.322Z"
        }
      }
    },
    {
      "cell_type": "code",
      "source": [
        "qv2.dag()*qv2  # outer product"
      ],
      "outputs": [
        {
          "output_type": "execute_result",
          "execution_count": 41,
          "data": {
            "text/plain": [
              "Quantum object: dims = [[2], [2]], shape = (2, 2), type = oper, isherm = True\n",
              "Qobj data =\n",
              "[[ 5.+0.j  2.-9.j]\n",
              " [ 2.+9.j 17.+0.j]]"
            ],
            "text/latex": [
              "Quantum object: dims = [[2], [2]], shape = (2, 2), type = oper, isherm = True\\begin{equation*}\\left(\\begin{array}{*{11}c}5.0 & (2.0-9.0j)\\\\(2.0+9.0j) & 17.0\\\\\\end{array}\\right)\\end{equation*}"
            ]
          },
          "metadata": {}
        }
      ],
      "execution_count": 41,
      "metadata": {
        "execution": {
          "shell.execute_reply": "2021-02-12T00:20:15.616Z",
          "iopub.status.busy": "2021-02-12T00:20:17.339Z",
          "iopub.execute_input": "2021-02-12T00:20:17.351Z",
          "iopub.status.idle": "2021-02-12T00:20:17.374Z"
        }
      }
    },
    {
      "cell_type": "markdown",
      "source": [
        "## Matrix in QuTiP"
      ],
      "metadata": {}
    },
    {
      "cell_type": "code",
      "source": [
        "qm = Qobj([[1,2],[2,1]])\n",
        "qm"
      ],
      "outputs": [
        {
          "output_type": "execute_result",
          "execution_count": 42,
          "data": {
            "text/plain": [
              "Quantum object: dims = [[2], [2]], shape = (2, 2), type = oper, isherm = True\n",
              "Qobj data =\n",
              "[[1. 2.]\n",
              " [2. 1.]]"
            ],
            "text/latex": [
              "Quantum object: dims = [[2], [2]], shape = (2, 2), type = oper, isherm = True\\begin{equation*}\\left(\\begin{array}{*{11}c}1.0 & 2.0\\\\2.0 & 1.0\\\\\\end{array}\\right)\\end{equation*}"
            ]
          },
          "metadata": {}
        }
      ],
      "execution_count": 42,
      "metadata": {
        "execution": {
          "shell.execute_reply": "2021-02-12T00:20:15.626Z",
          "iopub.status.busy": "2021-02-12T00:20:17.390Z",
          "iopub.execute_input": "2021-02-12T00:20:17.400Z",
          "iopub.status.idle": "2021-02-12T00:20:17.422Z"
        }
      }
    },
    {
      "cell_type": "code",
      "source": [
        "qm.eigenenergies()  # in quantum (as we will learn) eigenvalues often correspond to energy levels"
      ],
      "outputs": [
        {
          "output_type": "execute_result",
          "execution_count": 43,
          "data": {
            "text/plain": [
              "array([-1.,  3.])"
            ]
          },
          "metadata": {}
        }
      ],
      "execution_count": 43,
      "metadata": {
        "execution": {
          "shell.execute_reply": "2021-02-12T00:20:15.638Z",
          "iopub.status.busy": "2021-02-12T00:20:17.438Z",
          "iopub.execute_input": "2021-02-12T00:20:17.449Z",
          "iopub.status.idle": "2021-02-12T00:20:17.466Z"
        }
      }
    },
    {
      "cell_type": "code",
      "source": [
        "evals, evecs = qm.eigenstates()"
      ],
      "outputs": [],
      "execution_count": 44,
      "metadata": {
        "execution": {
          "shell.execute_reply": "2021-02-12T00:20:15.648Z",
          "iopub.status.busy": "2021-02-12T00:20:17.483Z",
          "iopub.execute_input": "2021-02-12T00:20:17.495Z",
          "iopub.status.idle": "2021-02-12T00:20:17.506Z"
        }
      }
    },
    {
      "cell_type": "code",
      "source": [
        "evecs"
      ],
      "outputs": [
        {
          "output_type": "execute_result",
          "execution_count": 45,
          "data": {
            "text/plain": [
              "array([Quantum object: dims = [[2], [1]], shape = (2, 1), type = ket\n",
              "Qobj data =\n",
              "[[-0.70710678]\n",
              " [ 0.70710678]],\n",
              "       Quantum object: dims = [[2], [1]], shape = (2, 1), type = ket\n",
              "Qobj data =\n",
              "[[0.70710678]\n",
              " [0.70710678]]], dtype=object)"
            ]
          },
          "metadata": {}
        }
      ],
      "execution_count": 45,
      "metadata": {
        "execution": {
          "shell.execute_reply": "2021-02-12T00:20:15.659Z",
          "iopub.status.busy": "2021-02-12T00:20:17.523Z",
          "iopub.execute_input": "2021-02-12T00:20:17.534Z",
          "iopub.status.idle": "2021-02-12T00:20:17.551Z"
        }
      }
    },
    {
      "cell_type": "code",
      "source": [
        "evecs[1]"
      ],
      "outputs": [
        {
          "output_type": "execute_result",
          "execution_count": 46,
          "data": {
            "text/plain": [
              "Quantum object: dims = [[2], [1]], shape = (2, 1), type = ket\n",
              "Qobj data =\n",
              "[[0.70710678]\n",
              " [0.70710678]]"
            ],
            "text/latex": [
              "Quantum object: dims = [[2], [1]], shape = (2, 1), type = ket\\begin{equation*}\\left(\\begin{array}{*{11}c}0.707\\\\0.707\\\\\\end{array}\\right)\\end{equation*}"
            ]
          },
          "metadata": {}
        }
      ],
      "execution_count": 46,
      "metadata": {
        "execution": {
          "shell.execute_reply": "2021-02-12T00:20:15.668Z",
          "iopub.status.busy": "2021-02-12T00:20:17.567Z",
          "iopub.execute_input": "2021-02-12T00:20:17.578Z",
          "iopub.status.idle": "2021-02-12T00:20:17.600Z"
        }
      }
    },
    {
      "cell_type": "markdown",
      "source": [
        "# Practice:"
      ],
      "metadata": {}
    },
    {
      "cell_type": "markdown",
      "source": [
        "## Problem 1.2 using the _hist()_ function.\n",
        "Create a histogram of the data and from it estimate the probability distribution. Use min and max values for the range of 5 and 14, and use 5 bins (5 and 6 go in the first bin)."
      ],
      "metadata": {}
    },
    {
      "cell_type": "code",
      "source": [
        "# Solution\n",
        "data = [10,13,14,14,6,8,7,9,12,14,13,11,10,7,7]\n",
        "# Fill in the hist() function:\n",
        "n, bins, patches = hist(data, bins=9, range=(5,14))"
      ],
      "outputs": [
        {
          "output_type": "display_data",
          "data": {
            "text/plain": [
              "<Figure size 432x288 with 1 Axes>"
            ],
            "image/png": "[encoded data removed]"
          },
          "metadata": {
            "needs_background": "light"
          }
        }
      ],
      "execution_count": 47,
      "metadata": {
        "execution": {
          "shell.execute_reply": "2021-02-12T00:20:15.679Z",
          "iopub.status.busy": "2021-02-12T00:20:17.617Z",
          "iopub.execute_input": "2021-02-12T00:20:17.629Z",
          "iopub.status.idle": "2021-02-12T00:20:17.648Z"
        }
      }
    },
    {
      "cell_type": "code",
      "source": [
        "bins+0.5"
      ],
      "outputs": [
        {
          "output_type": "execute_result",
          "execution_count": 48,
          "data": {
            "text/plain": [
              "array([ 5.5,  6.5,  7.5,  8.5,  9.5, 10.5, 11.5, 12.5, 13.5, 14.5])"
            ]
          },
          "metadata": {}
        }
      ],
      "execution_count": 48,
      "metadata": {
        "execution": {
          "shell.execute_reply": "2021-02-12T00:20:15.689Z",
          "iopub.status.busy": "2021-02-12T00:20:17.664Z",
          "iopub.execute_input": "2021-02-12T00:20:17.675Z",
          "iopub.status.idle": "2021-02-12T00:20:17.694Z"
        }
      }
    },
    {
      "cell_type": "code",
      "source": [
        "# Solution\n",
        "hist?"
      ],
      "outputs": [],
      "execution_count": 49,
      "metadata": {
        "execution": {
          "shell.execute_reply": "2021-02-12T00:20:15.704Z",
          "iopub.status.busy": "2021-02-12T00:20:17.712Z",
          "iopub.execute_input": "2021-02-12T00:20:17.723Z",
          "iopub.status.idle": "2021-02-12T00:20:17.735Z"
        }
      }
    },
    {
      "cell_type": "code",
      "source": [
        "# Solution\n"
      ],
      "outputs": [],
      "execution_count": 50,
      "metadata": {
        "execution": {
          "shell.execute_reply": "2021-02-12T00:20:15.714Z",
          "iopub.status.busy": "2021-02-12T00:20:17.751Z",
          "iopub.execute_input": "2021-02-12T00:20:17.762Z",
          "iopub.status.idle": "2021-02-12T00:20:17.774Z"
        }
      }
    },
    {
      "cell_type": "markdown",
      "source": [
        "## Problem 1.8\n",
        "Find the constant $c$ that normalizes the probability density:\n",
        "$$p(x) =\n",
        "\\begin{cases}\n",
        "ce^{-ax},  & x \\geq 0 \\\\[2ex]\n",
        "0 & x < 0\n",
        "\\end{cases}\n",
        "$$\n",
        "\n",
        "**Hint:** using sympy, we can calculate the relevant integral. The conds='none' asks the solver to ignore any strange conditions on the variables in the integral. This is fine for most of our integrals. Usually the variables are real and well-behaved numbers."
      ],
      "metadata": {}
    },
    {
      "cell_type": "markdown",
      "source": [
        "Paste this partial solution into a cell, and fill in the rest\n",
        "\n",
        "```\n",
        "# Partial Solution:\n",
        "from sympy import *\n",
        "c,a,x = symbols(\"c a x\")\n",
        "Q.positive((c,a))\n",
        "first = integrate( ... ,(x,0,oo),conds='none')\n",
        "\n",
        "# put the function in for the ...\n",
        "```\n",
        "\n",
        "Then check the solution by integrating:\n",
        "\n",
        "```\n",
        "check = integrate( ... ,(x,0,oo),conds='none')\n",
        "```"
      ],
      "metadata": {
        "nteract": {
          "transient": {
            "deleting": false
          }
        }
      }
    }
  ],
  "metadata": {
    "kernelspec": {
      "display_name": "Python 3",
      "language": "python",
      "name": "python3"
    },
    "language_info": {
      "name": "python",
      "version": "3.7.9",
      "mimetype": "text/x-python",
      "codemirror_mode": {
        "name": "ipython",
        "version": 3
      },
      "pygments_lexer": "ipython3",
      "nbconvert_exporter": "python",
      "file_extension": ".py"
    },
    "nteract": {
      "version": "0.23.3"
    }
  },
  "nbformat": 4,
  "nbformat_minor": 4
}